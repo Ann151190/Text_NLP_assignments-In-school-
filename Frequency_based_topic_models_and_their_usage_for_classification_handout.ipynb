{
  "nbformat": 4,
  "nbformat_minor": 0,
  "metadata": {
    "colab": {
      "name": "Frequency_based_topic_models_and_their_usage_for_classification_handout.ipynb",
      "provenance": [],
      "collapsed_sections": []
    },
    "kernelspec": {
      "display_name": "Python 3",
      "language": "python",
      "name": "python3"
    },
    "language_info": {
      "codemirror_mode": {
        "name": "ipython",
        "version": 3
      },
      "file_extension": ".py",
      "mimetype": "text/x-python",
      "name": "python",
      "nbconvert_exporter": "python",
      "pygments_lexer": "ipython3",
      "version": "3.6.8"
    },
    "toc": {
      "base_numbering": 1,
      "nav_menu": {},
      "number_sections": true,
      "sideBar": true,
      "skip_h1_title": false,
      "title_cell": "Table of Contents",
      "title_sidebar": "Contents",
      "toc_cell": false,
      "toc_position": {},
      "toc_section_display": true,
      "toc_window_display": false
    },
    "varInspector": {
      "cols": {
        "lenName": 16,
        "lenType": 16,
        "lenVar": 40
      },
      "kernels_config": {
        "python": {
          "delete_cmd_postfix": "",
          "delete_cmd_prefix": "del ",
          "library": "var_list.py",
          "varRefreshCmd": "print(var_dic_list())"
        },
        "r": {
          "delete_cmd_postfix": ") ",
          "delete_cmd_prefix": "rm(",
          "library": "var_list.r",
          "varRefreshCmd": "cat(var_dic_list()) "
        }
      },
      "types_to_exclude": [
        "module",
        "function",
        "builtin_function_or_method",
        "instance",
        "_Feature"
      ],
      "window_display": false
    }
  },
  "cells": [
    {
      "cell_type": "markdown",
      "metadata": {
        "colab_type": "text",
        "id": "LJVjZcS0nbxe"
      },
      "source": [
        "# Constructing an LDA model with spaCy and Gensim"
      ]
    },
    {
      "cell_type": "code",
      "metadata": {
        "ExecuteTime": {
          "end_time": "2019-11-26T07:57:56.805869Z",
          "start_time": "2019-11-26T07:57:51.932585Z"
        },
        "colab_type": "code",
        "id": "OiQBAJ-Qnbxl",
        "colab": {}
      },
      "source": [
        "%%capture\n",
        "!pip install spacy gensim pprint\n",
        "!python -m spacy download en_core_web_sm\n",
        "!pip install pyldavis wordcloud bokeh"
      ],
      "execution_count": 0,
      "outputs": []
    },
    {
      "cell_type": "markdown",
      "metadata": {
        "colab_type": "text",
        "id": "Lh_VJC7cDpDb"
      },
      "source": [
        "Initial imports"
      ]
    },
    {
      "cell_type": "code",
      "metadata": {
        "ExecuteTime": {
          "end_time": "2019-11-26T07:57:57.882444Z",
          "start_time": "2019-11-26T07:57:56.813496Z"
        },
        "colab_type": "code",
        "id": "k_vaMzMYnbx1",
        "colab": {
          "base_uri": "https://localhost:8080/",
          "height": 71
        },
        "outputId": "11b9e337-9258-4714-d169-0ad0dd853276"
      },
      "source": [
        "import pandas as pd\n",
        "import numpy as np \n",
        "from pprint import pprint\n",
        "\n",
        "import gensim, spacy, logging, warnings\n",
        "from gensim import corpora\n",
        "import pyLDAvis\n",
        "\n",
        "%matplotlib inline\n",
        "warnings.filterwarnings(\"ignore\",category=DeprecationWarning)\n",
        "logging.basicConfig(format='%(asctime)s : %(levelname)s : %(message)s', level=logging.ERROR)"
      ],
      "execution_count": 2,
      "outputs": [
        {
          "output_type": "stream",
          "text": [
            "/usr/local/lib/python3.6/dist-packages/_pytest/mark/structures.py:426: DeprecationWarning: The usage of `cmp` is deprecated and will be removed on or after 2021-06-01.  Please use `eq` and `order` instead.\n",
            "  @attr.s(cmp=False, hash=False)\n"
          ],
          "name": "stderr"
        }
      ]
    },
    {
      "cell_type": "markdown",
      "metadata": {
        "colab_type": "text",
        "id": "1sJgp-1KSJ7k"
      },
      "source": [
        "We start with importing our data set into a Pandas dataframe"
      ]
    },
    {
      "cell_type": "code",
      "metadata": {
        "ExecuteTime": {
          "end_time": "2019-11-26T07:58:00.286317Z",
          "start_time": "2019-11-26T07:57:57.883701Z"
        },
        "colab_type": "code",
        "id": "JgvI5qWEnbyI",
        "outputId": "740eb643-9fcc-4249-b968-e8fc64b5b512",
        "colab": {
          "base_uri": "https://localhost:8080/",
          "height": 204
        }
      },
      "source": [
        "# Import Dataset\n",
        "df = pd.read_json('https://raw.githubusercontent.com/selva86/datasets/master/newsgroups.json')\n",
        "df.head()"
      ],
      "execution_count": 3,
      "outputs": [
        {
          "output_type": "execute_result",
          "data": {
            "text/html": [
              "<div>\n",
              "<style scoped>\n",
              "    .dataframe tbody tr th:only-of-type {\n",
              "        vertical-align: middle;\n",
              "    }\n",
              "\n",
              "    .dataframe tbody tr th {\n",
              "        vertical-align: top;\n",
              "    }\n",
              "\n",
              "    .dataframe thead th {\n",
              "        text-align: right;\n",
              "    }\n",
              "</style>\n",
              "<table border=\"1\" class=\"dataframe\">\n",
              "  <thead>\n",
              "    <tr style=\"text-align: right;\">\n",
              "      <th></th>\n",
              "      <th>content</th>\n",
              "      <th>target</th>\n",
              "      <th>target_names</th>\n",
              "    </tr>\n",
              "  </thead>\n",
              "  <tbody>\n",
              "    <tr>\n",
              "      <th>0</th>\n",
              "      <td>From: lerxst@wam.umd.edu (where's my thing)\\nS...</td>\n",
              "      <td>7</td>\n",
              "      <td>rec.autos</td>\n",
              "    </tr>\n",
              "    <tr>\n",
              "      <th>1</th>\n",
              "      <td>From: guykuo@carson.u.washington.edu (Guy Kuo)...</td>\n",
              "      <td>4</td>\n",
              "      <td>comp.sys.mac.hardware</td>\n",
              "    </tr>\n",
              "    <tr>\n",
              "      <th>2</th>\n",
              "      <td>From: twillis@ec.ecn.purdue.edu (Thomas E Will...</td>\n",
              "      <td>4</td>\n",
              "      <td>comp.sys.mac.hardware</td>\n",
              "    </tr>\n",
              "    <tr>\n",
              "      <th>3</th>\n",
              "      <td>From: jgreen@amber (Joe Green)\\nSubject: Re: W...</td>\n",
              "      <td>1</td>\n",
              "      <td>comp.graphics</td>\n",
              "    </tr>\n",
              "    <tr>\n",
              "      <th>4</th>\n",
              "      <td>From: jcm@head-cfa.harvard.edu (Jonathan McDow...</td>\n",
              "      <td>14</td>\n",
              "      <td>sci.space</td>\n",
              "    </tr>\n",
              "  </tbody>\n",
              "</table>\n",
              "</div>"
            ],
            "text/plain": [
              "                                             content  ...           target_names\n",
              "0  From: lerxst@wam.umd.edu (where's my thing)\\nS...  ...              rec.autos\n",
              "1  From: guykuo@carson.u.washington.edu (Guy Kuo)...  ...  comp.sys.mac.hardware\n",
              "2  From: twillis@ec.ecn.purdue.edu (Thomas E Will...  ...  comp.sys.mac.hardware\n",
              "3  From: jgreen@amber (Joe Green)\\nSubject: Re: W...  ...          comp.graphics\n",
              "4  From: jcm@head-cfa.harvard.edu (Jonathan McDow...  ...              sci.space\n",
              "\n",
              "[5 rows x 3 columns]"
            ]
          },
          "metadata": {
            "tags": []
          },
          "execution_count": 3
        }
      ]
    },
    {
      "cell_type": "code",
      "metadata": {
        "ExecuteTime": {
          "end_time": "2019-11-26T07:58:00.291252Z",
          "start_time": "2019-11-26T07:58:00.288358Z"
        },
        "colab_type": "code",
        "id": "zeO9ZwLlnbyU",
        "outputId": "1031e988-956c-4caf-c18a-5fa18342815d",
        "colab": {
          "base_uri": "https://localhost:8080/",
          "height": 34
        }
      },
      "source": [
        "df.shape"
      ],
      "execution_count": 4,
      "outputs": [
        {
          "output_type": "execute_result",
          "data": {
            "text/plain": [
              "(11314, 3)"
            ]
          },
          "metadata": {
            "tags": []
          },
          "execution_count": 4
        }
      ]
    },
    {
      "cell_type": "code",
      "metadata": {
        "ExecuteTime": {
          "end_time": "2019-11-26T07:58:00.308971Z",
          "start_time": "2019-11-26T07:58:00.293222Z"
        },
        "colab_type": "code",
        "id": "rwI9a57xnbye",
        "outputId": "bcbadb99-85df-4d28-c4e6-82b33ea95191",
        "colab": {
          "base_uri": "https://localhost:8080/",
          "height": 221
        }
      },
      "source": [
        "df.drop(columns=[\"target\"], inplace=True)\n",
        "df = df.loc[df.target_names.isin(['soc.religion.christian', 'rec.sport.hockey', 'talk.politics.mideast', 'rec.motorcycles']) , :].reset_index()\n",
        "print(df.shape)\n",
        "df.head()"
      ],
      "execution_count": 5,
      "outputs": [
        {
          "output_type": "stream",
          "text": [
            "(2361, 3)\n"
          ],
          "name": "stdout"
        },
        {
          "output_type": "execute_result",
          "data": {
            "text/html": [
              "<div>\n",
              "<style scoped>\n",
              "    .dataframe tbody tr th:only-of-type {\n",
              "        vertical-align: middle;\n",
              "    }\n",
              "\n",
              "    .dataframe tbody tr th {\n",
              "        vertical-align: top;\n",
              "    }\n",
              "\n",
              "    .dataframe thead th {\n",
              "        text-align: right;\n",
              "    }\n",
              "</style>\n",
              "<table border=\"1\" class=\"dataframe\">\n",
              "  <thead>\n",
              "    <tr style=\"text-align: right;\">\n",
              "      <th></th>\n",
              "      <th>index</th>\n",
              "      <th>content</th>\n",
              "      <th>target_names</th>\n",
              "    </tr>\n",
              "  </thead>\n",
              "  <tbody>\n",
              "    <tr>\n",
              "      <th>0</th>\n",
              "      <td>10</td>\n",
              "      <td>From: irwin@cmptrc.lonestar.org (Irwin Arnstei...</td>\n",
              "      <td>rec.motorcycles</td>\n",
              "    </tr>\n",
              "    <tr>\n",
              "      <th>1</th>\n",
              "      <td>21</td>\n",
              "      <td>From: leunggm@odin.control.utoronto.ca (Gary L...</td>\n",
              "      <td>rec.sport.hockey</td>\n",
              "    </tr>\n",
              "    <tr>\n",
              "      <th>2</th>\n",
              "      <td>28</td>\n",
              "      <td>From: jonh@david.wheaton.edu (Jonathan Hayward...</td>\n",
              "      <td>soc.religion.christian</td>\n",
              "    </tr>\n",
              "    <tr>\n",
              "      <th>3</th>\n",
              "      <td>33</td>\n",
              "      <td>From: ayr1@cunixa.cc.columbia.edu (Amir Y Rose...</td>\n",
              "      <td>talk.politics.mideast</td>\n",
              "    </tr>\n",
              "    <tr>\n",
              "      <th>4</th>\n",
              "      <td>35</td>\n",
              "      <td>From: dchhabra@stpl.ists.ca (Deepak Chhabra)\\n...</td>\n",
              "      <td>rec.sport.hockey</td>\n",
              "    </tr>\n",
              "  </tbody>\n",
              "</table>\n",
              "</div>"
            ],
            "text/plain": [
              "   index  ...            target_names\n",
              "0     10  ...         rec.motorcycles\n",
              "1     21  ...        rec.sport.hockey\n",
              "2     28  ...  soc.religion.christian\n",
              "3     33  ...   talk.politics.mideast\n",
              "4     35  ...        rec.sport.hockey\n",
              "\n",
              "[5 rows x 3 columns]"
            ]
          },
          "metadata": {
            "tags": []
          },
          "execution_count": 5
        }
      ]
    },
    {
      "cell_type": "markdown",
      "metadata": {
        "colab_type": "text",
        "id": "BzXNoE92S2bK"
      },
      "source": [
        "Before starting, we extend the stopword list of the English spaCy model with some domain-specific ones."
      ]
    },
    {
      "cell_type": "code",
      "metadata": {
        "ExecuteTime": {
          "end_time": "2019-11-26T07:58:00.814756Z",
          "start_time": "2019-11-26T07:58:00.311910Z"
        },
        "colab_type": "code",
        "id": "MI6JzQOwnbx_",
        "colab": {}
      },
      "source": [
        "nlp = spacy.load(\"en_core_web_sm\", disable=['parser', 'ner'])\n",
        "\n",
        "nlp.Defaults.stop_words.update(['from', 'subject', 're', 'edu', 'use', 'not', \n",
        "                               'would', 'say', 'could', '_', 'be', 'know', 'good', \n",
        "                               'go', 'get', 'do', 'done', 'try', 'many', 'some',\n",
        "                               'nice', 'thank', 'think', 'see', 'rather', 'easy', 'easily',\n",
        "                               'lot', 'lack', 'make', 'want', 'seem', 'run', 'need', 'even',\n",
        "                               'right', 'line', 'even', 'also', 'may', 'take', 'come'])"
      ],
      "execution_count": 0,
      "outputs": []
    },
    {
      "cell_type": "markdown",
      "metadata": {
        "colab_type": "text",
        "id": "Jzl2DqR1TTcM"
      },
      "source": [
        "First processing round: we tokenize, filter out non-alphabetic and too short or long tokens and lowercase.\n"
      ]
    },
    {
      "cell_type": "code",
      "metadata": {
        "ExecuteTime": {
          "end_time": "2019-11-26T07:58:47.926013Z",
          "start_time": "2019-11-26T07:58:00.816184Z"
        },
        "colab_type": "code",
        "id": "gDchxfWvnbyk",
        "outputId": "94b92ef4-c009-4473-dd5c-f62da10c594c",
        "colab": {
          "base_uri": "https://localhost:8080/",
          "height": 88
        }
      },
      "source": [
        "%%time\n",
        "MIN_WORD_LEN = 2\n",
        "MAX_WORD_LEN = 15\n",
        "\n",
        "def text_to_words(text):\n",
        "    \"\"\"Tokenize a text and do some prefiltering for n-gram processing.\n",
        "    Please take the lowercased form of a token (after spacy analysis of text), \n",
        "    if it is not a number (consists of only letters), and it's character length is between the min and the max\n",
        "    \"\"\"\n",
        "    doc = nlp(text)\n",
        "    token = []\n",
        "    for i in doc:\n",
        "      if MIN_WORD_LEN <= len(i) <= MAX_WORD_LEN and i.is_alpha == True:\n",
        "        token.append(i.lower_)\n",
        "    return token\n",
        "\n",
        "texts = df.content.values.tolist()\n",
        "texts_words = [text_to_words(text) for text in texts]\n",
        "print(texts_words[:1])"
      ],
      "execution_count": 7,
      "outputs": [
        {
          "output_type": "stream",
          "text": [
            "[['from', 'irwin', 'arnstein', 'subject', 're', 'recommendation', 'on', 'duc', 'summary', 'what', 'it', 'worth', 'distribution', 'usa', 'expires', 'sat', 'may', 'gmt', 'organization', 'computrac', 'richardson', 'tx', 'keywords', 'ducati', 'gts', 'how', 'much', 'lines', 'have', 'line', 'on', 'ducati', 'model', 'with', 'on', 'the', 'clock', 'runs', 'very', 'well', 'paint', 'is', 'the', 'bronze', 'brown', 'orange', 'faded', 'out', 'leaks', 'bit', 'of', 'oil', 'and', 'pops', 'out', 'of', 'with', 'hard', 'accel', 'the', 'shop', 'will', 'fix', 'trans', 'and', 'oil', 'leak', 'they', 'sold', 'the', 'bike', 'to', 'the', 'and', 'only', 'owner', 'they', 'want', 'and', 'am', 'thinking', 'more', 'like', 'any', 'opinions', 'out', 'there', 'please', 'email', 'me', 'thanks', 'it', 'would', 'be', 'nice', 'stable', 'mate', 'to', 'the', 'beemer', 'then', 'get', 'jap', 'bike', 'and', 'call', 'myself', 'axis', 'motors', 'tuba', 'irwin', 'honk', 'therefore', 'am', 'computrac', 'richardson', 'tx', 'dod']]\n",
            "CPU times: user 43.3 s, sys: 746 ms, total: 44 s\n",
            "Wall time: 44.1 s\n"
          ],
          "name": "stdout"
        }
      ]
    },
    {
      "cell_type": "markdown",
      "metadata": {
        "colab_type": "text",
        "id": "bjHxNuOYgKy-"
      },
      "source": [
        "Merge bi-, tri- and four-gram collocations with Gensim"
      ]
    },
    {
      "cell_type": "code",
      "metadata": {
        "ExecuteTime": {
          "end_time": "2019-11-26T07:59:02.175610Z",
          "start_time": "2019-11-26T07:58:47.928632Z"
        },
        "colab_type": "code",
        "id": "_Ali9tuGnbys",
        "outputId": "6d198f79-0e6d-4c1a-a8c9-a785e728c3f6",
        "colab": {
          "base_uri": "https://localhost:8080/",
          "height": 85
        }
      },
      "source": [
        "%%time\n",
        "# Build the bigram and trigram models\n",
        "# The minimum occurency of a bigram phrase should be 5\n",
        "# Both the bigram and trigram phrases should have the threshold 100\n",
        "bigram_phrases = gensim.models.Phrases(texts_words, min_count=5, threshold=100) #You should operate on text_phrases here\n",
        "trigram_phrases = gensim.models.Phrases(bigram_phrases[texts_words], threshold=100) # You should use the previously defined bigram_phrases to \"look up\" text_phrases again\n",
        "\n",
        "# This is a kind of technical pruning only.\n",
        "bigram_phraser = gensim.models.phrases.Phraser(bigram_phrases)\n",
        "trigram_phraser = gensim.models.phrases.Phraser(trigram_phrases)"
      ],
      "execution_count": 8,
      "outputs": [
        {
          "output_type": "stream",
          "text": [
            "/usr/local/lib/python3.6/dist-packages/gensim/models/phrases.py:598: UserWarning: For a faster implementation, use the gensim.models.phrases.Phraser class\n",
            "  warnings.warn(\"For a faster implementation, use the gensim.models.phrases.Phraser class\")\n"
          ],
          "name": "stderr"
        },
        {
          "output_type": "stream",
          "text": [
            "CPU times: user 10.5 s, sys: 28.5 ms, total: 10.5 s\n",
            "Wall time: 10.5 s\n"
          ],
          "name": "stdout"
        }
      ]
    },
    {
      "cell_type": "code",
      "metadata": {
        "ExecuteTime": {
          "end_time": "2019-11-26T07:59:06.227070Z",
          "start_time": "2019-11-26T07:59:02.177359Z"
        },
        "colab_type": "code",
        "id": "x4uc0Ng1nbyz",
        "colab": {}
      },
      "source": [
        "# Apply the n-gram models to the data\n",
        "texts_words = [trigram_phraser[bigram_phraser[words]] for words in texts_words]"
      ],
      "execution_count": 0,
      "outputs": []
    },
    {
      "cell_type": "markdown",
      "metadata": {
        "colab_type": "text",
        "id": "YlrStopXgpaG"
      },
      "source": [
        "Having merged the collocations, we do another (final) round of filtering on the basis of stopwords and POS-tags, and lemmatize all tokens."
      ]
    },
    {
      "cell_type": "code",
      "metadata": {
        "ExecuteTime": {
          "end_time": "2019-11-26T07:59:33.598159Z",
          "start_time": "2019-11-26T07:59:06.229025Z"
        },
        "colab_type": "code",
        "id": "17UZacVLnby6",
        "outputId": "b8d036a4-eef3-4c18-b093-525d102a7414",
        "colab": {
          "base_uri": "https://localhost:8080/",
          "height": 88
        }
      },
      "source": [
        "%%time\n",
        "# Now we use spacy to filter based on stopwords, POS-tags and lemmatize\n",
        "\n",
        "filtered_texts_lemmas = []\n",
        "\n",
        "for words in texts_words:\n",
        "    doc = spacy.tokens.Doc(nlp.vocab, words=words)\n",
        "    tagged = nlp.get_pipe(\"tagger\")(doc)\n",
        "    allowed_tags = ['NOUN', 'ADJ', 'VERB', 'ADV']\n",
        "    # Please filter again, and keep only the lemma of tokens which are non stopwords and are either 'NOUN', 'ADJ', 'VERB' or 'ADV\n",
        "    # with regards to their part of speech tags\n",
        "    lemmas = [token.lemma_ for token in tagged if token.pos_ in allowed_tags and token.is_stop == False] # you can do  this with a list comprehension or a for cycle, up to you\n",
        "    filtered_texts_lemmas.append(lemmas)\n",
        "\n",
        "print(filtered_texts_lemmas[0])"
      ],
      "execution_count": 10,
      "outputs": [
        {
          "output_type": "stream",
          "text": [
            "['irwin', 'arnstein', 'recommendation', 'duc', 'summary', 'worth', 'expire', 'sat', 'gmt', 'organization', 'computrac_richardson_tx', 'keyword', 'ducati', 'gt', 'line', 'ducati', 'model', 'clock', 'run', 'paint', 'bronze', 'brown', 'orange', 'fade', 'leak', 'bit', 'oil', 'pop', 'hard', 'accel', 'shop', 'fix', 'tran', 'oil', 'leak', 'sell', 'bike', 'owner', 'think', 'opinion', 'email', 'thank', 'stable', 'mate', 'beemer', 'jap', 'bike', 'axis', 'motor', 'tuba', 'irwin', 'honk', 'computrac_richardson_tx', 'dod']\n",
            "CPU times: user 27 s, sys: 245 ms, total: 27.2 s\n",
            "Wall time: 27.2 s\n"
          ],
          "name": "stdout"
        }
      ]
    },
    {
      "cell_type": "markdown",
      "metadata": {
        "colab_type": "text",
        "id": "eAjPzzC1iLk0"
      },
      "source": [
        "Time to build the LDA model!"
      ]
    },
    {
      "cell_type": "code",
      "metadata": {
        "ExecuteTime": {
          "end_time": "2019-11-26T08:00:01.294724Z",
          "start_time": "2019-11-26T07:59:33.600945Z"
        },
        "colab_type": "code",
        "id": "JJUfx2_ZnbzD",
        "colab": {}
      },
      "source": [
        "%%capture\n",
        "# Create Dictionary\n",
        "id2word = corpora.Dictionary(filtered_texts_lemmas) #create a Gensim dictionary from the final \"filtered_texts_lemmas\"\n",
        "\n",
        "id2word.filter_extremes(keep_n = 5000) # use a function of the dictionary to filter out the \"extremes\", meaning: keep only 5000 elements.\n",
        "\n",
        "# Create Corpus: Term Document Frequency\n",
        "corpus = [id2word.doc2bow(words) for words in filtered_texts_lemmas]\n",
        "\n",
        "# Build LDA model with the corpus, the dictionary mapping and 4 topics! (All other parameters we have given...)\n",
        "lda_model = gensim.models.ldamodel.LdaModel(corpus,num_topics= 4,\n",
        "                                           update_every=1,id2word = id2word,random_state = 100,\n",
        "                                           chunksize=100,\n",
        "                                           passes=20,\n",
        "                                           alpha='auto',\n",
        "                                           iterations=400,\n",
        "                                           per_word_topics=True)"
      ],
      "execution_count": 0,
      "outputs": []
    },
    {
      "cell_type": "code",
      "metadata": {
        "ExecuteTime": {
          "end_time": "2019-11-26T08:00:01.302542Z",
          "start_time": "2019-11-26T08:00:01.296856Z"
        },
        "colab_type": "code",
        "id": "DrKjqaOkhZfd",
        "outputId": "593c2472-e6b6-4768-de89-98ac0fdce5a0",
        "colab": {
          "base_uri": "https://localhost:8080/",
          "height": 289
        }
      },
      "source": [
        "pprint(lda_model.print_topics())"
      ],
      "execution_count": 23,
      "outputs": [
        {
          "output_type": "stream",
          "text": [
            "[(0,\n",
            "  '0.013*\"bike\" + 0.008*\"go\" + 0.007*\"time\" + 0.007*\"look\" + 0.007*\"get\" + '\n",
            "  '0.007*\"ride\" + 0.006*\"thing\" + 0.005*\"new\" + 0.005*\"university\" + '\n",
            "  '0.005*\"see\"'),\n",
            " (1,\n",
            "  '0.014*\"armenian\" + 0.012*\"say\" + 0.012*\"people\" + 0.008*\"kill\" + 0.007*\"go\" '\n",
            "  '+ 0.007*\"greek\" + 0.006*\"government\" + 0.006*\"turk\" + 0.005*\"turkish\" + '\n",
            "  '0.005*\"tell\"'),\n",
            " (2,\n",
            "  '0.018*\"god\" + 0.011*\"people\" + 0.010*\"israel\" + 0.009*\"christian\" + '\n",
            "  '0.009*\"believe\" + 0.008*\"israeli\" + 0.006*\"question\" + 0.006*\"say\" + '\n",
            "  '0.006*\"reason\" + 0.005*\"church\"'),\n",
            " (3,\n",
            "  '0.027*\"team\" + 0.022*\"game\" + 0.015*\"hockey\" + 0.014*\"play\" + '\n",
            "  '0.012*\"player\" + 0.012*\"win\" + 0.011*\"year\" + 0.010*\"nhl\" + '\n",
            "  '0.008*\"university\" + 0.007*\"season\"')]\n"
          ],
          "name": "stdout"
        }
      ]
    },
    {
      "cell_type": "markdown",
      "metadata": {
        "colab_type": "text",
        "id": "oUJJJF2rirHK"
      },
      "source": [
        "# Inference and visualizations"
      ]
    },
    {
      "cell_type": "markdown",
      "metadata": {
        "colab_type": "text",
        "id": "x0Dk_eM2nbzM"
      },
      "source": [
        "### Dominant topic and its percentage in documents"
      ]
    },
    {
      "cell_type": "code",
      "metadata": {
        "ExecuteTime": {
          "end_time": "2019-11-26T08:00:10.758116Z",
          "start_time": "2019-11-26T08:00:01.305054Z"
        },
        "colab_type": "code",
        "id": "HxxmULaEnbzP",
        "outputId": "5464837f-9097-46b8-bad4-ffeb66bdf400",
        "colab": {
          "base_uri": "https://localhost:8080/",
          "height": 359
        }
      },
      "source": [
        "texts_topics_df = pd.DataFrame()\n",
        "\n",
        "# Get main topic in each document\n",
        "for topic_probs, text in zip(lda_model.get_document_topics(corpus), filtered_texts_lemmas):\n",
        "    topic_num, topic_prob = max(topic_probs, key=lambda x: x[1])\n",
        "    wp = lda_model.show_topic(topic_num)\n",
        "    topic_keywords = \", \".join([word for word, _ in wp])\n",
        "    texts_topics_df = texts_topics_df.append(pd.Series([topic_num, round(topic_prob,4), topic_keywords, text]), ignore_index=True)\n",
        "\n",
        "texts_topics_df.columns = [\"topic_no\", \"topic_ratio\", \"keywords\", \"text\"]\n",
        "texts_topics_df[\"topic_no\"]=texts_topics_df.topic_no.astype(\"int\")\n",
        "texts_topics_df.head(10)"
      ],
      "execution_count": 24,
      "outputs": [
        {
          "output_type": "execute_result",
          "data": {
            "text/html": [
              "<div>\n",
              "<style scoped>\n",
              "    .dataframe tbody tr th:only-of-type {\n",
              "        vertical-align: middle;\n",
              "    }\n",
              "\n",
              "    .dataframe tbody tr th {\n",
              "        vertical-align: top;\n",
              "    }\n",
              "\n",
              "    .dataframe thead th {\n",
              "        text-align: right;\n",
              "    }\n",
              "</style>\n",
              "<table border=\"1\" class=\"dataframe\">\n",
              "  <thead>\n",
              "    <tr style=\"text-align: right;\">\n",
              "      <th></th>\n",
              "      <th>topic_no</th>\n",
              "      <th>topic_ratio</th>\n",
              "      <th>keywords</th>\n",
              "      <th>text</th>\n",
              "    </tr>\n",
              "  </thead>\n",
              "  <tbody>\n",
              "    <tr>\n",
              "      <th>0</th>\n",
              "      <td>0</td>\n",
              "      <td>0.9517</td>\n",
              "      <td>bike, go, time, look, get, ride, thing, new, u...</td>\n",
              "      <td>[irwin, arnstein, recommendation, duc, summary...</td>\n",
              "    </tr>\n",
              "    <tr>\n",
              "      <th>1</th>\n",
              "      <td>3</td>\n",
              "      <td>0.8356</td>\n",
              "      <td>team, game, hockey, play, player, win, year, n...</td>\n",
              "      <td>[gary, leung, nhl_team_captains, organization,...</td>\n",
              "    </tr>\n",
              "    <tr>\n",
              "      <th>2</th>\n",
              "      <td>2</td>\n",
              "      <td>0.6628</td>\n",
              "      <td>god, people, israel, christian, believe, israe...</td>\n",
              "      <td>[jonathan, hayward, pantheism, organization, w...</td>\n",
              "    </tr>\n",
              "    <tr>\n",
              "      <th>3</th>\n",
              "      <td>1</td>\n",
              "      <td>0.6905</td>\n",
              "      <td>armenian, say, people, kill, go, greek, govern...</td>\n",
              "      <td>[amir_rosenblatt, nntp_posting_host, reply, am...</td>\n",
              "    </tr>\n",
              "    <tr>\n",
              "      <th>4</th>\n",
              "      <td>0</td>\n",
              "      <td>0.5838</td>\n",
              "      <td>bike, go, time, look, get, ride, thing, new, u...</td>\n",
              "      <td>[deepak_chhabra, goalie_mask, organization, so...</td>\n",
              "    </tr>\n",
              "    <tr>\n",
              "      <th>5</th>\n",
              "      <td>0</td>\n",
              "      <td>0.7135</td>\n",
              "      <td>bike, go, time, look, get, ride, thing, new, u...</td>\n",
              "      <td>[joe, ehrlich, bmw_moa_member, read, organizat...</td>\n",
              "    </tr>\n",
              "    <tr>\n",
              "      <th>6</th>\n",
              "      <td>0</td>\n",
              "      <td>0.8280</td>\n",
              "      <td>bike, go, time, look, get, ride, thing, new, u...</td>\n",
              "      <td>[chris_behanna, require, organization, line, a...</td>\n",
              "    </tr>\n",
              "    <tr>\n",
              "      <th>7</th>\n",
              "      <td>0</td>\n",
              "      <td>0.7651</td>\n",
              "      <td>bike, go, time, look, get, ride, thing, new, u...</td>\n",
              "      <td>[speedy_mercer, look, movie, bike, organizatio...</td>\n",
              "    </tr>\n",
              "    <tr>\n",
              "      <th>8</th>\n",
              "      <td>2</td>\n",
              "      <td>0.9626</td>\n",
              "      <td>god, people, israel, christian, believe, israe...</td>\n",
              "      <td>[sabbath_admission, organization, florida_stat...</td>\n",
              "    </tr>\n",
              "    <tr>\n",
              "      <th>9</th>\n",
              "      <td>1</td>\n",
              "      <td>0.8958</td>\n",
              "      <td>armenian, say, people, kill, go, greek, govern...</td>\n",
              "      <td>[uucp_serdar_argic, day, night, armenian, roun...</td>\n",
              "    </tr>\n",
              "  </tbody>\n",
              "</table>\n",
              "</div>"
            ],
            "text/plain": [
              "   topic_no  ...                                               text\n",
              "0         0  ...  [irwin, arnstein, recommendation, duc, summary...\n",
              "1         3  ...  [gary, leung, nhl_team_captains, organization,...\n",
              "2         2  ...  [jonathan, hayward, pantheism, organization, w...\n",
              "3         1  ...  [amir_rosenblatt, nntp_posting_host, reply, am...\n",
              "4         0  ...  [deepak_chhabra, goalie_mask, organization, so...\n",
              "5         0  ...  [joe, ehrlich, bmw_moa_member, read, organizat...\n",
              "6         0  ...  [chris_behanna, require, organization, line, a...\n",
              "7         0  ...  [speedy_mercer, look, movie, bike, organizatio...\n",
              "8         2  ...  [sabbath_admission, organization, florida_stat...\n",
              "9         1  ...  [uucp_serdar_argic, day, night, armenian, roun...\n",
              "\n",
              "[10 rows x 4 columns]"
            ]
          },
          "metadata": {
            "tags": []
          },
          "execution_count": 24
        }
      ]
    },
    {
      "cell_type": "markdown",
      "metadata": {
        "colab_type": "text",
        "id": "fONOESC5nbzr"
      },
      "source": [
        "### Wordcloud of the most important keywords in each topic"
      ]
    },
    {
      "cell_type": "code",
      "metadata": {
        "ExecuteTime": {
          "end_time": "2019-11-26T08:00:15.517750Z",
          "start_time": "2019-11-26T08:00:10.760991Z"
        },
        "colab_type": "code",
        "id": "qRGLGQMUnbzu",
        "outputId": "fdf121fb-814a-4c87-987b-c333e5f79348",
        "colab": {
          "base_uri": "https://localhost:8080/",
          "height": 625
        }
      },
      "source": [
        "# 1. Wordcloud of Top N words in each topic\n",
        "from matplotlib import pyplot as plt\n",
        "from wordcloud import WordCloud\n",
        "import matplotlib.colors as mcolors\n",
        "\n",
        "cols = [color for name, color in mcolors.TABLEAU_COLORS.items()]  # more colors: 'mcolors.XKCD_COLORS'\n",
        "\n",
        "cloud = WordCloud(stopwords=nlp.Defaults.stop_words,\n",
        "                  background_color='white',\n",
        "                  width=2500,\n",
        "                  height=1800,\n",
        "                  max_words=10,\n",
        "                  colormap='tab10',\n",
        "                  color_func=lambda *args, **kwargs: cols[i],\n",
        "                  prefer_horizontal=1.0)\n",
        "\n",
        "topics = lda_model.show_topics(formatted=False, num_words=10)\n",
        "\n",
        "fig, axes = plt.subplots(2, 2, figsize=(10,10), sharex=True, sharey=True)\n",
        "\n",
        "for i, ax in enumerate(axes.flatten()):\n",
        "    fig.add_subplot(ax)\n",
        "    topic_words = dict(topics[i][1])\n",
        "    cloud.generate_from_frequencies(topic_words, max_font_size=300)\n",
        "    plt.gca().imshow(cloud)\n",
        "    plt.gca().set_title('Topic ' + str(i), fontdict=dict(size=16))\n",
        "    plt.gca().axis('off')\n",
        "\n",
        "\n",
        "plt.subplots_adjust(wspace=0, hspace=0)\n",
        "plt.axis('off')\n",
        "plt.margins(x=0, y=0)\n",
        "plt.tight_layout()\n",
        "plt.show()"
      ],
      "execution_count": 25,
      "outputs": [
        {
          "output_type": "display_data",
          "data": {
            "image/png": "[encoded data removed]",
            "text/plain": [
              "<Figure size 720x720 with 4 Axes>"
            ]
          },
          "metadata": {
            "tags": []
          }
        }
      ]
    },
    {
      "cell_type": "markdown",
      "metadata": {
        "id": "VbU-5G3ZUedT",
        "colab_type": "text"
      },
      "source": [
        "**Important:**\n",
        "\n",
        "Please bear in mind, that topics can come up in random order, so a mapping between the original labels and LDA's topic numbers is non-trivial! **You have to observe the topics, and try to come up with a mapping / interpretation of them!!** \n",
        "\n",
        "(Naturally, in a \"normal\", unlabeled dataset this in itself is a question, since you do not know the topics upfront.)"
      ]
    },
    {
      "cell_type": "code",
      "metadata": {
        "id": "0_foe6OgUedT",
        "colab_type": "code",
        "colab": {}
      },
      "source": [
        "# Assign numbers to the topics!\n",
        "\n",
        "topic_to_label_mapping={\n",
        "                        \"rec.motorcycles\": 0, \n",
        "                        \"talk.politics.mideast\": 1, \n",
        "                        \"soc.religion.christian\": 2, \n",
        "                        \"rec.sport.hockey\": 3\n",
        "                        }\n",
        "\n",
        "#....#Just put this line here to halt the notebook, so you don't skip this. Remove if done! "
      ],
      "execution_count": 0,
      "outputs": []
    },
    {
      "cell_type": "markdown",
      "metadata": {
        "ExecuteTime": {
          "end_time": "2019-11-08T13:47:50.285933Z",
          "start_time": "2019-11-08T13:47:50.283938Z"
        },
        "colab_type": "text",
        "id": "SBBuza1znbz9"
      },
      "source": [
        "### Sentence and word coloring by topic\n",
        "\n",
        "Please observe the results!"
      ]
    },
    {
      "cell_type": "code",
      "metadata": {
        "ExecuteTime": {
          "end_time": "2019-11-26T08:00:17.532818Z",
          "start_time": "2019-11-26T08:00:15.520443Z"
        },
        "colab_type": "code",
        "id": "Qeh3vOVPnbz_",
        "outputId": "edca3d33-940e-48fc-d1b3-5b32627de5ab",
        "colab": {
          "base_uri": "https://localhost:8080/",
          "height": 1000
        }
      },
      "source": [
        "# Sentence Coloring of N Sentences\n",
        "# For simplicity\n",
        "from matplotlib.patches import Rectangle\n",
        "\n",
        "def sentences_chart(lda_model=lda_model, corpus=corpus, start = 0, end = 13):\n",
        "    corp = corpus[start:end]\n",
        "    mycolors = [color for _, color in mcolors.TABLEAU_COLORS.items()]\n",
        "\n",
        "    fig, axes = plt.subplots(end-start, 1, figsize=(9, (end-start)*0.6), dpi=160)       \n",
        "    axes[0].axis('off')\n",
        "    for i, ax in enumerate(axes):\n",
        "        if i > 0:\n",
        "            corp_cur = corp[i-1] \n",
        "            topic_percs, wordid_topics, wordid_phivalues = lda_model.get_document_topics(corp_cur, per_word_topics=True)\n",
        "            word_dominanttopic = [(lda_model.id2word[wd], topic[0]) for wd, topic in wordid_topics]\n",
        "            ax.text(0.01, 0.5, \"Doc \" + str(i-1) + \": \", verticalalignment='center',\n",
        "                    fontsize=6, color='black', transform=ax.transAxes, fontweight=300)\n",
        "\n",
        "            # Draw Rectange\n",
        "            topic_percs_sorted = sorted(topic_percs, key=lambda x: (x[1]), reverse=True)\n",
        "            ax.add_patch(Rectangle((0.0, 0.05), 0.98, 0.9, fill=None, alpha=1, \n",
        "                                   color=mycolors[topic_percs_sorted[0][0]], linewidth=2))\n",
        "\n",
        "            word_pos = 0.06\n",
        "            for j, (word, topics) in enumerate(word_dominanttopic):\n",
        "                if j < 14:\n",
        "                    ax.text(word_pos, 0.5, word,\n",
        "                            horizontalalignment='left',\n",
        "                            verticalalignment='center',\n",
        "                            fontsize=7, color=mycolors[topics],\n",
        "                            transform=ax.transAxes, fontweight=300)\n",
        "                    word_pos += .009 * len(word)  # to move the word for the next iter\n",
        "                    ax.axis('off')\n",
        "            ax.text(word_pos, 0.5, '. . .',\n",
        "                    horizontalalignment='left',\n",
        "                    verticalalignment='center',\n",
        "                    fontsize=7, color='black',\n",
        "                    transform=ax.transAxes)       \n",
        "\n",
        "    plt.subplots_adjust(wspace=0, hspace=0)\n",
        "    plt.suptitle('Sentence topic coloring for documents ' + str(start) + ' to ' + str(end-2), fontsize=16, y=0.95, fontweight=300)\n",
        "    plt.tight_layout()\n",
        "    plt.show()\n",
        "\n",
        "sentences_chart()    "
      ],
      "execution_count": 28,
      "outputs": [
        {
          "output_type": "display_data",
          "data": {
            "image/png": "[encoded data removed]",
            "text/plain": [
              "<Figure size 1440x1248 with 13 Axes>"
            ]
          },
          "metadata": {
            "tags": []
          }
        }
      ]
    },
    {
      "cell_type": "markdown",
      "metadata": {
        "colab_type": "text",
        "id": "4-5ivymrnb0a"
      },
      "source": [
        "### t-SNE visualisation of the documents\n"
      ]
    },
    {
      "cell_type": "code",
      "metadata": {
        "ExecuteTime": {
          "end_time": "2019-11-26T08:00:30.212417Z",
          "start_time": "2019-11-26T08:00:17.535880Z"
        },
        "colab_type": "code",
        "id": "Sr9uG3Menb0c",
        "outputId": "ca076aa7-bf83-45cb-a0af-859460e583c7",
        "colab": {
          "base_uri": "https://localhost:8080/",
          "height": 853
        }
      },
      "source": [
        "from sklearn.manifold import TSNE\n",
        "from bokeh.plotting import figure, output_file, show\n",
        "from bokeh.models import Label\n",
        "from bokeh.io import output_notebook\n",
        "\n",
        "topic_probs = []\n",
        "\n",
        "# Get the topic probabilities for the whole corpus from the model\n",
        "for probs in lda_model.get_document_topics(corpus, minimum_probability=-1): # minimum_probability=-1 to always get all probs\n",
        "    topic_probs.append([prob for _, prob in probs])\n",
        "\n",
        "# Topic probs df\n",
        "df_topic_probs = pd.DataFrame(topic_probs, columns=[\"topic_0_prob\", \"topic_1_prob\", \"topic_2_prob\", \"topic_3_prob\"])\n",
        "\n",
        "# Topic weights NumPy array\n",
        "arr = df_topic_probs.values\n",
        "\n",
        "# Keep the well separated points (optional)\n",
        "# arr = arr[np.amax(arr, axis=1) > 0.35]\n",
        "\n",
        "# Dominant topic number in each doc\n",
        "topic_num = np.argmax(arr, axis=1)\n",
        "\n",
        "# Fit a tSNE model\n",
        "tsne_model = TSNE(n_components=2, verbose=1, random_state=0, angle=.99, init='pca')\n",
        "tsne_lda = tsne_model.fit_transform(arr)\n",
        "\n",
        "# Plot the Topic Clusters using Bokeh\n",
        "output_notebook()\n",
        "n_topics = 4\n",
        "mycolors = np.array([color for name, color in mcolors.TABLEAU_COLORS.items()])\n",
        "plot = figure(title=\"t-SNE Clustering of {} LDA Topics\".format(n_topics), \n",
        "              plot_width=900, plot_height=700)\n",
        "plot.scatter(x=tsne_lda[:,0], y=tsne_lda[:,1], color=mycolors[topic_num])\n",
        "show(plot);"
      ],
      "execution_count": 37,
      "outputs": [
        {
          "output_type": "stream",
          "text": [
            "[t-SNE] Computing 91 nearest neighbors...\n",
            "[t-SNE] Indexed 2361 samples in 0.001s...\n",
            "[t-SNE] Computed neighbors for 2361 samples in 0.046s...\n",
            "[t-SNE] Computed conditional probabilities for sample 1000 / 2361\n",
            "[t-SNE] Computed conditional probabilities for sample 2000 / 2361\n",
            "[t-SNE] Computed conditional probabilities for sample 2361 / 2361\n",
            "[t-SNE] Mean sigma: 0.024633\n",
            "[t-SNE] KL divergence after 1000 iterations: 0.561893\n"
          ],
          "name": "stdout"
        },
        {
          "output_type": "display_data",
          "data": {
            "application/javascript": [
              "\n",
              "(function(root) {\n",
              "  function now() {\n",
              "    return new Date();\n",
              "  }\n",
              "\n",
              "  var force = true;\n",
              "\n",
              "  if (typeof (root._bokeh_onload_callbacks) === \"undefined\" || force === true) {\n",
              "    root._bokeh_onload_callbacks = [];\n",
              "    root._bokeh_is_loading = undefined;\n",
              "  }\n",
              "\n",
              "  var JS_MIME_TYPE = 'application/javascript';\n",
              "  var HTML_MIME_TYPE = 'text/html';\n",
              "  var EXEC_MIME_TYPE = 'application/vnd.bokehjs_exec.v0+json';\n",
              "  var CLASS_NAME = 'output_bokeh rendered_html';\n",
              "\n",
              "  /**\n",
              "   * Render data to the DOM node\n",
              "   */\n",
              "  function render(props, node) {\n",
              "    var script = document.createElement(\"script\");\n",
              "    node.appendChild(script);\n",
              "  }\n",
              "\n",
              "  /**\n",
              "   * Handle when an output is cleared or removed\n",
              "   */\n",
              "  function handleClearOutput(event, handle) {\n",
              "    var cell = handle.cell;\n",
              "\n",
              "    var id = cell.output_area._bokeh_element_id;\n",
              "    var server_id = cell.output_area._bokeh_server_id;\n",
              "    // Clean up Bokeh references\n",
              "    if (id != null && id in Bokeh.index) {\n",
              "      Bokeh.index[id].model.document.clear();\n",
              "      delete Bokeh.index[id];\n",
              "    }\n",
              "\n",
              "    if (server_id !== undefined) {\n",
              "      // Clean up Bokeh references\n",
              "      var cmd = \"from bokeh.io.state import curstate; print(curstate().uuid_to_server['\" + server_id + \"'].get_sessions()[0].document.roots[0]._id)\";\n",
              "      cell.notebook.kernel.execute(cmd, {\n",
              "        iopub: {\n",
              "          output: function(msg) {\n",
              "            var id = msg.content.text.trim();\n",
              "            if (id in Bokeh.index) {\n",
              "              Bokeh.index[id].model.document.clear();\n",
              "              delete Bokeh.index[id];\n",
              "            }\n",
              "          }\n",
              "        }\n",
              "      });\n",
              "      // Destroy server and session\n",
              "      var cmd = \"import bokeh.io.notebook as ion; ion.destroy_server('\" + server_id + \"')\";\n",
              "      cell.notebook.kernel.execute(cmd);\n",
              "    }\n",
              "  }\n",
              "\n",
              "  /**\n",
              "   * Handle when a new output is added\n",
              "   */\n",
              "  function handleAddOutput(event, handle) {\n",
              "    var output_area = handle.output_area;\n",
              "    var output = handle.output;\n",
              "\n",
              "    // limit handleAddOutput to display_data with EXEC_MIME_TYPE content only\n",
              "    if ((output.output_type != \"display_data\") || (!output.data.hasOwnProperty(EXEC_MIME_TYPE))) {\n",
              "      return\n",
              "    }\n",
              "\n",
              "    var toinsert = output_area.element.find(\".\" + CLASS_NAME.split(' ')[0]);\n",
              "\n",
              "    if (output.metadata[EXEC_MIME_TYPE][\"id\"] !== undefined) {\n",
              "      toinsert[toinsert.length - 1].firstChild.textContent = output.data[JS_MIME_TYPE];\n",
              "      // store reference to embed id on output_area\n",
              "      output_area._bokeh_element_id = output.metadata[EXEC_MIME_TYPE][\"id\"];\n",
              "    }\n",
              "    if (output.metadata[EXEC_MIME_TYPE][\"server_id\"] !== undefined) {\n",
              "      var bk_div = document.createElement(\"div\");\n",
              "      bk_div.innerHTML = output.data[HTML_MIME_TYPE];\n",
              "      var script_attrs = bk_div.children[0].attributes;\n",
              "      for (var i = 0; i < script_attrs.length; i++) {\n",
              "        toinsert[toinsert.length - 1].firstChild.setAttribute(script_attrs[i].name, script_attrs[i].value);\n",
              "      }\n",
              "      // store reference to server id on output_area\n",
              "      output_area._bokeh_server_id = output.metadata[EXEC_MIME_TYPE][\"server_id\"];\n",
              "    }\n",
              "  }\n",
              "\n",
              "  function register_renderer(events, OutputArea) {\n",
              "\n",
              "    function append_mime(data, metadata, element) {\n",
              "      // create a DOM node to render to\n",
              "      var toinsert = this.create_output_subarea(\n",
              "        metadata,\n",
              "        CLASS_NAME,\n",
              "        EXEC_MIME_TYPE\n",
              "      );\n",
              "      this.keyboard_manager.register_events(toinsert);\n",
              "      // Render to node\n",
              "      var props = {data: data, metadata: metadata[EXEC_MIME_TYPE]};\n",
              "      render(props, toinsert[toinsert.length - 1]);\n",
              "      element.append(toinsert);\n",
              "      return toinsert\n",
              "    }\n",
              "\n",
              "    /* Handle when an output is cleared or removed */\n",
              "    events.on('clear_output.CodeCell', handleClearOutput);\n",
              "    events.on('delete.Cell', handleClearOutput);\n",
              "\n",
              "    /* Handle when a new output is added */\n",
              "    events.on('output_added.OutputArea', handleAddOutput);\n",
              "\n",
              "    /**\n",
              "     * Register the mime type and append_mime function with output_area\n",
              "     */\n",
              "    OutputArea.prototype.register_mime_type(EXEC_MIME_TYPE, append_mime, {\n",
              "      /* Is output safe? */\n",
              "      safe: true,\n",
              "      /* Index of renderer in `output_area.display_order` */\n",
              "      index: 0\n",
              "    });\n",
              "  }\n",
              "\n",
              "  // register the mime type if in Jupyter Notebook environment and previously unregistered\n",
              "  if (root.Jupyter !== undefined) {\n",
              "    var events = require('base/js/events');\n",
              "    var OutputArea = require('notebook/js/outputarea').OutputArea;\n",
              "\n",
              "    if (OutputArea.prototype.mime_types().indexOf(EXEC_MIME_TYPE) == -1) {\n",
              "      register_renderer(events, OutputArea);\n",
              "    }\n",
              "  }\n",
              "\n",
              "  \n",
              "  if (typeof (root._bokeh_timeout) === \"undefined\" || force === true) {\n",
              "    root._bokeh_timeout = Date.now() + 5000;\n",
              "    root._bokeh_failed_load = false;\n",
              "  }\n",
              "\n",
              "  var NB_LOAD_WARNING = {'data': {'text/html':\n",
              "     \"<div style='background-color: #fdd'>\\n\"+\n",
              "     \"<p>\\n\"+\n",
              "     \"BokehJS does not appear to have successfully loaded. If loading BokehJS from CDN, this \\n\"+\n",
              "     \"may be due to a slow or bad network connection. Possible fixes:\\n\"+\n",
              "     \"</p>\\n\"+\n",
              "     \"<ul>\\n\"+\n",
              "     \"<li>re-rerun `output_notebook()` to attempt to load from CDN again, or</li>\\n\"+\n",
              "     \"<li>use INLINE resources instead, as so:</li>\\n\"+\n",
              "     \"</ul>\\n\"+\n",
              "     \"<code>\\n\"+\n",
              "     \"from bokeh.resources import INLINE\\n\"+\n",
              "     \"output_notebook(resources=INLINE)\\n\"+\n",
              "     \"</code>\\n\"+\n",
              "     \"</div>\"}};\n",
              "\n",
              "  function display_loaded() {\n",
              "    var el = document.getElementById(null);\n",
              "    if (el != null) {\n",
              "      el.textContent = \"BokehJS is loading...\";\n",
              "    }\n",
              "    if (root.Bokeh !== undefined) {\n",
              "      if (el != null) {\n",
              "        el.textContent = \"BokehJS \" + root.Bokeh.version + \" successfully loaded.\";\n",
              "      }\n",
              "    } else if (Date.now() < root._bokeh_timeout) {\n",
              "      setTimeout(display_loaded, 100)\n",
              "    }\n",
              "  }\n",
              "\n",
              "\n",
              "  function run_callbacks() {\n",
              "    try {\n",
              "      root._bokeh_onload_callbacks.forEach(function(callback) { callback() });\n",
              "    }\n",
              "    finally {\n",
              "      delete root._bokeh_onload_callbacks\n",
              "    }\n",
              "    console.info(\"Bokeh: all callbacks have finished\");\n",
              "  }\n",
              "\n",
              "  function load_libs(js_urls, callback) {\n",
              "    root._bokeh_onload_callbacks.push(callback);\n",
              "    if (root._bokeh_is_loading > 0) {\n",
              "      console.log(\"Bokeh: BokehJS is being loaded, scheduling callback at\", now());\n",
              "      return null;\n",
              "    }\n",
              "    if (js_urls == null || js_urls.length === 0) {\n",
              "      run_callbacks();\n",
              "      return null;\n",
              "    }\n",
              "    console.log(\"Bokeh: BokehJS not loaded, scheduling load and callback at\", now());\n",
              "    root._bokeh_is_loading = js_urls.length;\n",
              "    for (var i = 0; i < js_urls.length; i++) {\n",
              "      var url = js_urls[i];\n",
              "      var s = document.createElement('script');\n",
              "      s.src = url;\n",
              "      s.async = false;\n",
              "      s.onreadystatechange = s.onload = function() {\n",
              "        root._bokeh_is_loading--;\n",
              "        if (root._bokeh_is_loading === 0) {\n",
              "          console.log(\"Bokeh: all BokehJS libraries loaded\");\n",
              "          run_callbacks()\n",
              "        }\n",
              "      };\n",
              "      s.onerror = function() {\n",
              "        console.warn(\"failed to load library \" + url);\n",
              "      };\n",
              "      console.log(\"Bokeh: injecting script tag for BokehJS library: \", url);\n",
              "      document.getElementsByTagName(\"head\")[0].appendChild(s);\n",
              "    }\n",
              "  };\n",
              "\n",
              "  var js_urls = [\"https://cdn.pydata.org/bokeh/release/bokeh-1.0.4.min.js\", \"https://cdn.pydata.org/bokeh/release/bokeh-widgets-1.0.4.min.js\", \"https://cdn.pydata.org/bokeh/release/bokeh-tables-1.0.4.min.js\", \"https://cdn.pydata.org/bokeh/release/bokeh-gl-1.0.4.min.js\"];\n",
              "\n",
              "  var inline_js = [\n",
              "    function(Bokeh) {\n",
              "      Bokeh.set_log_level(\"info\");\n",
              "    },\n",
              "    \n",
              "    function(Bokeh) {\n",
              "      \n",
              "    },\n",
              "    function(Bokeh) {\n",
              "      console.log(\"Bokeh: injecting CSS: https://cdn.pydata.org/bokeh/release/bokeh-1.0.4.min.css\");\n",
              "      Bokeh.embed.inject_css(\"https://cdn.pydata.org/bokeh/release/bokeh-1.0.4.min.css\");\n",
              "      console.log(\"Bokeh: injecting CSS: https://cdn.pydata.org/bokeh/release/bokeh-widgets-1.0.4.min.css\");\n",
              "      Bokeh.embed.inject_css(\"https://cdn.pydata.org/bokeh/release/bokeh-widgets-1.0.4.min.css\");\n",
              "      console.log(\"Bokeh: injecting CSS: https://cdn.pydata.org/bokeh/release/bokeh-tables-1.0.4.min.css\");\n",
              "      Bokeh.embed.inject_css(\"https://cdn.pydata.org/bokeh/release/bokeh-tables-1.0.4.min.css\");\n",
              "    }\n",
              "  ];\n",
              "\n",
              "  function run_inline_js() {\n",
              "    \n",
              "    if ((root.Bokeh !== undefined) || (force === true)) {\n",
              "      for (var i = 0; i < inline_js.length; i++) {\n",
              "        inline_js[i].call(root, root.Bokeh);\n",
              "      }} else if (Date.now() < root._bokeh_timeout) {\n",
              "      setTimeout(run_inline_js, 100);\n",
              "    } else if (!root._bokeh_failed_load) {\n",
              "      console.log(\"Bokeh: BokehJS failed to load within specified timeout.\");\n",
              "      root._bokeh_failed_load = true;\n",
              "    } else if (force !== true) {\n",
              "      var cell = $(document.getElementById(null)).parents('.cell').data().cell;\n",
              "      cell.output_area.append_execute_result(NB_LOAD_WARNING)\n",
              "    }\n",
              "\n",
              "  }\n",
              "\n",
              "  if (root._bokeh_is_loading === 0) {\n",
              "    console.log(\"Bokeh: BokehJS loaded, going straight to plotting\");\n",
              "    run_inline_js();\n",
              "  } else {\n",
              "    load_libs(js_urls, function() {\n",
              "      console.log(\"Bokeh: BokehJS plotting callback run at\", now());\n",
              "      run_inline_js();\n",
              "    });\n",
              "  }\n",
              "}(window));"
            ],
            "application/vnd.bokehjs_load.v0+json": "\n(function(root) {\n  function now() {\n    return new Date();\n  }\n\n  var force = true;\n\n  if (typeof (root._bokeh_onload_callbacks) === \"undefined\" || force === true) {\n    root._bokeh_onload_callbacks = [];\n    root._bokeh_is_loading = undefined;\n  }\n\n  \n\n  \n  if (typeof (root._bokeh_timeout) === \"undefined\" || force === true) {\n    root._bokeh_timeout = Date.now() + 5000;\n    root._bokeh_failed_load = false;\n  }\n\n  var NB_LOAD_WARNING = {'data': {'text/html':\n     \"<div style='background-color: #fdd'>\\n\"+\n     \"<p>\\n\"+\n     \"BokehJS does not appear to have successfully loaded. If loading BokehJS from CDN, this \\n\"+\n     \"may be due to a slow or bad network connection. Possible fixes:\\n\"+\n     \"</p>\\n\"+\n     \"<ul>\\n\"+\n     \"<li>re-rerun `output_notebook()` to attempt to load from CDN again, or</li>\\n\"+\n     \"<li>use INLINE resources instead, as so:</li>\\n\"+\n     \"</ul>\\n\"+\n     \"<code>\\n\"+\n     \"from bokeh.resources import INLINE\\n\"+\n     \"output_notebook(resources=INLINE)\\n\"+\n     \"</code>\\n\"+\n     \"</div>\"}};\n\n  function display_loaded() {\n    var el = document.getElementById(null);\n    if (el != null) {\n      el.textContent = \"BokehJS is loading...\";\n    }\n    if (root.Bokeh !== undefined) {\n      if (el != null) {\n        el.textContent = \"BokehJS \" + root.Bokeh.version + \" successfully loaded.\";\n      }\n    } else if (Date.now() < root._bokeh_timeout) {\n      setTimeout(display_loaded, 100)\n    }\n  }\n\n\n  function run_callbacks() {\n    try {\n      root._bokeh_onload_callbacks.forEach(function(callback) { callback() });\n    }\n    finally {\n      delete root._bokeh_onload_callbacks\n    }\n    console.info(\"Bokeh: all callbacks have finished\");\n  }\n\n  function load_libs(js_urls, callback) {\n    root._bokeh_onload_callbacks.push(callback);\n    if (root._bokeh_is_loading > 0) {\n      console.log(\"Bokeh: BokehJS is being loaded, scheduling callback at\", now());\n      return null;\n    }\n    if (js_urls == null || js_urls.length === 0) {\n      run_callbacks();\n      return null;\n    }\n    console.log(\"Bokeh: BokehJS not loaded, scheduling load and callback at\", now());\n    root._bokeh_is_loading = js_urls.length;\n    for (var i = 0; i < js_urls.length; i++) {\n      var url = js_urls[i];\n      var s = document.createElement('script');\n      s.src = url;\n      s.async = false;\n      s.onreadystatechange = s.onload = function() {\n        root._bokeh_is_loading--;\n        if (root._bokeh_is_loading === 0) {\n          console.log(\"Bokeh: all BokehJS libraries loaded\");\n          run_callbacks()\n        }\n      };\n      s.onerror = function() {\n        console.warn(\"failed to load library \" + url);\n      };\n      console.log(\"Bokeh: injecting script tag for BokehJS library: \", url);\n      document.getElementsByTagName(\"head\")[0].appendChild(s);\n    }\n  };\n\n  var js_urls = [\"https://cdn.pydata.org/bokeh/release/bokeh-1.0.4.min.js\", \"https://cdn.pydata.org/bokeh/release/bokeh-widgets-1.0.4.min.js\", \"https://cdn.pydata.org/bokeh/release/bokeh-tables-1.0.4.min.js\", \"https://cdn.pydata.org/bokeh/release/bokeh-gl-1.0.4.min.js\"];\n\n  var inline_js = [\n    function(Bokeh) {\n      Bokeh.set_log_level(\"info\");\n    },\n    \n    function(Bokeh) {\n      \n    },\n    function(Bokeh) {\n      console.log(\"Bokeh: injecting CSS: https://cdn.pydata.org/bokeh/release/bokeh-1.0.4.min.css\");\n      Bokeh.embed.inject_css(\"https://cdn.pydata.org/bokeh/release/bokeh-1.0.4.min.css\");\n      console.log(\"Bokeh: injecting CSS: https://cdn.pydata.org/bokeh/release/bokeh-widgets-1.0.4.min.css\");\n      Bokeh.embed.inject_css(\"https://cdn.pydata.org/bokeh/release/bokeh-widgets-1.0.4.min.css\");\n      console.log(\"Bokeh: injecting CSS: https://cdn.pydata.org/bokeh/release/bokeh-tables-1.0.4.min.css\");\n      Bokeh.embed.inject_css(\"https://cdn.pydata.org/bokeh/release/bokeh-tables-1.0.4.min.css\");\n    }\n  ];\n\n  function run_inline_js() {\n    \n    if ((root.Bokeh !== undefined) || (force === true)) {\n      for (var i = 0; i < inline_js.length; i++) {\n        inline_js[i].call(root, root.Bokeh);\n      }} else if (Date.now() < root._bokeh_timeout) {\n      setTimeout(run_inline_js, 100);\n    } else if (!root._bokeh_failed_load) {\n      console.log(\"Bokeh: BokehJS failed to load within specified timeout.\");\n      root._bokeh_failed_load = true;\n    } else if (force !== true) {\n      var cell = $(document.getElementById(null)).parents('.cell').data().cell;\n      cell.output_area.append_execute_result(NB_LOAD_WARNING)\n    }\n\n  }\n\n  if (root._bokeh_is_loading === 0) {\n    console.log(\"Bokeh: BokehJS loaded, going straight to plotting\");\n    run_inline_js();\n  } else {\n    load_libs(js_urls, function() {\n      console.log(\"Bokeh: BokehJS plotting callback run at\", now());\n      run_inline_js();\n    });\n  }\n}(window));"
          },
          "metadata": {
            "tags": []
          }
        },
        {
          "output_type": "display_data",
          "data": {
            "text/html": [
              "\n",
              "\n",
              "\n",
              "\n",
              "\n",
              "\n",
              "  <div class=\"bk-root\" id=\"691bc003-edee-4e0e-a83e-781d2100f437\" data-root-id=\"1099\"></div>\n"
            ]
          },
          "metadata": {
            "tags": []
          }
        },
        {
          "output_type": "display_data",
          "data": {
            "application/javascript": [
              "(function(root) {\n",
              "  function embed_document(root) {\n",
              "    \n",
              "  var docs_json = {\"d40e311c-393c-4361-8bf1-965403746c71\":{\"roots\":{\"references\":[{\"attributes\":{\"below\":[{\"id\":\"1109\",\"type\":\"LinearAxis\"}],\"left\":[{\"id\":\"1114\",\"type\":\"LinearAxis\"}],\"plot_height\":700,\"plot_width\":900,\"renderers\":[{\"id\":\"1109\",\"type\":\"LinearAxis\"},{\"id\":\"1113\",\"type\":\"Grid\"},{\"id\":\"1114\",\"type\":\"LinearAxis\"},{\"id\":\"1118\",\"type\":\"Grid\"},{\"id\":\"1127\",\"type\":\"BoxAnnotation\"},{\"id\":\"1137\",\"type\":\"GlyphRenderer\"}],\"title\":{\"id\":\"1098\",\"type\":\"Title\"},\"toolbar\":{\"id\":\"1125\",\"type\":\"Toolbar\"},\"x_range\":{\"id\":\"1101\",\"type\":\"DataRange1d\"},\"x_scale\":{\"id\":\"1105\",\"type\":\"LinearScale\"},\"y_range\":{\"id\":\"1103\",\"type\":\"DataRange1d\"},\"y_scale\":{\"id\":\"1107\",\"type\":\"LinearScale\"}},\"id\":\"1099\",\"subtype\":\"Figure\",\"type\":\"Plot\"},{\"attributes\":{},\"id\":\"1110\",\"type\":\"BasicTicker\"},{\"attributes\":{},\"id\":\"1123\",\"type\":\"ResetTool\"},{\"attributes\":{\"formatter\":{\"id\":\"1149\",\"type\":\"BasicTickFormatter\"},\"plot\":{\"id\":\"1099\",\"subtype\":\"Figure\",\"type\":\"Plot\"},\"ticker\":{\"id\":\"1110\",\"type\":\"BasicTicker\"}},\"id\":\"1109\",\"type\":\"LinearAxis\"},{\"attributes\":{\"callback\":null,\"data\":{\"fill_color\":[\"#1f77b4\",\"#d62728\",\"#2ca02c\",\"#ff7f0e\",\"#1f77b4\",\"#1f77b4\",\"#1f77b4\",\"#1f77b4\",\"#2ca02c\",\"#ff7f0e\",\"#d62728\",\"#ff7f0e\",\"#d62728\",\"#ff7f0e\",\"#1f77b4\",\"#1f77b4\",\"#1f77b4\",\"#ff7f0e\",\"#d62728\",\"#2ca02c\",\"#1f77b4\",\"#2ca02c\",\"#2ca02c\",\"#1f77b4\",\"#ff7f0e\",\"#2ca02c\",\"#1f77b4\",\"#2ca02c\",\"#2ca02c\",\"#2ca02c\",\"#2ca02c\",\"#2ca02c\",\"#1f77b4\",\"#d62728\",\"#1f77b4\",\"#1f77b4\",\"#2ca02c\",\"#d62728\",\"#2ca02c\",\"#ff7f0e\",\"#2ca02c\",\"#2ca02c\",\"#2ca02c\",\"#ff7f0e\",\"#1f77b4\",\"#d62728\",\"#2ca02c\",\"#2ca02c\",\"#d62728\",\"#ff7f0e\",\"#1f77b4\",\"#2ca02c\",\"#2ca02c\",\"#1f77b4\",\"#1f77b4\",\"#2ca02c\",\"#1f77b4\",\"#d62728\",\"#2ca02c\",\"#d62728\",\"#1f77b4\",\"#2ca02c\",\"#1f77b4\",\"#2ca02c\",\"#d62728\",\"#2ca02c\",\"#ff7f0e\",\"#1f77b4\",\"#2ca02c\",\"#d62728\",\"#2ca02c\",\"#2ca02c\",\"#2ca02c\",\"#1f77b4\",\"#ff7f0e\",\"#1f77b4\",\"#2ca02c\",\"#1f77b4\",\"#2ca02c\",\"#d62728\",\"#d62728\",\"#1f77b4\",\"#2ca02c\",\"#2ca02c\",\"#1f77b4\",\"#1f77b4\",\"#2ca02c\",\"#d62728\",\"#2ca02c\",\"#2ca02c\",\"#1f77b4\",\"#1f77b4\",\"#1f77b4\",\"#2ca02c\",\"#2ca02c\",\"#1f77b4\",\"#2ca02c\",\"#1f77b4\",\"#1f77b4\",\"#2ca02c\",\"#2ca02c\",\"#d62728\",\"#d62728\",\"#d62728\",\"#ff7f0e\",\"#2ca02c\",\"#2ca02c\",\"#1f77b4\",\"#d62728\",\"#1f77b4\",\"#d62728\",\"#d62728\",\"#ff7f0e\",\"#2ca02c\",\"#2ca02c\",\"#2ca02c\",\"#ff7f0e\",\"#1f77b4\",\"#ff7f0e\",\"#2ca02c\",\"#1f77b4\",\"#1f77b4\",\"#2ca02c\",\"#2ca02c\",\"#ff7f0e\",\"#2ca02c\",\"#ff7f0e\",\"#2ca02c\",\"#1f77b4\",\"#1f77b4\",\"#d62728\",\"#2ca02c\",\"#1f77b4\",\"#2ca02c\",\"#1f77b4\",\"#1f77b4\",\"#d62728\",\"#2ca02c\",\"#2ca02c\",\"#2ca02c\",\"#2ca02c\",\"#ff7f0e\",\"#2ca02c\",\"#1f77b4\",\"#1f77b4\",\"#d62728\",\"#ff7f0e\",\"#2ca02c\",\"#2ca02c\",\"#ff7f0e\",\"#1f77b4\",\"#2ca02c\",\"#d62728\",\"#2ca02c\",\"#2ca02c\",\"#2ca02c\",\"#2ca02c\",\"#d62728\",\"#2ca02c\",\"#1f77b4\",\"#2ca02c\",\"#ff7f0e\",\"#1f77b4\",\"#2ca02c\",\"#ff7f0e\",\"#1f77b4\",\"#2ca02c\",\"#ff7f0e\",\"#2ca02c\",\"#2ca02c\",\"#2ca02c\",\"#d62728\",\"#1f77b4\",\"#1f77b4\",\"#2ca02c\",\"#ff7f0e\",\"#1f77b4\",\"#1f77b4\",\"#1f77b4\",\"#ff7f0e\",\"#2ca02c\",\"#d62728\",\"#d62728\",\"#d62728\",\"#ff7f0e\",\"#2ca02c\",\"#2ca02c\",\"#1f77b4\",\"#2ca02c\",\"#ff7f0e\",\"#1f77b4\",\"#1f77b4\",\"#ff7f0e\",\"#2ca02c\",\"#2ca02c\",\"#2ca02c\",\"#d62728\",\"#1f77b4\",\"#1f77b4\",\"#ff7f0e\",\"#d62728\",\"#1f77b4\",\"#ff7f0e\",\"#ff7f0e\",\"#d62728\",\"#1f77b4\",\"#ff7f0e\",\"#2ca02c\",\"#d62728\",\"#d62728\",\"#d62728\",\"#2ca02c\",\"#1f77b4\",\"#ff7f0e\",\"#d62728\",\"#1f77b4\",\"#d62728\",\"#1f77b4\",\"#ff7f0e\",\"#1f77b4\",\"#2ca02c\",\"#1f77b4\",\"#2ca02c\",\"#2ca02c\",\"#2ca02c\",\"#d62728\",\"#ff7f0e\",\"#ff7f0e\",\"#1f77b4\",\"#ff7f0e\",\"#2ca02c\",\"#1f77b4\",\"#1f77b4\",\"#2ca02c\",\"#2ca02c\",\"#1f77b4\",\"#ff7f0e\",\"#d62728\",\"#d62728\",\"#1f77b4\",\"#d62728\",\"#1f77b4\",\"#2ca02c\",\"#1f77b4\",\"#d62728\",\"#2ca02c\",\"#2ca02c\",\"#d62728\",\"#2ca02c\",\"#2ca02c\",\"#d62728\",\"#2ca02c\",\"#2ca02c\",\"#d62728\",\"#ff7f0e\",\"#d62728\",\"#2ca02c\",\"#d62728\",\"#d62728\",\"#ff7f0e\",\"#1f77b4\",\"#2ca02c\",\"#1f77b4\",\"#d62728\",\"#d62728\",\"#2ca02c\",\"#1f77b4\",\"#d62728\",\"#1f77b4\",\"#d62728\",\"#2ca02c\",\"#d62728\",\"#1f77b4\",\"#ff7f0e\",\"#d62728\",\"#1f77b4\",\"#2ca02c\",\"#1f77b4\",\"#d62728\",\"#2ca02c\",\"#1f77b4\",\"#2ca02c\",\"#2ca02c\",\"#2ca02c\",\"#2ca02c\",\"#ff7f0e\",\"#1f77b4\",\"#2ca02c\",\"#ff7f0e\",\"#2ca02c\",\"#d62728\",\"#1f77b4\",\"#1f77b4\",\"#d62728\",\"#1f77b4\",\"#1f77b4\",\"#1f77b4\",\"#2ca02c\",\"#ff7f0e\",\"#2ca02c\",\"#1f77b4\",\"#ff7f0e\",\"#1f77b4\",\"#2ca02c\",\"#ff7f0e\",\"#1f77b4\",\"#d62728\",\"#1f77b4\",\"#1f77b4\",\"#ff7f0e\",\"#ff7f0e\",\"#ff7f0e\",\"#2ca02c\",\"#ff7f0e\",\"#1f77b4\",\"#d62728\",\"#ff7f0e\",\"#d62728\",\"#1f77b4\",\"#1f77b4\",\"#d62728\",\"#2ca02c\",\"#ff7f0e\",\"#1f77b4\",\"#1f77b4\",\"#2ca02c\",\"#d62728\",\"#1f77b4\",\"#2ca02c\",\"#d62728\",\"#ff7f0e\",\"#d62728\",\"#1f77b4\",\"#1f77b4\",\"#ff7f0e\",\"#2ca02c\",\"#d62728\",\"#2ca02c\",\"#2ca02c\",\"#1f77b4\",\"#2ca02c\",\"#d62728\",\"#2ca02c\",\"#2ca02c\",\"#d62728\",\"#2ca02c\",\"#d62728\",\"#2ca02c\",\"#2ca02c\",\"#1f77b4\",\"#2ca02c\",\"#1f77b4\",\"#d62728\",\"#d62728\",\"#d62728\",\"#1f77b4\",\"#2ca02c\",\"#d62728\",\"#1f77b4\",\"#2ca02c\",\"#1f77b4\",\"#2ca02c\",\"#2ca02c\",\"#1f77b4\",\"#2ca02c\",\"#d62728\",\"#ff7f0e\",\"#1f77b4\",\"#ff7f0e\",\"#1f77b4\",\"#2ca02c\",\"#1f77b4\",\"#d62728\",\"#d62728\",\"#1f77b4\",\"#ff7f0e\",\"#2ca02c\",\"#1f77b4\",\"#ff7f0e\",\"#d62728\",\"#d62728\",\"#1f77b4\",\"#1f77b4\",\"#2ca02c\",\"#1f77b4\",\"#1f77b4\",\"#1f77b4\",\"#ff7f0e\",\"#1f77b4\",\"#1f77b4\",\"#2ca02c\",\"#ff7f0e\",\"#1f77b4\",\"#1f77b4\",\"#2ca02c\",\"#1f77b4\",\"#1f77b4\",\"#d62728\",\"#1f77b4\",\"#d62728\",\"#1f77b4\",\"#1f77b4\",\"#2ca02c\",\"#d62728\",\"#d62728\",\"#1f77b4\",\"#d62728\",\"#d62728\",\"#2ca02c\",\"#2ca02c\",\"#d62728\",\"#2ca02c\",\"#2ca02c\",\"#ff7f0e\",\"#2ca02c\",\"#1f77b4\",\"#d62728\",\"#2ca02c\",\"#d62728\",\"#d62728\",\"#2ca02c\",\"#1f77b4\",\"#ff7f0e\",\"#1f77b4\",\"#1f77b4\",\"#1f77b4\",\"#1f77b4\",\"#2ca02c\",\"#d62728\",\"#d62728\",\"#2ca02c\",\"#2ca02c\",\"#1f77b4\",\"#d62728\",\"#d62728\",\"#2ca02c\",\"#2ca02c\",\"#2ca02c\",\"#2ca02c\",\"#1f77b4\",\"#2ca02c\",\"#1f77b4\",\"#2ca02c\",\"#2ca02c\",\"#d62728\",\"#2ca02c\",\"#d62728\",\"#1f77b4\",\"#2ca02c\",\"#1f77b4\",\"#d62728\",\"#2ca02c\",\"#1f77b4\",\"#2ca02c\",\"#2ca02c\",\"#ff7f0e\",\"#d62728\",\"#2ca02c\",\"#2ca02c\",\"#1f77b4\",\"#d62728\",\"#2ca02c\",\"#ff7f0e\",\"#1f77b4\",\"#1f77b4\",\"#1f77b4\",\"#1f77b4\",\"#1f77b4\",\"#1f77b4\",\"#1f77b4\",\"#d62728\",\"#2ca02c\",\"#2ca02c\",\"#2ca02c\",\"#ff7f0e\",\"#ff7f0e\",\"#2ca02c\",\"#2ca02c\",\"#ff7f0e\",\"#1f77b4\",\"#1f77b4\",\"#2ca02c\",\"#2ca02c\",\"#2ca02c\",\"#2ca02c\",\"#ff7f0e\",\"#1f77b4\",\"#2ca02c\",\"#2ca02c\",\"#d62728\",\"#2ca02c\",\"#2ca02c\",\"#1f77b4\",\"#1f77b4\",\"#d62728\",\"#2ca02c\",\"#1f77b4\",\"#1f77b4\",\"#d62728\",\"#ff7f0e\",\"#2ca02c\",\"#1f77b4\",\"#2ca02c\",\"#2ca02c\",\"#1f77b4\",\"#d62728\",\"#1f77b4\",\"#d62728\",\"#ff7f0e\",\"#d62728\",\"#2ca02c\",\"#2ca02c\",\"#2ca02c\",\"#ff7f0e\",\"#d62728\",\"#1f77b4\",\"#2ca02c\",\"#2ca02c\",\"#d62728\",\"#1f77b4\",\"#1f77b4\",\"#d62728\",\"#ff7f0e\",\"#1f77b4\",\"#1f77b4\",\"#2ca02c\",\"#2ca02c\",\"#1f77b4\",\"#2ca02c\",\"#1f77b4\",\"#2ca02c\",\"#d62728\",\"#1f77b4\",\"#1f77b4\",\"#ff7f0e\",\"#d62728\",\"#2ca02c\",\"#ff7f0e\",\"#ff7f0e\",\"#d62728\",\"#2ca02c\",\"#2ca02c\",\"#d62728\",\"#d62728\",\"#2ca02c\",\"#1f77b4\",\"#1f77b4\",\"#d62728\",\"#ff7f0e\",\"#1f77b4\",\"#d62728\",\"#2ca02c\",\"#1f77b4\",\"#ff7f0e\",\"#1f77b4\",\"#d62728\",\"#2ca02c\",\"#1f77b4\",\"#2ca02c\",\"#2ca02c\",\"#1f77b4\",\"#2ca02c\",\"#d62728\",\"#ff7f0e\",\"#1f77b4\",\"#d62728\",\"#2ca02c\",\"#2ca02c\",\"#1f77b4\",\"#d62728\",\"#d62728\",\"#ff7f0e\",\"#d62728\",\"#d62728\",\"#2ca02c\",\"#2ca02c\",\"#2ca02c\",\"#1f77b4\",\"#1f77b4\",\"#2ca02c\",\"#2ca02c\",\"#d62728\",\"#2ca02c\",\"#1f77b4\",\"#d62728\",\"#1f77b4\",\"#ff7f0e\",\"#2ca02c\",\"#1f77b4\",\"#d62728\",\"#2ca02c\",\"#d62728\",\"#1f77b4\",\"#2ca02c\",\"#ff7f0e\",\"#d62728\",\"#d62728\",\"#1f77b4\",\"#d62728\",\"#d62728\",\"#2ca02c\",\"#1f77b4\",\"#1f77b4\",\"#2ca02c\",\"#2ca02c\",\"#1f77b4\",\"#1f77b4\",\"#d62728\",\"#d62728\",\"#2ca02c\",\"#1f77b4\",\"#1f77b4\",\"#d62728\",\"#1f77b4\",\"#2ca02c\",\"#d62728\",\"#d62728\",\"#1f77b4\",\"#1f77b4\",\"#1f77b4\",\"#1f77b4\",\"#1f77b4\",\"#2ca02c\",\"#d62728\",\"#2ca02c\",\"#d62728\",\"#2ca02c\",\"#ff7f0e\",\"#d62728\",\"#2ca02c\",\"#ff7f0e\",\"#2ca02c\",\"#2ca02c\",\"#2ca02c\",\"#2ca02c\",\"#1f77b4\",\"#2ca02c\",\"#2ca02c\",\"#2ca02c\",\"#ff7f0e\",\"#2ca02c\",\"#d62728\",\"#d62728\",\"#1f77b4\",\"#2ca02c\",\"#1f77b4\",\"#1f77b4\",\"#2ca02c\",\"#1f77b4\",\"#1f77b4\",\"#2ca02c\",\"#ff7f0e\",\"#2ca02c\",\"#1f77b4\",\"#2ca02c\",\"#d62728\",\"#ff7f0e\",\"#2ca02c\",\"#2ca02c\",\"#ff7f0e\",\"#2ca02c\",\"#2ca02c\",\"#1f77b4\",\"#1f77b4\",\"#1f77b4\",\"#2ca02c\",\"#ff7f0e\",\"#d62728\",\"#ff7f0e\",\"#d62728\",\"#2ca02c\",\"#2ca02c\",\"#2ca02c\",\"#ff7f0e\",\"#1f77b4\",\"#2ca02c\",\"#1f77b4\",\"#1f77b4\",\"#2ca02c\",\"#2ca02c\",\"#1f77b4\",\"#2ca02c\",\"#1f77b4\",\"#2ca02c\",\"#1f77b4\",\"#1f77b4\",\"#2ca02c\",\"#2ca02c\",\"#2ca02c\",\"#1f77b4\",\"#1f77b4\",\"#1f77b4\",\"#2ca02c\",\"#ff7f0e\",\"#1f77b4\",\"#2ca02c\",\"#1f77b4\",\"#ff7f0e\",\"#1f77b4\",\"#1f77b4\",\"#2ca02c\",\"#d62728\",\"#d62728\",\"#ff7f0e\",\"#1f77b4\",\"#1f77b4\",\"#2ca02c\",\"#2ca02c\",\"#1f77b4\",\"#d62728\",\"#ff7f0e\",\"#ff7f0e\",\"#d62728\",\"#2ca02c\",\"#d62728\",\"#1f77b4\",\"#ff7f0e\",\"#ff7f0e\",\"#2ca02c\",\"#1f77b4\",\"#2ca02c\",\"#d62728\",\"#1f77b4\",\"#d62728\",\"#d62728\",\"#2ca02c\",\"#2ca02c\",\"#1f77b4\",\"#2ca02c\",\"#ff7f0e\",\"#1f77b4\",\"#d62728\",\"#ff7f0e\",\"#d62728\",\"#2ca02c\",\"#d62728\",\"#d62728\",\"#1f77b4\",\"#d62728\",\"#2ca02c\",\"#ff7f0e\",\"#1f77b4\",\"#2ca02c\",\"#ff7f0e\",\"#1f77b4\",\"#1f77b4\",\"#1f77b4\",\"#d62728\",\"#d62728\",\"#2ca02c\",\"#1f77b4\",\"#1f77b4\",\"#1f77b4\",\"#2ca02c\",\"#d62728\",\"#2ca02c\",\"#2ca02c\",\"#2ca02c\",\"#d62728\",\"#2ca02c\",\"#ff7f0e\",\"#1f77b4\",\"#d62728\",\"#2ca02c\",\"#1f77b4\",\"#ff7f0e\",\"#d62728\",\"#d62728\",\"#ff7f0e\",\"#1f77b4\",\"#d62728\",\"#2ca02c\",\"#2ca02c\",\"#2ca02c\",\"#1f77b4\",\"#d62728\",\"#1f77b4\",\"#d62728\",\"#2ca02c\",\"#d62728\",\"#2ca02c\",\"#1f77b4\",\"#1f77b4\",\"#ff7f0e\",\"#2ca02c\",\"#ff7f0e\",\"#d62728\",\"#d62728\",\"#d62728\",\"#1f77b4\",\"#1f77b4\",\"#d62728\",\"#d62728\",\"#2ca02c\",\"#1f77b4\",\"#2ca02c\",\"#d62728\",\"#d62728\",\"#2ca02c\",\"#2ca02c\",\"#1f77b4\",\"#2ca02c\",\"#d62728\",\"#ff7f0e\",\"#d62728\",\"#2ca02c\",\"#1f77b4\",\"#1f77b4\",\"#ff7f0e\",\"#ff7f0e\",\"#1f77b4\",\"#2ca02c\",\"#2ca02c\",\"#1f77b4\",\"#1f77b4\",\"#1f77b4\",\"#2ca02c\",\"#1f77b4\",\"#1f77b4\",\"#d62728\",\"#2ca02c\",\"#1f77b4\",\"#d62728\",\"#1f77b4\",\"#2ca02c\",\"#2ca02c\",\"#1f77b4\",\"#2ca02c\",\"#d62728\",\"#2ca02c\",\"#2ca02c\",\"#1f77b4\",\"#1f77b4\",\"#d62728\",\"#1f77b4\",\"#d62728\",\"#2ca02c\",\"#d62728\",\"#1f77b4\",\"#2ca02c\",\"#1f77b4\",\"#1f77b4\",\"#2ca02c\",\"#2ca02c\",\"#1f77b4\",\"#2ca02c\",\"#2ca02c\",\"#1f77b4\",\"#ff7f0e\",\"#d62728\",\"#2ca02c\",\"#1f77b4\",\"#d62728\",\"#2ca02c\",\"#ff7f0e\",\"#1f77b4\",\"#1f77b4\",\"#d62728\",\"#d62728\",\"#2ca02c\",\"#d62728\",\"#1f77b4\",\"#d62728\",\"#1f77b4\",\"#1f77b4\",\"#ff7f0e\",\"#2ca02c\",\"#2ca02c\",\"#d62728\",\"#d62728\",\"#d62728\",\"#2ca02c\",\"#1f77b4\",\"#2ca02c\",\"#2ca02c\",\"#1f77b4\",\"#2ca02c\",\"#d62728\",\"#d62728\",\"#2ca02c\",\"#1f77b4\",\"#d62728\",\"#ff7f0e\",\"#1f77b4\",\"#1f77b4\",\"#d62728\",\"#1f77b4\",\"#d62728\",\"#ff7f0e\",\"#2ca02c\",\"#d62728\",\"#1f77b4\",\"#1f77b4\",\"#1f77b4\",\"#2ca02c\",\"#1f77b4\",\"#1f77b4\",\"#1f77b4\",\"#1f77b4\",\"#d62728\",\"#2ca02c\",\"#d62728\",\"#1f77b4\",\"#2ca02c\",\"#1f77b4\",\"#2ca02c\",\"#d62728\",\"#ff7f0e\",\"#1f77b4\",\"#2ca02c\",\"#2ca02c\",\"#ff7f0e\",\"#2ca02c\",\"#2ca02c\",\"#1f77b4\",\"#ff7f0e\",\"#2ca02c\",\"#ff7f0e\",\"#2ca02c\",\"#ff7f0e\",\"#2ca02c\",\"#2ca02c\",\"#1f77b4\",\"#1f77b4\",\"#1f77b4\",\"#ff7f0e\",\"#2ca02c\",\"#1f77b4\",\"#d62728\",\"#2ca02c\",\"#2ca02c\",\"#2ca02c\",\"#2ca02c\",\"#1f77b4\",\"#ff7f0e\",\"#1f77b4\",\"#1f77b4\",\"#d62728\",\"#1f77b4\",\"#d62728\",\"#1f77b4\",\"#1f77b4\",\"#1f77b4\",\"#d62728\",\"#1f77b4\",\"#1f77b4\",\"#1f77b4\",\"#1f77b4\",\"#1f77b4\",\"#ff7f0e\",\"#2ca02c\",\"#1f77b4\",\"#d62728\",\"#ff7f0e\",\"#d62728\",\"#1f77b4\",\"#1f77b4\",\"#d62728\",\"#1f77b4\",\"#ff7f0e\",\"#1f77b4\",\"#2ca02c\",\"#1f77b4\",\"#2ca02c\",\"#d62728\",\"#d62728\",\"#1f77b4\",\"#ff7f0e\",\"#d62728\",\"#ff7f0e\",\"#2ca02c\",\"#2ca02c\",\"#d62728\",\"#1f77b4\",\"#d62728\",\"#2ca02c\",\"#2ca02c\",\"#ff7f0e\",\"#2ca02c\",\"#d62728\",\"#2ca02c\",\"#ff7f0e\",\"#1f77b4\",\"#1f77b4\",\"#d62728\",\"#d62728\",\"#2ca02c\",\"#d62728\",\"#1f77b4\",\"#2ca02c\",\"#d62728\",\"#d62728\",\"#2ca02c\",\"#ff7f0e\",\"#2ca02c\",\"#2ca02c\",\"#d62728\",\"#2ca02c\",\"#1f77b4\",\"#d62728\",\"#d62728\",\"#1f77b4\",\"#1f77b4\",\"#2ca02c\",\"#d62728\",\"#d62728\",\"#2ca02c\",\"#2ca02c\",\"#2ca02c\",\"#d62728\",\"#d62728\",\"#ff7f0e\",\"#2ca02c\",\"#ff7f0e\",\"#d62728\",\"#1f77b4\",\"#1f77b4\",\"#2ca02c\",\"#2ca02c\",\"#2ca02c\",\"#2ca02c\",\"#2ca02c\",\"#1f77b4\",\"#d62728\",\"#d62728\",\"#2ca02c\",\"#ff7f0e\",\"#d62728\",\"#d62728\",\"#1f77b4\",\"#1f77b4\",\"#d62728\",\"#d62728\",\"#1f77b4\",\"#d62728\",\"#1f77b4\",\"#1f77b4\",\"#2ca02c\",\"#2ca02c\",\"#1f77b4\",\"#2ca02c\",\"#2ca02c\",\"#d62728\",\"#ff7f0e\",\"#ff7f0e\",\"#2ca02c\",\"#ff7f0e\",\"#d62728\",\"#d62728\",\"#ff7f0e\",\"#1f77b4\",\"#d62728\",\"#1f77b4\",\"#d62728\",\"#2ca02c\",\"#1f77b4\",\"#d62728\",\"#2ca02c\",\"#2ca02c\",\"#2ca02c\",\"#2ca02c\",\"#d62728\",\"#2ca02c\",\"#2ca02c\",\"#2ca02c\",\"#2ca02c\",\"#1f77b4\",\"#2ca02c\",\"#2ca02c\",\"#d62728\",\"#d62728\",\"#2ca02c\",\"#1f77b4\",\"#d62728\",\"#d62728\",\"#ff7f0e\",\"#2ca02c\",\"#d62728\",\"#1f77b4\",\"#1f77b4\",\"#d62728\",\"#ff7f0e\",\"#d62728\",\"#1f77b4\",\"#1f77b4\",\"#1f77b4\",\"#1f77b4\",\"#1f77b4\",\"#d62728\",\"#2ca02c\",\"#1f77b4\",\"#ff7f0e\",\"#2ca02c\",\"#2ca02c\",\"#d62728\",\"#2ca02c\",\"#2ca02c\",\"#1f77b4\",\"#1f77b4\",\"#2ca02c\",\"#ff7f0e\",\"#1f77b4\",\"#1f77b4\",\"#ff7f0e\",\"#d62728\",\"#d62728\",\"#ff7f0e\",\"#ff7f0e\",\"#2ca02c\",\"#1f77b4\",\"#2ca02c\",\"#1f77b4\",\"#1f77b4\",\"#1f77b4\",\"#2ca02c\",\"#d62728\",\"#1f77b4\",\"#2ca02c\",\"#2ca02c\",\"#d62728\",\"#ff7f0e\",\"#2ca02c\",\"#2ca02c\",\"#2ca02c\",\"#1f77b4\",\"#d62728\",\"#d62728\",\"#ff7f0e\",\"#1f77b4\",\"#ff7f0e\",\"#1f77b4\",\"#1f77b4\",\"#d62728\",\"#2ca02c\",\"#2ca02c\",\"#1f77b4\",\"#ff7f0e\",\"#1f77b4\",\"#1f77b4\",\"#d62728\",\"#ff7f0e\",\"#ff7f0e\",\"#1f77b4\",\"#ff7f0e\",\"#ff7f0e\",\"#d62728\",\"#1f77b4\",\"#2ca02c\",\"#1f77b4\",\"#d62728\",\"#2ca02c\",\"#1f77b4\",\"#2ca02c\",\"#d62728\",\"#2ca02c\",\"#2ca02c\",\"#2ca02c\",\"#2ca02c\",\"#2ca02c\",\"#d62728\",\"#1f77b4\",\"#2ca02c\",\"#2ca02c\",\"#2ca02c\",\"#1f77b4\",\"#2ca02c\",\"#1f77b4\",\"#2ca02c\",\"#1f77b4\",\"#ff7f0e\",\"#2ca02c\",\"#ff7f0e\",\"#2ca02c\",\"#2ca02c\",\"#2ca02c\",\"#2ca02c\",\"#ff7f0e\",\"#1f77b4\",\"#1f77b4\",\"#d62728\",\"#2ca02c\",\"#d62728\",\"#1f77b4\",\"#1f77b4\",\"#1f77b4\",\"#1f77b4\",\"#ff7f0e\",\"#1f77b4\",\"#1f77b4\",\"#ff7f0e\",\"#d62728\",\"#2ca02c\",\"#1f77b4\",\"#1f77b4\",\"#2ca02c\",\"#ff7f0e\",\"#2ca02c\",\"#d62728\",\"#ff7f0e\",\"#d62728\",\"#d62728\",\"#2ca02c\",\"#2ca02c\",\"#1f77b4\",\"#2ca02c\",\"#d62728\",\"#d62728\",\"#2ca02c\",\"#d62728\",\"#d62728\",\"#2ca02c\",\"#2ca02c\",\"#2ca02c\",\"#1f77b4\",\"#2ca02c\",\"#2ca02c\",\"#2ca02c\",\"#ff7f0e\",\"#d62728\",\"#d62728\",\"#d62728\",\"#1f77b4\",\"#d62728\",\"#2ca02c\",\"#1f77b4\",\"#2ca02c\",\"#2ca02c\",\"#ff7f0e\",\"#1f77b4\",\"#1f77b4\",\"#2ca02c\",\"#2ca02c\",\"#2ca02c\",\"#ff7f0e\",\"#ff7f0e\",\"#2ca02c\",\"#ff7f0e\",\"#2ca02c\",\"#d62728\",\"#1f77b4\",\"#1f77b4\",\"#2ca02c\",\"#1f77b4\",\"#ff7f0e\",\"#d62728\",\"#2ca02c\",\"#2ca02c\",\"#ff7f0e\",\"#ff7f0e\",\"#ff7f0e\",\"#ff7f0e\",\"#1f77b4\",\"#2ca02c\",\"#1f77b4\",\"#d62728\",\"#2ca02c\",\"#d62728\",\"#2ca02c\",\"#1f77b4\",\"#ff7f0e\",\"#2ca02c\",\"#1f77b4\",\"#1f77b4\",\"#1f77b4\",\"#1f77b4\",\"#1f77b4\",\"#d62728\",\"#1f77b4\",\"#2ca02c\",\"#2ca02c\",\"#1f77b4\",\"#1f77b4\",\"#1f77b4\",\"#2ca02c\",\"#2ca02c\",\"#d62728\",\"#1f77b4\",\"#ff7f0e\",\"#1f77b4\",\"#d62728\",\"#1f77b4\",\"#1f77b4\",\"#2ca02c\",\"#1f77b4\",\"#d62728\",\"#2ca02c\",\"#1f77b4\",\"#2ca02c\",\"#1f77b4\",\"#1f77b4\",\"#ff7f0e\",\"#d62728\",\"#d62728\",\"#1f77b4\",\"#2ca02c\",\"#ff7f0e\",\"#1f77b4\",\"#d62728\",\"#2ca02c\",\"#2ca02c\",\"#1f77b4\",\"#2ca02c\",\"#d62728\",\"#1f77b4\",\"#1f77b4\",\"#d62728\",\"#1f77b4\",\"#2ca02c\",\"#d62728\",\"#1f77b4\",\"#2ca02c\",\"#2ca02c\",\"#2ca02c\",\"#d62728\",\"#1f77b4\",\"#1f77b4\",\"#1f77b4\",\"#2ca02c\",\"#1f77b4\",\"#1f77b4\",\"#2ca02c\",\"#ff7f0e\",\"#2ca02c\",\"#d62728\",\"#d62728\",\"#2ca02c\",\"#1f77b4\",\"#ff7f0e\",\"#d62728\",\"#2ca02c\",\"#2ca02c\",\"#2ca02c\",\"#2ca02c\",\"#1f77b4\",\"#2ca02c\",\"#d62728\",\"#d62728\",\"#ff7f0e\",\"#2ca02c\",\"#d62728\",\"#2ca02c\",\"#d62728\",\"#1f77b4\",\"#2ca02c\",\"#d62728\",\"#1f77b4\",\"#d62728\",\"#2ca02c\",\"#2ca02c\",\"#ff7f0e\",\"#2ca02c\",\"#d62728\",\"#1f77b4\",\"#ff7f0e\",\"#d62728\",\"#1f77b4\",\"#2ca02c\",\"#ff7f0e\",\"#1f77b4\",\"#2ca02c\",\"#2ca02c\",\"#1f77b4\",\"#2ca02c\",\"#2ca02c\",\"#2ca02c\",\"#ff7f0e\",\"#d62728\",\"#2ca02c\",\"#d62728\",\"#d62728\",\"#2ca02c\",\"#2ca02c\",\"#1f77b4\",\"#2ca02c\",\"#1f77b4\",\"#d62728\",\"#2ca02c\",\"#1f77b4\",\"#2ca02c\",\"#2ca02c\",\"#2ca02c\",\"#ff7f0e\",\"#d62728\",\"#1f77b4\",\"#2ca02c\",\"#1f77b4\",\"#1f77b4\",\"#d62728\",\"#2ca02c\",\"#2ca02c\",\"#d62728\",\"#d62728\",\"#d62728\",\"#2ca02c\",\"#1f77b4\",\"#2ca02c\",\"#2ca02c\",\"#d62728\",\"#ff7f0e\",\"#1f77b4\",\"#1f77b4\",\"#d62728\",\"#2ca02c\",\"#1f77b4\",\"#ff7f0e\",\"#1f77b4\",\"#2ca02c\",\"#ff7f0e\",\"#2ca02c\",\"#2ca02c\",\"#1f77b4\",\"#1f77b4\",\"#d62728\",\"#d62728\",\"#2ca02c\",\"#2ca02c\",\"#d62728\",\"#1f77b4\",\"#2ca02c\",\"#2ca02c\",\"#2ca02c\",\"#2ca02c\",\"#d62728\",\"#d62728\",\"#2ca02c\",\"#1f77b4\",\"#d62728\",\"#1f77b4\",\"#d62728\",\"#2ca02c\",\"#1f77b4\",\"#d62728\",\"#1f77b4\",\"#d62728\",\"#2ca02c\",\"#d62728\",\"#1f77b4\",\"#ff7f0e\",\"#1f77b4\",\"#d62728\",\"#ff7f0e\",\"#1f77b4\",\"#2ca02c\",\"#1f77b4\",\"#2ca02c\",\"#2ca02c\",\"#2ca02c\",\"#d62728\",\"#d62728\",\"#1f77b4\",\"#2ca02c\",\"#d62728\",\"#ff7f0e\",\"#ff7f0e\",\"#ff7f0e\",\"#1f77b4\",\"#d62728\",\"#d62728\",\"#ff7f0e\",\"#d62728\",\"#d62728\",\"#2ca02c\",\"#1f77b4\",\"#2ca02c\",\"#d62728\",\"#2ca02c\",\"#1f77b4\",\"#2ca02c\",\"#2ca02c\",\"#1f77b4\",\"#d62728\",\"#2ca02c\",\"#d62728\",\"#d62728\",\"#2ca02c\",\"#2ca02c\",\"#1f77b4\",\"#d62728\",\"#d62728\",\"#2ca02c\",\"#1f77b4\",\"#1f77b4\",\"#2ca02c\",\"#2ca02c\",\"#1f77b4\",\"#2ca02c\",\"#d62728\",\"#1f77b4\",\"#1f77b4\",\"#1f77b4\",\"#2ca02c\",\"#2ca02c\",\"#ff7f0e\",\"#1f77b4\",\"#2ca02c\",\"#ff7f0e\",\"#2ca02c\",\"#d62728\",\"#2ca02c\",\"#1f77b4\",\"#2ca02c\",\"#ff7f0e\",\"#2ca02c\",\"#1f77b4\",\"#ff7f0e\",\"#1f77b4\",\"#1f77b4\",\"#ff7f0e\",\"#1f77b4\",\"#ff7f0e\",\"#2ca02c\",\"#1f77b4\",\"#d62728\",\"#d62728\",\"#d62728\",\"#ff7f0e\",\"#ff7f0e\",\"#ff7f0e\",\"#1f77b4\",\"#1f77b4\",\"#2ca02c\",\"#2ca02c\",\"#1f77b4\",\"#d62728\",\"#d62728\",\"#1f77b4\",\"#1f77b4\",\"#d62728\",\"#2ca02c\",\"#1f77b4\",\"#2ca02c\",\"#1f77b4\",\"#1f77b4\",\"#2ca02c\",\"#1f77b4\",\"#ff7f0e\",\"#2ca02c\",\"#d62728\",\"#1f77b4\",\"#ff7f0e\",\"#d62728\",\"#1f77b4\",\"#2ca02c\",\"#d62728\",\"#2ca02c\",\"#2ca02c\",\"#2ca02c\",\"#2ca02c\",\"#d62728\",\"#1f77b4\",\"#ff7f0e\",\"#1f77b4\",\"#ff7f0e\",\"#2ca02c\",\"#1f77b4\",\"#2ca02c\",\"#d62728\",\"#d62728\",\"#2ca02c\",\"#2ca02c\",\"#2ca02c\",\"#1f77b4\",\"#1f77b4\",\"#d62728\",\"#2ca02c\",\"#d62728\",\"#1f77b4\",\"#2ca02c\",\"#2ca02c\",\"#2ca02c\",\"#d62728\",\"#1f77b4\",\"#2ca02c\",\"#2ca02c\",\"#1f77b4\",\"#2ca02c\",\"#ff7f0e\",\"#1f77b4\",\"#1f77b4\",\"#2ca02c\",\"#ff7f0e\",\"#d62728\",\"#1f77b4\",\"#2ca02c\",\"#2ca02c\",\"#1f77b4\",\"#1f77b4\",\"#1f77b4\",\"#1f77b4\",\"#1f77b4\",\"#1f77b4\",\"#ff7f0e\",\"#d62728\",\"#1f77b4\",\"#d62728\",\"#d62728\",\"#d62728\",\"#2ca02c\",\"#ff7f0e\",\"#2ca02c\",\"#ff7f0e\",\"#ff7f0e\",\"#2ca02c\",\"#d62728\",\"#2ca02c\",\"#ff7f0e\",\"#2ca02c\",\"#1f77b4\",\"#d62728\",\"#ff7f0e\",\"#ff7f0e\",\"#1f77b4\",\"#1f77b4\",\"#1f77b4\",\"#ff7f0e\",\"#1f77b4\",\"#1f77b4\",\"#2ca02c\",\"#1f77b4\",\"#1f77b4\",\"#2ca02c\",\"#d62728\",\"#ff7f0e\",\"#2ca02c\",\"#d62728\",\"#1f77b4\",\"#ff7f0e\",\"#1f77b4\",\"#1f77b4\",\"#1f77b4\",\"#2ca02c\",\"#d62728\",\"#2ca02c\",\"#d62728\",\"#1f77b4\",\"#d62728\",\"#d62728\",\"#d62728\",\"#2ca02c\",\"#1f77b4\",\"#2ca02c\",\"#2ca02c\",\"#2ca02c\",\"#d62728\",\"#2ca02c\",\"#2ca02c\",\"#d62728\",\"#2ca02c\",\"#2ca02c\",\"#d62728\",\"#2ca02c\",\"#d62728\",\"#d62728\",\"#1f77b4\",\"#1f77b4\",\"#1f77b4\",\"#2ca02c\",\"#2ca02c\",\"#d62728\",\"#1f77b4\",\"#ff7f0e\",\"#ff7f0e\",\"#2ca02c\",\"#1f77b4\",\"#2ca02c\",\"#d62728\",\"#2ca02c\",\"#ff7f0e\",\"#2ca02c\",\"#d62728\",\"#d62728\",\"#ff7f0e\",\"#1f77b4\",\"#d62728\",\"#ff7f0e\",\"#2ca02c\",\"#2ca02c\",\"#1f77b4\",\"#2ca02c\",\"#d62728\",\"#2ca02c\",\"#1f77b4\",\"#2ca02c\",\"#ff7f0e\",\"#1f77b4\",\"#2ca02c\",\"#1f77b4\",\"#d62728\",\"#2ca02c\",\"#ff7f0e\",\"#d62728\",\"#2ca02c\",\"#2ca02c\",\"#1f77b4\",\"#1f77b4\",\"#ff7f0e\",\"#d62728\",\"#1f77b4\",\"#d62728\",\"#2ca02c\",\"#d62728\",\"#2ca02c\",\"#ff7f0e\",\"#1f77b4\",\"#d62728\",\"#d62728\",\"#2ca02c\",\"#2ca02c\",\"#d62728\",\"#2ca02c\",\"#2ca02c\",\"#1f77b4\",\"#1f77b4\",\"#2ca02c\",\"#d62728\",\"#ff7f0e\",\"#ff7f0e\",\"#2ca02c\",\"#2ca02c\",\"#d62728\",\"#ff7f0e\",\"#ff7f0e\",\"#2ca02c\",\"#1f77b4\",\"#2ca02c\",\"#2ca02c\",\"#2ca02c\",\"#ff7f0e\",\"#d62728\",\"#1f77b4\",\"#ff7f0e\",\"#2ca02c\",\"#2ca02c\",\"#d62728\",\"#2ca02c\",\"#2ca02c\",\"#1f77b4\",\"#2ca02c\",\"#1f77b4\",\"#1f77b4\",\"#1f77b4\",\"#1f77b4\",\"#2ca02c\",\"#d62728\",\"#ff7f0e\",\"#d62728\",\"#d62728\",\"#2ca02c\",\"#d62728\",\"#2ca02c\",\"#2ca02c\",\"#d62728\",\"#2ca02c\",\"#2ca02c\",\"#ff7f0e\",\"#1f77b4\",\"#d62728\",\"#ff7f0e\",\"#1f77b4\",\"#1f77b4\",\"#d62728\",\"#1f77b4\",\"#d62728\",\"#ff7f0e\",\"#2ca02c\",\"#d62728\",\"#2ca02c\",\"#d62728\",\"#1f77b4\",\"#2ca02c\",\"#ff7f0e\",\"#2ca02c\",\"#d62728\",\"#d62728\",\"#1f77b4\",\"#1f77b4\",\"#1f77b4\",\"#2ca02c\",\"#1f77b4\",\"#1f77b4\",\"#2ca02c\",\"#2ca02c\",\"#d62728\",\"#d62728\",\"#2ca02c\",\"#2ca02c\",\"#d62728\",\"#1f77b4\",\"#d62728\",\"#d62728\",\"#ff7f0e\",\"#1f77b4\",\"#1f77b4\",\"#2ca02c\",\"#1f77b4\",\"#1f77b4\",\"#1f77b4\",\"#ff7f0e\",\"#1f77b4\",\"#2ca02c\",\"#2ca02c\",\"#ff7f0e\",\"#2ca02c\",\"#ff7f0e\",\"#d62728\",\"#1f77b4\",\"#d62728\",\"#d62728\",\"#2ca02c\",\"#2ca02c\",\"#1f77b4\",\"#2ca02c\",\"#2ca02c\",\"#1f77b4\",\"#2ca02c\",\"#1f77b4\",\"#1f77b4\",\"#d62728\",\"#d62728\",\"#2ca02c\",\"#1f77b4\",\"#1f77b4\",\"#1f77b4\",\"#1f77b4\",\"#2ca02c\",\"#d62728\",\"#1f77b4\",\"#2ca02c\",\"#ff7f0e\",\"#2ca02c\",\"#2ca02c\",\"#1f77b4\",\"#ff7f0e\",\"#1f77b4\",\"#d62728\",\"#2ca02c\",\"#2ca02c\",\"#1f77b4\",\"#2ca02c\",\"#2ca02c\",\"#d62728\",\"#1f77b4\",\"#2ca02c\",\"#2ca02c\",\"#2ca02c\",\"#ff7f0e\",\"#d62728\",\"#ff7f0e\",\"#1f77b4\",\"#1f77b4\",\"#1f77b4\",\"#1f77b4\",\"#2ca02c\",\"#2ca02c\",\"#d62728\",\"#d62728\",\"#1f77b4\",\"#1f77b4\",\"#1f77b4\",\"#1f77b4\",\"#2ca02c\",\"#ff7f0e\",\"#d62728\",\"#2ca02c\",\"#2ca02c\",\"#d62728\",\"#2ca02c\",\"#2ca02c\",\"#d62728\",\"#2ca02c\",\"#1f77b4\",\"#d62728\",\"#2ca02c\",\"#1f77b4\",\"#1f77b4\",\"#d62728\",\"#1f77b4\",\"#1f77b4\",\"#2ca02c\",\"#2ca02c\",\"#d62728\",\"#2ca02c\",\"#1f77b4\",\"#1f77b4\",\"#2ca02c\",\"#1f77b4\",\"#2ca02c\",\"#d62728\",\"#1f77b4\",\"#d62728\",\"#2ca02c\",\"#1f77b4\",\"#d62728\",\"#ff7f0e\",\"#2ca02c\",\"#1f77b4\",\"#1f77b4\",\"#2ca02c\",\"#1f77b4\",\"#d62728\",\"#d62728\",\"#2ca02c\",\"#ff7f0e\",\"#d62728\",\"#2ca02c\",\"#1f77b4\",\"#1f77b4\",\"#1f77b4\",\"#d62728\",\"#d62728\",\"#1f77b4\",\"#2ca02c\",\"#d62728\",\"#ff7f0e\",\"#d62728\",\"#1f77b4\",\"#ff7f0e\",\"#ff7f0e\",\"#d62728\",\"#1f77b4\",\"#1f77b4\",\"#1f77b4\",\"#d62728\",\"#1f77b4\",\"#2ca02c\",\"#2ca02c\",\"#2ca02c\",\"#1f77b4\",\"#2ca02c\",\"#2ca02c\",\"#d62728\",\"#2ca02c\",\"#1f77b4\",\"#1f77b4\",\"#2ca02c\",\"#d62728\",\"#d62728\",\"#2ca02c\",\"#ff7f0e\",\"#1f77b4\",\"#ff7f0e\",\"#d62728\",\"#d62728\",\"#d62728\",\"#2ca02c\",\"#1f77b4\",\"#d62728\",\"#1f77b4\",\"#1f77b4\",\"#d62728\",\"#2ca02c\",\"#1f77b4\",\"#1f77b4\",\"#ff7f0e\",\"#ff7f0e\",\"#d62728\",\"#d62728\",\"#1f77b4\",\"#2ca02c\",\"#ff7f0e\",\"#2ca02c\",\"#ff7f0e\",\"#2ca02c\",\"#2ca02c\",\"#2ca02c\",\"#1f77b4\",\"#ff7f0e\",\"#2ca02c\",\"#2ca02c\",\"#d62728\",\"#2ca02c\",\"#2ca02c\",\"#1f77b4\",\"#1f77b4\",\"#d62728\",\"#d62728\",\"#d62728\",\"#2ca02c\",\"#1f77b4\",\"#ff7f0e\",\"#2ca02c\",\"#d62728\",\"#2ca02c\",\"#d62728\",\"#1f77b4\",\"#2ca02c\",\"#1f77b4\",\"#d62728\",\"#d62728\",\"#d62728\",\"#1f77b4\",\"#d62728\",\"#ff7f0e\",\"#2ca02c\",\"#2ca02c\",\"#2ca02c\",\"#1f77b4\",\"#2ca02c\",\"#d62728\",\"#2ca02c\",\"#2ca02c\",\"#d62728\",\"#d62728\",\"#2ca02c\",\"#1f77b4\",\"#1f77b4\",\"#2ca02c\",\"#1f77b4\",\"#2ca02c\",\"#1f77b4\",\"#1f77b4\",\"#ff7f0e\",\"#d62728\",\"#2ca02c\",\"#d62728\",\"#2ca02c\",\"#1f77b4\",\"#ff7f0e\",\"#2ca02c\",\"#2ca02c\",\"#d62728\",\"#ff7f0e\",\"#1f77b4\",\"#1f77b4\",\"#d62728\",\"#2ca02c\",\"#2ca02c\",\"#ff7f0e\",\"#2ca02c\",\"#d62728\",\"#2ca02c\",\"#d62728\",\"#ff7f0e\",\"#2ca02c\",\"#d62728\",\"#2ca02c\",\"#ff7f0e\",\"#1f77b4\",\"#2ca02c\",\"#1f77b4\",\"#2ca02c\",\"#2ca02c\",\"#d62728\",\"#d62728\",\"#d62728\",\"#1f77b4\",\"#1f77b4\",\"#ff7f0e\",\"#2ca02c\",\"#1f77b4\",\"#d62728\",\"#1f77b4\",\"#d62728\",\"#2ca02c\",\"#1f77b4\",\"#2ca02c\",\"#2ca02c\",\"#d62728\",\"#1f77b4\",\"#1f77b4\",\"#1f77b4\",\"#2ca02c\",\"#ff7f0e\",\"#d62728\",\"#1f77b4\",\"#d62728\",\"#ff7f0e\",\"#2ca02c\",\"#2ca02c\",\"#2ca02c\",\"#2ca02c\",\"#2ca02c\",\"#d62728\",\"#2ca02c\",\"#2ca02c\",\"#2ca02c\",\"#2ca02c\",\"#ff7f0e\",\"#ff7f0e\",\"#2ca02c\",\"#1f77b4\",\"#d62728\",\"#1f77b4\",\"#2ca02c\",\"#ff7f0e\",\"#d62728\",\"#1f77b4\",\"#1f77b4\",\"#1f77b4\",\"#d62728\",\"#1f77b4\",\"#d62728\",\"#ff7f0e\",\"#2ca02c\",\"#1f77b4\",\"#1f77b4\",\"#2ca02c\",\"#d62728\",\"#d62728\",\"#1f77b4\",\"#2ca02c\",\"#2ca02c\",\"#1f77b4\",\"#1f77b4\",\"#1f77b4\",\"#d62728\",\"#1f77b4\",\"#2ca02c\",\"#d62728\",\"#2ca02c\",\"#1f77b4\",\"#d62728\",\"#d62728\",\"#ff7f0e\",\"#d62728\",\"#d62728\",\"#2ca02c\",\"#1f77b4\",\"#d62728\",\"#d62728\",\"#1f77b4\",\"#1f77b4\",\"#d62728\",\"#1f77b4\",\"#2ca02c\",\"#2ca02c\",\"#2ca02c\",\"#d62728\",\"#ff7f0e\",\"#1f77b4\",\"#1f77b4\",\"#ff7f0e\",\"#2ca02c\",\"#2ca02c\",\"#2ca02c\",\"#d62728\",\"#ff7f0e\",\"#1f77b4\",\"#2ca02c\",\"#1f77b4\",\"#1f77b4\",\"#2ca02c\",\"#ff7f0e\",\"#2ca02c\",\"#d62728\",\"#2ca02c\",\"#1f77b4\",\"#2ca02c\",\"#2ca02c\",\"#ff7f0e\",\"#d62728\",\"#2ca02c\",\"#1f77b4\",\"#2ca02c\",\"#2ca02c\",\"#ff7f0e\",\"#1f77b4\",\"#2ca02c\",\"#2ca02c\",\"#ff7f0e\",\"#2ca02c\",\"#ff7f0e\",\"#1f77b4\",\"#1f77b4\",\"#1f77b4\",\"#d62728\",\"#1f77b4\",\"#1f77b4\",\"#d62728\",\"#d62728\",\"#d62728\",\"#d62728\",\"#1f77b4\",\"#1f77b4\",\"#2ca02c\",\"#2ca02c\",\"#1f77b4\",\"#d62728\",\"#d62728\",\"#1f77b4\",\"#2ca02c\",\"#2ca02c\",\"#d62728\",\"#d62728\",\"#1f77b4\",\"#d62728\",\"#2ca02c\",\"#2ca02c\",\"#d62728\",\"#2ca02c\",\"#2ca02c\",\"#d62728\",\"#2ca02c\",\"#d62728\",\"#2ca02c\",\"#d62728\",\"#1f77b4\",\"#2ca02c\",\"#2ca02c\",\"#ff7f0e\",\"#1f77b4\",\"#d62728\",\"#1f77b4\",\"#1f77b4\",\"#2ca02c\",\"#d62728\",\"#d62728\",\"#2ca02c\",\"#1f77b4\",\"#1f77b4\",\"#1f77b4\",\"#2ca02c\",\"#1f77b4\",\"#d62728\",\"#2ca02c\",\"#2ca02c\",\"#2ca02c\",\"#1f77b4\",\"#1f77b4\",\"#2ca02c\",\"#2ca02c\",\"#2ca02c\",\"#2ca02c\",\"#d62728\",\"#ff7f0e\",\"#2ca02c\",\"#2ca02c\",\"#2ca02c\",\"#2ca02c\",\"#d62728\",\"#d62728\",\"#2ca02c\",\"#1f77b4\",\"#ff7f0e\",\"#2ca02c\",\"#ff7f0e\",\"#2ca02c\",\"#1f77b4\",\"#1f77b4\",\"#ff7f0e\",\"#1f77b4\",\"#2ca02c\",\"#1f77b4\",\"#1f77b4\",\"#2ca02c\",\"#1f77b4\",\"#ff7f0e\",\"#1f77b4\",\"#2ca02c\",\"#2ca02c\",\"#ff7f0e\",\"#2ca02c\",\"#2ca02c\",\"#2ca02c\",\"#ff7f0e\",\"#1f77b4\",\"#1f77b4\",\"#1f77b4\",\"#2ca02c\",\"#ff7f0e\",\"#2ca02c\",\"#ff7f0e\",\"#2ca02c\",\"#2ca02c\",\"#1f77b4\",\"#2ca02c\",\"#2ca02c\",\"#1f77b4\",\"#2ca02c\",\"#ff7f0e\",\"#1f77b4\",\"#1f77b4\",\"#2ca02c\",\"#d62728\",\"#2ca02c\",\"#1f77b4\",\"#2ca02c\",\"#d62728\",\"#2ca02c\",\"#1f77b4\",\"#1f77b4\",\"#2ca02c\",\"#d62728\",\"#1f77b4\",\"#d62728\",\"#d62728\",\"#2ca02c\",\"#2ca02c\",\"#2ca02c\",\"#2ca02c\",\"#d62728\",\"#1f77b4\",\"#2ca02c\",\"#2ca02c\",\"#ff7f0e\",\"#1f77b4\",\"#2ca02c\",\"#d62728\",\"#1f77b4\",\"#d62728\",\"#1f77b4\",\"#d62728\",\"#1f77b4\",\"#1f77b4\",\"#ff7f0e\",\"#ff7f0e\",\"#d62728\",\"#d62728\",\"#2ca02c\",\"#1f77b4\",\"#2ca02c\",\"#d62728\",\"#1f77b4\",\"#1f77b4\",\"#2ca02c\",\"#2ca02c\",\"#2ca02c\",\"#d62728\",\"#d62728\",\"#d62728\",\"#ff7f0e\",\"#1f77b4\",\"#1f77b4\",\"#ff7f0e\",\"#d62728\",\"#ff7f0e\",\"#1f77b4\",\"#d62728\",\"#1f77b4\",\"#2ca02c\",\"#2ca02c\",\"#1f77b4\",\"#d62728\",\"#1f77b4\",\"#2ca02c\",\"#2ca02c\",\"#d62728\",\"#2ca02c\",\"#d62728\",\"#d62728\",\"#d62728\",\"#d62728\",\"#2ca02c\",\"#2ca02c\",\"#1f77b4\",\"#d62728\",\"#2ca02c\",\"#1f77b4\",\"#ff7f0e\",\"#2ca02c\",\"#ff7f0e\",\"#2ca02c\",\"#2ca02c\",\"#d62728\",\"#d62728\",\"#d62728\",\"#d62728\",\"#ff7f0e\",\"#2ca02c\",\"#ff7f0e\",\"#1f77b4\"],\"line_color\":[\"#1f77b4\",\"#d62728\",\"#2ca02c\",\"#ff7f0e\",\"#1f77b4\",\"#1f77b4\",\"#1f77b4\",\"#1f77b4\",\"#2ca02c\",\"#ff7f0e\",\"#d62728\",\"#ff7f0e\",\"#d62728\",\"#ff7f0e\",\"#1f77b4\",\"#1f77b4\",\"#1f77b4\",\"#ff7f0e\",\"#d62728\",\"#2ca02c\",\"#1f77b4\",\"#2ca02c\",\"#2ca02c\",\"#1f77b4\",\"#ff7f0e\",\"#2ca02c\",\"#1f77b4\",\"#2ca02c\",\"#2ca02c\",\"#2ca02c\",\"#2ca02c\",\"#2ca02c\",\"#1f77b4\",\"#d62728\",\"#1f77b4\",\"#1f77b4\",\"#2ca02c\",\"#d62728\",\"#2ca02c\",\"#ff7f0e\",\"#2ca02c\",\"#2ca02c\",\"#2ca02c\",\"#ff7f0e\",\"#1f77b4\",\"#d62728\",\"#2ca02c\",\"#2ca02c\",\"#d62728\",\"#ff7f0e\",\"#1f77b4\",\"#2ca02c\",\"#2ca02c\",\"#1f77b4\",\"#1f77b4\",\"#2ca02c\",\"#1f77b4\",\"#d62728\",\"#2ca02c\",\"#d62728\",\"#1f77b4\",\"#2ca02c\",\"#1f77b4\",\"#2ca02c\",\"#d62728\",\"#2ca02c\",\"#ff7f0e\",\"#1f77b4\",\"#2ca02c\",\"#d62728\",\"#2ca02c\",\"#2ca02c\",\"#2ca02c\",\"#1f77b4\",\"#ff7f0e\",\"#1f77b4\",\"#2ca02c\",\"#1f77b4\",\"#2ca02c\",\"#d62728\",\"#d62728\",\"#1f77b4\",\"#2ca02c\",\"#2ca02c\",\"#1f77b4\",\"#1f77b4\",\"#2ca02c\",\"#d62728\",\"#2ca02c\",\"#2ca02c\",\"#1f77b4\",\"#1f77b4\",\"#1f77b4\",\"#2ca02c\",\"#2ca02c\",\"#1f77b4\",\"#2ca02c\",\"#1f77b4\",\"#1f77b4\",\"#2ca02c\",\"#2ca02c\",\"#d62728\",\"#d62728\",\"#d62728\",\"#ff7f0e\",\"#2ca02c\",\"#2ca02c\",\"#1f77b4\",\"#d62728\",\"#1f77b4\",\"#d62728\",\"#d62728\",\"#ff7f0e\",\"#2ca02c\",\"#2ca02c\",\"#2ca02c\",\"#ff7f0e\",\"#1f77b4\",\"#ff7f0e\",\"#2ca02c\",\"#1f77b4\",\"#1f77b4\",\"#2ca02c\",\"#2ca02c\",\"#ff7f0e\",\"#2ca02c\",\"#ff7f0e\",\"#2ca02c\",\"#1f77b4\",\"#1f77b4\",\"#d62728\",\"#2ca02c\",\"#1f77b4\",\"#2ca02c\",\"#1f77b4\",\"#1f77b4\",\"#d62728\",\"#2ca02c\",\"#2ca02c\",\"#2ca02c\",\"#2ca02c\",\"#ff7f0e\",\"#2ca02c\",\"#1f77b4\",\"#1f77b4\",\"#d62728\",\"#ff7f0e\",\"#2ca02c\",\"#2ca02c\",\"#ff7f0e\",\"#1f77b4\",\"#2ca02c\",\"#d62728\",\"#2ca02c\",\"#2ca02c\",\"#2ca02c\",\"#2ca02c\",\"#d62728\",\"#2ca02c\",\"#1f77b4\",\"#2ca02c\",\"#ff7f0e\",\"#1f77b4\",\"#2ca02c\",\"#ff7f0e\",\"#1f77b4\",\"#2ca02c\",\"#ff7f0e\",\"#2ca02c\",\"#2ca02c\",\"#2ca02c\",\"#d62728\",\"#1f77b4\",\"#1f77b4\",\"#2ca02c\",\"#ff7f0e\",\"#1f77b4\",\"#1f77b4\",\"#1f77b4\",\"#ff7f0e\",\"#2ca02c\",\"#d62728\",\"#d62728\",\"#d62728\",\"#ff7f0e\",\"#2ca02c\",\"#2ca02c\",\"#1f77b4\",\"#2ca02c\",\"#ff7f0e\",\"#1f77b4\",\"#1f77b4\",\"#ff7f0e\",\"#2ca02c\",\"#2ca02c\",\"#2ca02c\",\"#d62728\",\"#1f77b4\",\"#1f77b4\",\"#ff7f0e\",\"#d62728\",\"#1f77b4\",\"#ff7f0e\",\"#ff7f0e\",\"#d62728\",\"#1f77b4\",\"#ff7f0e\",\"#2ca02c\",\"#d62728\",\"#d62728\",\"#d62728\",\"#2ca02c\",\"#1f77b4\",\"#ff7f0e\",\"#d62728\",\"#1f77b4\",\"#d62728\",\"#1f77b4\",\"#ff7f0e\",\"#1f77b4\",\"#2ca02c\",\"#1f77b4\",\"#2ca02c\",\"#2ca02c\",\"#2ca02c\",\"#d62728\",\"#ff7f0e\",\"#ff7f0e\",\"#1f77b4\",\"#ff7f0e\",\"#2ca02c\",\"#1f77b4\",\"#1f77b4\",\"#2ca02c\",\"#2ca02c\",\"#1f77b4\",\"#ff7f0e\",\"#d62728\",\"#d62728\",\"#1f77b4\",\"#d62728\",\"#1f77b4\",\"#2ca02c\",\"#1f77b4\",\"#d62728\",\"#2ca02c\",\"#2ca02c\",\"#d62728\",\"#2ca02c\",\"#2ca02c\",\"#d62728\",\"#2ca02c\",\"#2ca02c\",\"#d62728\",\"#ff7f0e\",\"#d62728\",\"#2ca02c\",\"#d62728\",\"#d62728\",\"#ff7f0e\",\"#1f77b4\",\"#2ca02c\",\"#1f77b4\",\"#d62728\",\"#d62728\",\"#2ca02c\",\"#1f77b4\",\"#d62728\",\"#1f77b4\",\"#d62728\",\"#2ca02c\",\"#d62728\",\"#1f77b4\",\"#ff7f0e\",\"#d62728\",\"#1f77b4\",\"#2ca02c\",\"#1f77b4\",\"#d62728\",\"#2ca02c\",\"#1f77b4\",\"#2ca02c\",\"#2ca02c\",\"#2ca02c\",\"#2ca02c\",\"#ff7f0e\",\"#1f77b4\",\"#2ca02c\",\"#ff7f0e\",\"#2ca02c\",\"#d62728\",\"#1f77b4\",\"#1f77b4\",\"#d62728\",\"#1f77b4\",\"#1f77b4\",\"#1f77b4\",\"#2ca02c\",\"#ff7f0e\",\"#2ca02c\",\"#1f77b4\",\"#ff7f0e\",\"#1f77b4\",\"#2ca02c\",\"#ff7f0e\",\"#1f77b4\",\"#d62728\",\"#1f77b4\",\"#1f77b4\",\"#ff7f0e\",\"#ff7f0e\",\"#ff7f0e\",\"#2ca02c\",\"#ff7f0e\",\"#1f77b4\",\"#d62728\",\"#ff7f0e\",\"#d62728\",\"#1f77b4\",\"#1f77b4\",\"#d62728\",\"#2ca02c\",\"#ff7f0e\",\"#1f77b4\",\"#1f77b4\",\"#2ca02c\",\"#d62728\",\"#1f77b4\",\"#2ca02c\",\"#d62728\",\"#ff7f0e\",\"#d62728\",\"#1f77b4\",\"#1f77b4\",\"#ff7f0e\",\"#2ca02c\",\"#d62728\",\"#2ca02c\",\"#2ca02c\",\"#1f77b4\",\"#2ca02c\",\"#d62728\",\"#2ca02c\",\"#2ca02c\",\"#d62728\",\"#2ca02c\",\"#d62728\",\"#2ca02c\",\"#2ca02c\",\"#1f77b4\",\"#2ca02c\",\"#1f77b4\",\"#d62728\",\"#d62728\",\"#d62728\",\"#1f77b4\",\"#2ca02c\",\"#d62728\",\"#1f77b4\",\"#2ca02c\",\"#1f77b4\",\"#2ca02c\",\"#2ca02c\",\"#1f77b4\",\"#2ca02c\",\"#d62728\",\"#ff7f0e\",\"#1f77b4\",\"#ff7f0e\",\"#1f77b4\",\"#2ca02c\",\"#1f77b4\",\"#d62728\",\"#d62728\",\"#1f77b4\",\"#ff7f0e\",\"#2ca02c\",\"#1f77b4\",\"#ff7f0e\",\"#d62728\",\"#d62728\",\"#1f77b4\",\"#1f77b4\",\"#2ca02c\",\"#1f77b4\",\"#1f77b4\",\"#1f77b4\",\"#ff7f0e\",\"#1f77b4\",\"#1f77b4\",\"#2ca02c\",\"#ff7f0e\",\"#1f77b4\",\"#1f77b4\",\"#2ca02c\",\"#1f77b4\",\"#1f77b4\",\"#d62728\",\"#1f77b4\",\"#d62728\",\"#1f77b4\",\"#1f77b4\",\"#2ca02c\",\"#d62728\",\"#d62728\",\"#1f77b4\",\"#d62728\",\"#d62728\",\"#2ca02c\",\"#2ca02c\",\"#d62728\",\"#2ca02c\",\"#2ca02c\",\"#ff7f0e\",\"#2ca02c\",\"#1f77b4\",\"#d62728\",\"#2ca02c\",\"#d62728\",\"#d62728\",\"#2ca02c\",\"#1f77b4\",\"#ff7f0e\",\"#1f77b4\",\"#1f77b4\",\"#1f77b4\",\"#1f77b4\",\"#2ca02c\",\"#d62728\",\"#d62728\",\"#2ca02c\",\"#2ca02c\",\"#1f77b4\",\"#d62728\",\"#d62728\",\"#2ca02c\",\"#2ca02c\",\"#2ca02c\",\"#2ca02c\",\"#1f77b4\",\"#2ca02c\",\"#1f77b4\",\"#2ca02c\",\"#2ca02c\",\"#d62728\",\"#2ca02c\",\"#d62728\",\"#1f77b4\",\"#2ca02c\",\"#1f77b4\",\"#d62728\",\"#2ca02c\",\"#1f77b4\",\"#2ca02c\",\"#2ca02c\",\"#ff7f0e\",\"#d62728\",\"#2ca02c\",\"#2ca02c\",\"#1f77b4\",\"#d62728\",\"#2ca02c\",\"#ff7f0e\",\"#1f77b4\",\"#1f77b4\",\"#1f77b4\",\"#1f77b4\",\"#1f77b4\",\"#1f77b4\",\"#1f77b4\",\"#d62728\",\"#2ca02c\",\"#2ca02c\",\"#2ca02c\",\"#ff7f0e\",\"#ff7f0e\",\"#2ca02c\",\"#2ca02c\",\"#ff7f0e\",\"#1f77b4\",\"#1f77b4\",\"#2ca02c\",\"#2ca02c\",\"#2ca02c\",\"#2ca02c\",\"#ff7f0e\",\"#1f77b4\",\"#2ca02c\",\"#2ca02c\",\"#d62728\",\"#2ca02c\",\"#2ca02c\",\"#1f77b4\",\"#1f77b4\",\"#d62728\",\"#2ca02c\",\"#1f77b4\",\"#1f77b4\",\"#d62728\",\"#ff7f0e\",\"#2ca02c\",\"#1f77b4\",\"#2ca02c\",\"#2ca02c\",\"#1f77b4\",\"#d62728\",\"#1f77b4\",\"#d62728\",\"#ff7f0e\",\"#d62728\",\"#2ca02c\",\"#2ca02c\",\"#2ca02c\",\"#ff7f0e\",\"#d62728\",\"#1f77b4\",\"#2ca02c\",\"#2ca02c\",\"#d62728\",\"#1f77b4\",\"#1f77b4\",\"#d62728\",\"#ff7f0e\",\"#1f77b4\",\"#1f77b4\",\"#2ca02c\",\"#2ca02c\",\"#1f77b4\",\"#2ca02c\",\"#1f77b4\",\"#2ca02c\",\"#d62728\",\"#1f77b4\",\"#1f77b4\",\"#ff7f0e\",\"#d62728\",\"#2ca02c\",\"#ff7f0e\",\"#ff7f0e\",\"#d62728\",\"#2ca02c\",\"#2ca02c\",\"#d62728\",\"#d62728\",\"#2ca02c\",\"#1f77b4\",\"#1f77b4\",\"#d62728\",\"#ff7f0e\",\"#1f77b4\",\"#d62728\",\"#2ca02c\",\"#1f77b4\",\"#ff7f0e\",\"#1f77b4\",\"#d62728\",\"#2ca02c\",\"#1f77b4\",\"#2ca02c\",\"#2ca02c\",\"#1f77b4\",\"#2ca02c\",\"#d62728\",\"#ff7f0e\",\"#1f77b4\",\"#d62728\",\"#2ca02c\",\"#2ca02c\",\"#1f77b4\",\"#d62728\",\"#d62728\",\"#ff7f0e\",\"#d62728\",\"#d62728\",\"#2ca02c\",\"#2ca02c\",\"#2ca02c\",\"#1f77b4\",\"#1f77b4\",\"#2ca02c\",\"#2ca02c\",\"#d62728\",\"#2ca02c\",\"#1f77b4\",\"#d62728\",\"#1f77b4\",\"#ff7f0e\",\"#2ca02c\",\"#1f77b4\",\"#d62728\",\"#2ca02c\",\"#d62728\",\"#1f77b4\",\"#2ca02c\",\"#ff7f0e\",\"#d62728\",\"#d62728\",\"#1f77b4\",\"#d62728\",\"#d62728\",\"#2ca02c\",\"#1f77b4\",\"#1f77b4\",\"#2ca02c\",\"#2ca02c\",\"#1f77b4\",\"#1f77b4\",\"#d62728\",\"#d62728\",\"#2ca02c\",\"#1f77b4\",\"#1f77b4\",\"#d62728\",\"#1f77b4\",\"#2ca02c\",\"#d62728\",\"#d62728\",\"#1f77b4\",\"#1f77b4\",\"#1f77b4\",\"#1f77b4\",\"#1f77b4\",\"#2ca02c\",\"#d62728\",\"#2ca02c\",\"#d62728\",\"#2ca02c\",\"#ff7f0e\",\"#d62728\",\"#2ca02c\",\"#ff7f0e\",\"#2ca02c\",\"#2ca02c\",\"#2ca02c\",\"#2ca02c\",\"#1f77b4\",\"#2ca02c\",\"#2ca02c\",\"#2ca02c\",\"#ff7f0e\",\"#2ca02c\",\"#d62728\",\"#d62728\",\"#1f77b4\",\"#2ca02c\",\"#1f77b4\",\"#1f77b4\",\"#2ca02c\",\"#1f77b4\",\"#1f77b4\",\"#2ca02c\",\"#ff7f0e\",\"#2ca02c\",\"#1f77b4\",\"#2ca02c\",\"#d62728\",\"#ff7f0e\",\"#2ca02c\",\"#2ca02c\",\"#ff7f0e\",\"#2ca02c\",\"#2ca02c\",\"#1f77b4\",\"#1f77b4\",\"#1f77b4\",\"#2ca02c\",\"#ff7f0e\",\"#d62728\",\"#ff7f0e\",\"#d62728\",\"#2ca02c\",\"#2ca02c\",\"#2ca02c\",\"#ff7f0e\",\"#1f77b4\",\"#2ca02c\",\"#1f77b4\",\"#1f77b4\",\"#2ca02c\",\"#2ca02c\",\"#1f77b4\",\"#2ca02c\",\"#1f77b4\",\"#2ca02c\",\"#1f77b4\",\"#1f77b4\",\"#2ca02c\",\"#2ca02c\",\"#2ca02c\",\"#1f77b4\",\"#1f77b4\",\"#1f77b4\",\"#2ca02c\",\"#ff7f0e\",\"#1f77b4\",\"#2ca02c\",\"#1f77b4\",\"#ff7f0e\",\"#1f77b4\",\"#1f77b4\",\"#2ca02c\",\"#d62728\",\"#d62728\",\"#ff7f0e\",\"#1f77b4\",\"#1f77b4\",\"#2ca02c\",\"#2ca02c\",\"#1f77b4\",\"#d62728\",\"#ff7f0e\",\"#ff7f0e\",\"#d62728\",\"#2ca02c\",\"#d62728\",\"#1f77b4\",\"#ff7f0e\",\"#ff7f0e\",\"#2ca02c\",\"#1f77b4\",\"#2ca02c\",\"#d62728\",\"#1f77b4\",\"#d62728\",\"#d62728\",\"#2ca02c\",\"#2ca02c\",\"#1f77b4\",\"#2ca02c\",\"#ff7f0e\",\"#1f77b4\",\"#d62728\",\"#ff7f0e\",\"#d62728\",\"#2ca02c\",\"#d62728\",\"#d62728\",\"#1f77b4\",\"#d62728\",\"#2ca02c\",\"#ff7f0e\",\"#1f77b4\",\"#2ca02c\",\"#ff7f0e\",\"#1f77b4\",\"#1f77b4\",\"#1f77b4\",\"#d62728\",\"#d62728\",\"#2ca02c\",\"#1f77b4\",\"#1f77b4\",\"#1f77b4\",\"#2ca02c\",\"#d62728\",\"#2ca02c\",\"#2ca02c\",\"#2ca02c\",\"#d62728\",\"#2ca02c\",\"#ff7f0e\",\"#1f77b4\",\"#d62728\",\"#2ca02c\",\"#1f77b4\",\"#ff7f0e\",\"#d62728\",\"#d62728\",\"#ff7f0e\",\"#1f77b4\",\"#d62728\",\"#2ca02c\",\"#2ca02c\",\"#2ca02c\",\"#1f77b4\",\"#d62728\",\"#1f77b4\",\"#d62728\",\"#2ca02c\",\"#d62728\",\"#2ca02c\",\"#1f77b4\",\"#1f77b4\",\"#ff7f0e\",\"#2ca02c\",\"#ff7f0e\",\"#d62728\",\"#d62728\",\"#d62728\",\"#1f77b4\",\"#1f77b4\",\"#d62728\",\"#d62728\",\"#2ca02c\",\"#1f77b4\",\"#2ca02c\",\"#d62728\",\"#d62728\",\"#2ca02c\",\"#2ca02c\",\"#1f77b4\",\"#2ca02c\",\"#d62728\",\"#ff7f0e\",\"#d62728\",\"#2ca02c\",\"#1f77b4\",\"#1f77b4\",\"#ff7f0e\",\"#ff7f0e\",\"#1f77b4\",\"#2ca02c\",\"#2ca02c\",\"#1f77b4\",\"#1f77b4\",\"#1f77b4\",\"#2ca02c\",\"#1f77b4\",\"#1f77b4\",\"#d62728\",\"#2ca02c\",\"#1f77b4\",\"#d62728\",\"#1f77b4\",\"#2ca02c\",\"#2ca02c\",\"#1f77b4\",\"#2ca02c\",\"#d62728\",\"#2ca02c\",\"#2ca02c\",\"#1f77b4\",\"#1f77b4\",\"#d62728\",\"#1f77b4\",\"#d62728\",\"#2ca02c\",\"#d62728\",\"#1f77b4\",\"#2ca02c\",\"#1f77b4\",\"#1f77b4\",\"#2ca02c\",\"#2ca02c\",\"#1f77b4\",\"#2ca02c\",\"#2ca02c\",\"#1f77b4\",\"#ff7f0e\",\"#d62728\",\"#2ca02c\",\"#1f77b4\",\"#d62728\",\"#2ca02c\",\"#ff7f0e\",\"#1f77b4\",\"#1f77b4\",\"#d62728\",\"#d62728\",\"#2ca02c\",\"#d62728\",\"#1f77b4\",\"#d62728\",\"#1f77b4\",\"#1f77b4\",\"#ff7f0e\",\"#2ca02c\",\"#2ca02c\",\"#d62728\",\"#d62728\",\"#d62728\",\"#2ca02c\",\"#1f77b4\",\"#2ca02c\",\"#2ca02c\",\"#1f77b4\",\"#2ca02c\",\"#d62728\",\"#d62728\",\"#2ca02c\",\"#1f77b4\",\"#d62728\",\"#ff7f0e\",\"#1f77b4\",\"#1f77b4\",\"#d62728\",\"#1f77b4\",\"#d62728\",\"#ff7f0e\",\"#2ca02c\",\"#d62728\",\"#1f77b4\",\"#1f77b4\",\"#1f77b4\",\"#2ca02c\",\"#1f77b4\",\"#1f77b4\",\"#1f77b4\",\"#1f77b4\",\"#d62728\",\"#2ca02c\",\"#d62728\",\"#1f77b4\",\"#2ca02c\",\"#1f77b4\",\"#2ca02c\",\"#d62728\",\"#ff7f0e\",\"#1f77b4\",\"#2ca02c\",\"#2ca02c\",\"#ff7f0e\",\"#2ca02c\",\"#2ca02c\",\"#1f77b4\",\"#ff7f0e\",\"#2ca02c\",\"#ff7f0e\",\"#2ca02c\",\"#ff7f0e\",\"#2ca02c\",\"#2ca02c\",\"#1f77b4\",\"#1f77b4\",\"#1f77b4\",\"#ff7f0e\",\"#2ca02c\",\"#1f77b4\",\"#d62728\",\"#2ca02c\",\"#2ca02c\",\"#2ca02c\",\"#2ca02c\",\"#1f77b4\",\"#ff7f0e\",\"#1f77b4\",\"#1f77b4\",\"#d62728\",\"#1f77b4\",\"#d62728\",\"#1f77b4\",\"#1f77b4\",\"#1f77b4\",\"#d62728\",\"#1f77b4\",\"#1f77b4\",\"#1f77b4\",\"#1f77b4\",\"#1f77b4\",\"#ff7f0e\",\"#2ca02c\",\"#1f77b4\",\"#d62728\",\"#ff7f0e\",\"#d62728\",\"#1f77b4\",\"#1f77b4\",\"#d62728\",\"#1f77b4\",\"#ff7f0e\",\"#1f77b4\",\"#2ca02c\",\"#1f77b4\",\"#2ca02c\",\"#d62728\",\"#d62728\",\"#1f77b4\",\"#ff7f0e\",\"#d62728\",\"#ff7f0e\",\"#2ca02c\",\"#2ca02c\",\"#d62728\",\"#1f77b4\",\"#d62728\",\"#2ca02c\",\"#2ca02c\",\"#ff7f0e\",\"#2ca02c\",\"#d62728\",\"#2ca02c\",\"#ff7f0e\",\"#1f77b4\",\"#1f77b4\",\"#d62728\",\"#d62728\",\"#2ca02c\",\"#d62728\",\"#1f77b4\",\"#2ca02c\",\"#d62728\",\"#d62728\",\"#2ca02c\",\"#ff7f0e\",\"#2ca02c\",\"#2ca02c\",\"#d62728\",\"#2ca02c\",\"#1f77b4\",\"#d62728\",\"#d62728\",\"#1f77b4\",\"#1f77b4\",\"#2ca02c\",\"#d62728\",\"#d62728\",\"#2ca02c\",\"#2ca02c\",\"#2ca02c\",\"#d62728\",\"#d62728\",\"#ff7f0e\",\"#2ca02c\",\"#ff7f0e\",\"#d62728\",\"#1f77b4\",\"#1f77b4\",\"#2ca02c\",\"#2ca02c\",\"#2ca02c\",\"#2ca02c\",\"#2ca02c\",\"#1f77b4\",\"#d62728\",\"#d62728\",\"#2ca02c\",\"#ff7f0e\",\"#d62728\",\"#d62728\",\"#1f77b4\",\"#1f77b4\",\"#d62728\",\"#d62728\",\"#1f77b4\",\"#d62728\",\"#1f77b4\",\"#1f77b4\",\"#2ca02c\",\"#2ca02c\",\"#1f77b4\",\"#2ca02c\",\"#2ca02c\",\"#d62728\",\"#ff7f0e\",\"#ff7f0e\",\"#2ca02c\",\"#ff7f0e\",\"#d62728\",\"#d62728\",\"#ff7f0e\",\"#1f77b4\",\"#d62728\",\"#1f77b4\",\"#d62728\",\"#2ca02c\",\"#1f77b4\",\"#d62728\",\"#2ca02c\",\"#2ca02c\",\"#2ca02c\",\"#2ca02c\",\"#d62728\",\"#2ca02c\",\"#2ca02c\",\"#2ca02c\",\"#2ca02c\",\"#1f77b4\",\"#2ca02c\",\"#2ca02c\",\"#d62728\",\"#d62728\",\"#2ca02c\",\"#1f77b4\",\"#d62728\",\"#d62728\",\"#ff7f0e\",\"#2ca02c\",\"#d62728\",\"#1f77b4\",\"#1f77b4\",\"#d62728\",\"#ff7f0e\",\"#d62728\",\"#1f77b4\",\"#1f77b4\",\"#1f77b4\",\"#1f77b4\",\"#1f77b4\",\"#d62728\",\"#2ca02c\",\"#1f77b4\",\"#ff7f0e\",\"#2ca02c\",\"#2ca02c\",\"#d62728\",\"#2ca02c\",\"#2ca02c\",\"#1f77b4\",\"#1f77b4\",\"#2ca02c\",\"#ff7f0e\",\"#1f77b4\",\"#1f77b4\",\"#ff7f0e\",\"#d62728\",\"#d62728\",\"#ff7f0e\",\"#ff7f0e\",\"#2ca02c\",\"#1f77b4\",\"#2ca02c\",\"#1f77b4\",\"#1f77b4\",\"#1f77b4\",\"#2ca02c\",\"#d62728\",\"#1f77b4\",\"#2ca02c\",\"#2ca02c\",\"#d62728\",\"#ff7f0e\",\"#2ca02c\",\"#2ca02c\",\"#2ca02c\",\"#1f77b4\",\"#d62728\",\"#d62728\",\"#ff7f0e\",\"#1f77b4\",\"#ff7f0e\",\"#1f77b4\",\"#1f77b4\",\"#d62728\",\"#2ca02c\",\"#2ca02c\",\"#1f77b4\",\"#ff7f0e\",\"#1f77b4\",\"#1f77b4\",\"#d62728\",\"#ff7f0e\",\"#ff7f0e\",\"#1f77b4\",\"#ff7f0e\",\"#ff7f0e\",\"#d62728\",\"#1f77b4\",\"#2ca02c\",\"#1f77b4\",\"#d62728\",\"#2ca02c\",\"#1f77b4\",\"#2ca02c\",\"#d62728\",\"#2ca02c\",\"#2ca02c\",\"#2ca02c\",\"#2ca02c\",\"#2ca02c\",\"#d62728\",\"#1f77b4\",\"#2ca02c\",\"#2ca02c\",\"#2ca02c\",\"#1f77b4\",\"#2ca02c\",\"#1f77b4\",\"#2ca02c\",\"#1f77b4\",\"#ff7f0e\",\"#2ca02c\",\"#ff7f0e\",\"#2ca02c\",\"#2ca02c\",\"#2ca02c\",\"#2ca02c\",\"#ff7f0e\",\"#1f77b4\",\"#1f77b4\",\"#d62728\",\"#2ca02c\",\"#d62728\",\"#1f77b4\",\"#1f77b4\",\"#1f77b4\",\"#1f77b4\",\"#ff7f0e\",\"#1f77b4\",\"#1f77b4\",\"#ff7f0e\",\"#d62728\",\"#2ca02c\",\"#1f77b4\",\"#1f77b4\",\"#2ca02c\",\"#ff7f0e\",\"#2ca02c\",\"#d62728\",\"#ff7f0e\",\"#d62728\",\"#d62728\",\"#2ca02c\",\"#2ca02c\",\"#1f77b4\",\"#2ca02c\",\"#d62728\",\"#d62728\",\"#2ca02c\",\"#d62728\",\"#d62728\",\"#2ca02c\",\"#2ca02c\",\"#2ca02c\",\"#1f77b4\",\"#2ca02c\",\"#2ca02c\",\"#2ca02c\",\"#ff7f0e\",\"#d62728\",\"#d62728\",\"#d62728\",\"#1f77b4\",\"#d62728\",\"#2ca02c\",\"#1f77b4\",\"#2ca02c\",\"#2ca02c\",\"#ff7f0e\",\"#1f77b4\",\"#1f77b4\",\"#2ca02c\",\"#2ca02c\",\"#2ca02c\",\"#ff7f0e\",\"#ff7f0e\",\"#2ca02c\",\"#ff7f0e\",\"#2ca02c\",\"#d62728\",\"#1f77b4\",\"#1f77b4\",\"#2ca02c\",\"#1f77b4\",\"#ff7f0e\",\"#d62728\",\"#2ca02c\",\"#2ca02c\",\"#ff7f0e\",\"#ff7f0e\",\"#ff7f0e\",\"#ff7f0e\",\"#1f77b4\",\"#2ca02c\",\"#1f77b4\",\"#d62728\",\"#2ca02c\",\"#d62728\",\"#2ca02c\",\"#1f77b4\",\"#ff7f0e\",\"#2ca02c\",\"#1f77b4\",\"#1f77b4\",\"#1f77b4\",\"#1f77b4\",\"#1f77b4\",\"#d62728\",\"#1f77b4\",\"#2ca02c\",\"#2ca02c\",\"#1f77b4\",\"#1f77b4\",\"#1f77b4\",\"#2ca02c\",\"#2ca02c\",\"#d62728\",\"#1f77b4\",\"#ff7f0e\",\"#1f77b4\",\"#d62728\",\"#1f77b4\",\"#1f77b4\",\"#2ca02c\",\"#1f77b4\",\"#d62728\",\"#2ca02c\",\"#1f77b4\",\"#2ca02c\",\"#1f77b4\",\"#1f77b4\",\"#ff7f0e\",\"#d62728\",\"#d62728\",\"#1f77b4\",\"#2ca02c\",\"#ff7f0e\",\"#1f77b4\",\"#d62728\",\"#2ca02c\",\"#2ca02c\",\"#1f77b4\",\"#2ca02c\",\"#d62728\",\"#1f77b4\",\"#1f77b4\",\"#d62728\",\"#1f77b4\",\"#2ca02c\",\"#d62728\",\"#1f77b4\",\"#2ca02c\",\"#2ca02c\",\"#2ca02c\",\"#d62728\",\"#1f77b4\",\"#1f77b4\",\"#1f77b4\",\"#2ca02c\",\"#1f77b4\",\"#1f77b4\",\"#2ca02c\",\"#ff7f0e\",\"#2ca02c\",\"#d62728\",\"#d62728\",\"#2ca02c\",\"#1f77b4\",\"#ff7f0e\",\"#d62728\",\"#2ca02c\",\"#2ca02c\",\"#2ca02c\",\"#2ca02c\",\"#1f77b4\",\"#2ca02c\",\"#d62728\",\"#d62728\",\"#ff7f0e\",\"#2ca02c\",\"#d62728\",\"#2ca02c\",\"#d62728\",\"#1f77b4\",\"#2ca02c\",\"#d62728\",\"#1f77b4\",\"#d62728\",\"#2ca02c\",\"#2ca02c\",\"#ff7f0e\",\"#2ca02c\",\"#d62728\",\"#1f77b4\",\"#ff7f0e\",\"#d62728\",\"#1f77b4\",\"#2ca02c\",\"#ff7f0e\",\"#1f77b4\",\"#2ca02c\",\"#2ca02c\",\"#1f77b4\",\"#2ca02c\",\"#2ca02c\",\"#2ca02c\",\"#ff7f0e\",\"#d62728\",\"#2ca02c\",\"#d62728\",\"#d62728\",\"#2ca02c\",\"#2ca02c\",\"#1f77b4\",\"#2ca02c\",\"#1f77b4\",\"#d62728\",\"#2ca02c\",\"#1f77b4\",\"#2ca02c\",\"#2ca02c\",\"#2ca02c\",\"#ff7f0e\",\"#d62728\",\"#1f77b4\",\"#2ca02c\",\"#1f77b4\",\"#1f77b4\",\"#d62728\",\"#2ca02c\",\"#2ca02c\",\"#d62728\",\"#d62728\",\"#d62728\",\"#2ca02c\",\"#1f77b4\",\"#2ca02c\",\"#2ca02c\",\"#d62728\",\"#ff7f0e\",\"#1f77b4\",\"#1f77b4\",\"#d62728\",\"#2ca02c\",\"#1f77b4\",\"#ff7f0e\",\"#1f77b4\",\"#2ca02c\",\"#ff7f0e\",\"#2ca02c\",\"#2ca02c\",\"#1f77b4\",\"#1f77b4\",\"#d62728\",\"#d62728\",\"#2ca02c\",\"#2ca02c\",\"#d62728\",\"#1f77b4\",\"#2ca02c\",\"#2ca02c\",\"#2ca02c\",\"#2ca02c\",\"#d62728\",\"#d62728\",\"#2ca02c\",\"#1f77b4\",\"#d62728\",\"#1f77b4\",\"#d62728\",\"#2ca02c\",\"#1f77b4\",\"#d62728\",\"#1f77b4\",\"#d62728\",\"#2ca02c\",\"#d62728\",\"#1f77b4\",\"#ff7f0e\",\"#1f77b4\",\"#d62728\",\"#ff7f0e\",\"#1f77b4\",\"#2ca02c\",\"#1f77b4\",\"#2ca02c\",\"#2ca02c\",\"#2ca02c\",\"#d62728\",\"#d62728\",\"#1f77b4\",\"#2ca02c\",\"#d62728\",\"#ff7f0e\",\"#ff7f0e\",\"#ff7f0e\",\"#1f77b4\",\"#d62728\",\"#d62728\",\"#ff7f0e\",\"#d62728\",\"#d62728\",\"#2ca02c\",\"#1f77b4\",\"#2ca02c\",\"#d62728\",\"#2ca02c\",\"#1f77b4\",\"#2ca02c\",\"#2ca02c\",\"#1f77b4\",\"#d62728\",\"#2ca02c\",\"#d62728\",\"#d62728\",\"#2ca02c\",\"#2ca02c\",\"#1f77b4\",\"#d62728\",\"#d62728\",\"#2ca02c\",\"#1f77b4\",\"#1f77b4\",\"#2ca02c\",\"#2ca02c\",\"#1f77b4\",\"#2ca02c\",\"#d62728\",\"#1f77b4\",\"#1f77b4\",\"#1f77b4\",\"#2ca02c\",\"#2ca02c\",\"#ff7f0e\",\"#1f77b4\",\"#2ca02c\",\"#ff7f0e\",\"#2ca02c\",\"#d62728\",\"#2ca02c\",\"#1f77b4\",\"#2ca02c\",\"#ff7f0e\",\"#2ca02c\",\"#1f77b4\",\"#ff7f0e\",\"#1f77b4\",\"#1f77b4\",\"#ff7f0e\",\"#1f77b4\",\"#ff7f0e\",\"#2ca02c\",\"#1f77b4\",\"#d62728\",\"#d62728\",\"#d62728\",\"#ff7f0e\",\"#ff7f0e\",\"#ff7f0e\",\"#1f77b4\",\"#1f77b4\",\"#2ca02c\",\"#2ca02c\",\"#1f77b4\",\"#d62728\",\"#d62728\",\"#1f77b4\",\"#1f77b4\",\"#d62728\",\"#2ca02c\",\"#1f77b4\",\"#2ca02c\",\"#1f77b4\",\"#1f77b4\",\"#2ca02c\",\"#1f77b4\",\"#ff7f0e\",\"#2ca02c\",\"#d62728\",\"#1f77b4\",\"#ff7f0e\",\"#d62728\",\"#1f77b4\",\"#2ca02c\",\"#d62728\",\"#2ca02c\",\"#2ca02c\",\"#2ca02c\",\"#2ca02c\",\"#d62728\",\"#1f77b4\",\"#ff7f0e\",\"#1f77b4\",\"#ff7f0e\",\"#2ca02c\",\"#1f77b4\",\"#2ca02c\",\"#d62728\",\"#d62728\",\"#2ca02c\",\"#2ca02c\",\"#2ca02c\",\"#1f77b4\",\"#1f77b4\",\"#d62728\",\"#2ca02c\",\"#d62728\",\"#1f77b4\",\"#2ca02c\",\"#2ca02c\",\"#2ca02c\",\"#d62728\",\"#1f77b4\",\"#2ca02c\",\"#2ca02c\",\"#1f77b4\",\"#2ca02c\",\"#ff7f0e\",\"#1f77b4\",\"#1f77b4\",\"#2ca02c\",\"#ff7f0e\",\"#d62728\",\"#1f77b4\",\"#2ca02c\",\"#2ca02c\",\"#1f77b4\",\"#1f77b4\",\"#1f77b4\",\"#1f77b4\",\"#1f77b4\",\"#1f77b4\",\"#ff7f0e\",\"#d62728\",\"#1f77b4\",\"#d62728\",\"#d62728\",\"#d62728\",\"#2ca02c\",\"#ff7f0e\",\"#2ca02c\",\"#ff7f0e\",\"#ff7f0e\",\"#2ca02c\",\"#d62728\",\"#2ca02c\",\"#ff7f0e\",\"#2ca02c\",\"#1f77b4\",\"#d62728\",\"#ff7f0e\",\"#ff7f0e\",\"#1f77b4\",\"#1f77b4\",\"#1f77b4\",\"#ff7f0e\",\"#1f77b4\",\"#1f77b4\",\"#2ca02c\",\"#1f77b4\",\"#1f77b4\",\"#2ca02c\",\"#d62728\",\"#ff7f0e\",\"#2ca02c\",\"#d62728\",\"#1f77b4\",\"#ff7f0e\",\"#1f77b4\",\"#1f77b4\",\"#1f77b4\",\"#2ca02c\",\"#d62728\",\"#2ca02c\",\"#d62728\",\"#1f77b4\",\"#d62728\",\"#d62728\",\"#d62728\",\"#2ca02c\",\"#1f77b4\",\"#2ca02c\",\"#2ca02c\",\"#2ca02c\",\"#d62728\",\"#2ca02c\",\"#2ca02c\",\"#d62728\",\"#2ca02c\",\"#2ca02c\",\"#d62728\",\"#2ca02c\",\"#d62728\",\"#d62728\",\"#1f77b4\",\"#1f77b4\",\"#1f77b4\",\"#2ca02c\",\"#2ca02c\",\"#d62728\",\"#1f77b4\",\"#ff7f0e\",\"#ff7f0e\",\"#2ca02c\",\"#1f77b4\",\"#2ca02c\",\"#d62728\",\"#2ca02c\",\"#ff7f0e\",\"#2ca02c\",\"#d62728\",\"#d62728\",\"#ff7f0e\",\"#1f77b4\",\"#d62728\",\"#ff7f0e\",\"#2ca02c\",\"#2ca02c\",\"#1f77b4\",\"#2ca02c\",\"#d62728\",\"#2ca02c\",\"#1f77b4\",\"#2ca02c\",\"#ff7f0e\",\"#1f77b4\",\"#2ca02c\",\"#1f77b4\",\"#d62728\",\"#2ca02c\",\"#ff7f0e\",\"#d62728\",\"#2ca02c\",\"#2ca02c\",\"#1f77b4\",\"#1f77b4\",\"#ff7f0e\",\"#d62728\",\"#1f77b4\",\"#d62728\",\"#2ca02c\",\"#d62728\",\"#2ca02c\",\"#ff7f0e\",\"#1f77b4\",\"#d62728\",\"#d62728\",\"#2ca02c\",\"#2ca02c\",\"#d62728\",\"#2ca02c\",\"#2ca02c\",\"#1f77b4\",\"#1f77b4\",\"#2ca02c\",\"#d62728\",\"#ff7f0e\",\"#ff7f0e\",\"#2ca02c\",\"#2ca02c\",\"#d62728\",\"#ff7f0e\",\"#ff7f0e\",\"#2ca02c\",\"#1f77b4\",\"#2ca02c\",\"#2ca02c\",\"#2ca02c\",\"#ff7f0e\",\"#d62728\",\"#1f77b4\",\"#ff7f0e\",\"#2ca02c\",\"#2ca02c\",\"#d62728\",\"#2ca02c\",\"#2ca02c\",\"#1f77b4\",\"#2ca02c\",\"#1f77b4\",\"#1f77b4\",\"#1f77b4\",\"#1f77b4\",\"#2ca02c\",\"#d62728\",\"#ff7f0e\",\"#d62728\",\"#d62728\",\"#2ca02c\",\"#d62728\",\"#2ca02c\",\"#2ca02c\",\"#d62728\",\"#2ca02c\",\"#2ca02c\",\"#ff7f0e\",\"#1f77b4\",\"#d62728\",\"#ff7f0e\",\"#1f77b4\",\"#1f77b4\",\"#d62728\",\"#1f77b4\",\"#d62728\",\"#ff7f0e\",\"#2ca02c\",\"#d62728\",\"#2ca02c\",\"#d62728\",\"#1f77b4\",\"#2ca02c\",\"#ff7f0e\",\"#2ca02c\",\"#d62728\",\"#d62728\",\"#1f77b4\",\"#1f77b4\",\"#1f77b4\",\"#2ca02c\",\"#1f77b4\",\"#1f77b4\",\"#2ca02c\",\"#2ca02c\",\"#d62728\",\"#d62728\",\"#2ca02c\",\"#2ca02c\",\"#d62728\",\"#1f77b4\",\"#d62728\",\"#d62728\",\"#ff7f0e\",\"#1f77b4\",\"#1f77b4\",\"#2ca02c\",\"#1f77b4\",\"#1f77b4\",\"#1f77b4\",\"#ff7f0e\",\"#1f77b4\",\"#2ca02c\",\"#2ca02c\",\"#ff7f0e\",\"#2ca02c\",\"#ff7f0e\",\"#d62728\",\"#1f77b4\",\"#d62728\",\"#d62728\",\"#2ca02c\",\"#2ca02c\",\"#1f77b4\",\"#2ca02c\",\"#2ca02c\",\"#1f77b4\",\"#2ca02c\",\"#1f77b4\",\"#1f77b4\",\"#d62728\",\"#d62728\",\"#2ca02c\",\"#1f77b4\",\"#1f77b4\",\"#1f77b4\",\"#1f77b4\",\"#2ca02c\",\"#d62728\",\"#1f77b4\",\"#2ca02c\",\"#ff7f0e\",\"#2ca02c\",\"#2ca02c\",\"#1f77b4\",\"#ff7f0e\",\"#1f77b4\",\"#d62728\",\"#2ca02c\",\"#2ca02c\",\"#1f77b4\",\"#2ca02c\",\"#2ca02c\",\"#d62728\",\"#1f77b4\",\"#2ca02c\",\"#2ca02c\",\"#2ca02c\",\"#ff7f0e\",\"#d62728\",\"#ff7f0e\",\"#1f77b4\",\"#1f77b4\",\"#1f77b4\",\"#1f77b4\",\"#2ca02c\",\"#2ca02c\",\"#d62728\",\"#d62728\",\"#1f77b4\",\"#1f77b4\",\"#1f77b4\",\"#1f77b4\",\"#2ca02c\",\"#ff7f0e\",\"#d62728\",\"#2ca02c\",\"#2ca02c\",\"#d62728\",\"#2ca02c\",\"#2ca02c\",\"#d62728\",\"#2ca02c\",\"#1f77b4\",\"#d62728\",\"#2ca02c\",\"#1f77b4\",\"#1f77b4\",\"#d62728\",\"#1f77b4\",\"#1f77b4\",\"#2ca02c\",\"#2ca02c\",\"#d62728\",\"#2ca02c\",\"#1f77b4\",\"#1f77b4\",\"#2ca02c\",\"#1f77b4\",\"#2ca02c\",\"#d62728\",\"#1f77b4\",\"#d62728\",\"#2ca02c\",\"#1f77b4\",\"#d62728\",\"#ff7f0e\",\"#2ca02c\",\"#1f77b4\",\"#1f77b4\",\"#2ca02c\",\"#1f77b4\",\"#d62728\",\"#d62728\",\"#2ca02c\",\"#ff7f0e\",\"#d62728\",\"#2ca02c\",\"#1f77b4\",\"#1f77b4\",\"#1f77b4\",\"#d62728\",\"#d62728\",\"#1f77b4\",\"#2ca02c\",\"#d62728\",\"#ff7f0e\",\"#d62728\",\"#1f77b4\",\"#ff7f0e\",\"#ff7f0e\",\"#d62728\",\"#1f77b4\",\"#1f77b4\",\"#1f77b4\",\"#d62728\",\"#1f77b4\",\"#2ca02c\",\"#2ca02c\",\"#2ca02c\",\"#1f77b4\",\"#2ca02c\",\"#2ca02c\",\"#d62728\",\"#2ca02c\",\"#1f77b4\",\"#1f77b4\",\"#2ca02c\",\"#d62728\",\"#d62728\",\"#2ca02c\",\"#ff7f0e\",\"#1f77b4\",\"#ff7f0e\",\"#d62728\",\"#d62728\",\"#d62728\",\"#2ca02c\",\"#1f77b4\",\"#d62728\",\"#1f77b4\",\"#1f77b4\",\"#d62728\",\"#2ca02c\",\"#1f77b4\",\"#1f77b4\",\"#ff7f0e\",\"#ff7f0e\",\"#d62728\",\"#d62728\",\"#1f77b4\",\"#2ca02c\",\"#ff7f0e\",\"#2ca02c\",\"#ff7f0e\",\"#2ca02c\",\"#2ca02c\",\"#2ca02c\",\"#1f77b4\",\"#ff7f0e\",\"#2ca02c\",\"#2ca02c\",\"#d62728\",\"#2ca02c\",\"#2ca02c\",\"#1f77b4\",\"#1f77b4\",\"#d62728\",\"#d62728\",\"#d62728\",\"#2ca02c\",\"#1f77b4\",\"#ff7f0e\",\"#2ca02c\",\"#d62728\",\"#2ca02c\",\"#d62728\",\"#1f77b4\",\"#2ca02c\",\"#1f77b4\",\"#d62728\",\"#d62728\",\"#d62728\",\"#1f77b4\",\"#d62728\",\"#ff7f0e\",\"#2ca02c\",\"#2ca02c\",\"#2ca02c\",\"#1f77b4\",\"#2ca02c\",\"#d62728\",\"#2ca02c\",\"#2ca02c\",\"#d62728\",\"#d62728\",\"#2ca02c\",\"#1f77b4\",\"#1f77b4\",\"#2ca02c\",\"#1f77b4\",\"#2ca02c\",\"#1f77b4\",\"#1f77b4\",\"#ff7f0e\",\"#d62728\",\"#2ca02c\",\"#d62728\",\"#2ca02c\",\"#1f77b4\",\"#ff7f0e\",\"#2ca02c\",\"#2ca02c\",\"#d62728\",\"#ff7f0e\",\"#1f77b4\",\"#1f77b4\",\"#d62728\",\"#2ca02c\",\"#2ca02c\",\"#ff7f0e\",\"#2ca02c\",\"#d62728\",\"#2ca02c\",\"#d62728\",\"#ff7f0e\",\"#2ca02c\",\"#d62728\",\"#2ca02c\",\"#ff7f0e\",\"#1f77b4\",\"#2ca02c\",\"#1f77b4\",\"#2ca02c\",\"#2ca02c\",\"#d62728\",\"#d62728\",\"#d62728\",\"#1f77b4\",\"#1f77b4\",\"#ff7f0e\",\"#2ca02c\",\"#1f77b4\",\"#d62728\",\"#1f77b4\",\"#d62728\",\"#2ca02c\",\"#1f77b4\",\"#2ca02c\",\"#2ca02c\",\"#d62728\",\"#1f77b4\",\"#1f77b4\",\"#1f77b4\",\"#2ca02c\",\"#ff7f0e\",\"#d62728\",\"#1f77b4\",\"#d62728\",\"#ff7f0e\",\"#2ca02c\",\"#2ca02c\",\"#2ca02c\",\"#2ca02c\",\"#2ca02c\",\"#d62728\",\"#2ca02c\",\"#2ca02c\",\"#2ca02c\",\"#2ca02c\",\"#ff7f0e\",\"#ff7f0e\",\"#2ca02c\",\"#1f77b4\",\"#d62728\",\"#1f77b4\",\"#2ca02c\",\"#ff7f0e\",\"#d62728\",\"#1f77b4\",\"#1f77b4\",\"#1f77b4\",\"#d62728\",\"#1f77b4\",\"#d62728\",\"#ff7f0e\",\"#2ca02c\",\"#1f77b4\",\"#1f77b4\",\"#2ca02c\",\"#d62728\",\"#d62728\",\"#1f77b4\",\"#2ca02c\",\"#2ca02c\",\"#1f77b4\",\"#1f77b4\",\"#1f77b4\",\"#d62728\",\"#1f77b4\",\"#2ca02c\",\"#d62728\",\"#2ca02c\",\"#1f77b4\",\"#d62728\",\"#d62728\",\"#ff7f0e\",\"#d62728\",\"#d62728\",\"#2ca02c\",\"#1f77b4\",\"#d62728\",\"#d62728\",\"#1f77b4\",\"#1f77b4\",\"#d62728\",\"#1f77b4\",\"#2ca02c\",\"#2ca02c\",\"#2ca02c\",\"#d62728\",\"#ff7f0e\",\"#1f77b4\",\"#1f77b4\",\"#ff7f0e\",\"#2ca02c\",\"#2ca02c\",\"#2ca02c\",\"#d62728\",\"#ff7f0e\",\"#1f77b4\",\"#2ca02c\",\"#1f77b4\",\"#1f77b4\",\"#2ca02c\",\"#ff7f0e\",\"#2ca02c\",\"#d62728\",\"#2ca02c\",\"#1f77b4\",\"#2ca02c\",\"#2ca02c\",\"#ff7f0e\",\"#d62728\",\"#2ca02c\",\"#1f77b4\",\"#2ca02c\",\"#2ca02c\",\"#ff7f0e\",\"#1f77b4\",\"#2ca02c\",\"#2ca02c\",\"#ff7f0e\",\"#2ca02c\",\"#ff7f0e\",\"#1f77b4\",\"#1f77b4\",\"#1f77b4\",\"#d62728\",\"#1f77b4\",\"#1f77b4\",\"#d62728\",\"#d62728\",\"#d62728\",\"#d62728\",\"#1f77b4\",\"#1f77b4\",\"#2ca02c\",\"#2ca02c\",\"#1f77b4\",\"#d62728\",\"#d62728\",\"#1f77b4\",\"#2ca02c\",\"#2ca02c\",\"#d62728\",\"#d62728\",\"#1f77b4\",\"#d62728\",\"#2ca02c\",\"#2ca02c\",\"#d62728\",\"#2ca02c\",\"#2ca02c\",\"#d62728\",\"#2ca02c\",\"#d62728\",\"#2ca02c\",\"#d62728\",\"#1f77b4\",\"#2ca02c\",\"#2ca02c\",\"#ff7f0e\",\"#1f77b4\",\"#d62728\",\"#1f77b4\",\"#1f77b4\",\"#2ca02c\",\"#d62728\",\"#d62728\",\"#2ca02c\",\"#1f77b4\",\"#1f77b4\",\"#1f77b4\",\"#2ca02c\",\"#1f77b4\",\"#d62728\",\"#2ca02c\",\"#2ca02c\",\"#2ca02c\",\"#1f77b4\",\"#1f77b4\",\"#2ca02c\",\"#2ca02c\",\"#2ca02c\",\"#2ca02c\",\"#d62728\",\"#ff7f0e\",\"#2ca02c\",\"#2ca02c\",\"#2ca02c\",\"#2ca02c\",\"#d62728\",\"#d62728\",\"#2ca02c\",\"#1f77b4\",\"#ff7f0e\",\"#2ca02c\",\"#ff7f0e\",\"#2ca02c\",\"#1f77b4\",\"#1f77b4\",\"#ff7f0e\",\"#1f77b4\",\"#2ca02c\",\"#1f77b4\",\"#1f77b4\",\"#2ca02c\",\"#1f77b4\",\"#ff7f0e\",\"#1f77b4\",\"#2ca02c\",\"#2ca02c\",\"#ff7f0e\",\"#2ca02c\",\"#2ca02c\",\"#2ca02c\",\"#ff7f0e\",\"#1f77b4\",\"#1f77b4\",\"#1f77b4\",\"#2ca02c\",\"#ff7f0e\",\"#2ca02c\",\"#ff7f0e\",\"#2ca02c\",\"#2ca02c\",\"#1f77b4\",\"#2ca02c\",\"#2ca02c\",\"#1f77b4\",\"#2ca02c\",\"#ff7f0e\",\"#1f77b4\",\"#1f77b4\",\"#2ca02c\",\"#d62728\",\"#2ca02c\",\"#1f77b4\",\"#2ca02c\",\"#d62728\",\"#2ca02c\",\"#1f77b4\",\"#1f77b4\",\"#2ca02c\",\"#d62728\",\"#1f77b4\",\"#d62728\",\"#d62728\",\"#2ca02c\",\"#2ca02c\",\"#2ca02c\",\"#2ca02c\",\"#d62728\",\"#1f77b4\",\"#2ca02c\",\"#2ca02c\",\"#ff7f0e\",\"#1f77b4\",\"#2ca02c\",\"#d62728\",\"#1f77b4\",\"#d62728\",\"#1f77b4\",\"#d62728\",\"#1f77b4\",\"#1f77b4\",\"#ff7f0e\",\"#ff7f0e\",\"#d62728\",\"#d62728\",\"#2ca02c\",\"#1f77b4\",\"#2ca02c\",\"#d62728\",\"#1f77b4\",\"#1f77b4\",\"#2ca02c\",\"#2ca02c\",\"#2ca02c\",\"#d62728\",\"#d62728\",\"#d62728\",\"#ff7f0e\",\"#1f77b4\",\"#1f77b4\",\"#ff7f0e\",\"#d62728\",\"#ff7f0e\",\"#1f77b4\",\"#d62728\",\"#1f77b4\",\"#2ca02c\",\"#2ca02c\",\"#1f77b4\",\"#d62728\",\"#1f77b4\",\"#2ca02c\",\"#2ca02c\",\"#d62728\",\"#2ca02c\",\"#d62728\",\"#d62728\",\"#d62728\",\"#d62728\",\"#2ca02c\",\"#2ca02c\",\"#1f77b4\",\"#d62728\",\"#2ca02c\",\"#1f77b4\",\"#ff7f0e\",\"#2ca02c\",\"#ff7f0e\",\"#2ca02c\",\"#2ca02c\",\"#d62728\",\"#d62728\",\"#d62728\",\"#d62728\",\"#ff7f0e\",\"#2ca02c\",\"#ff7f0e\",\"#1f77b4\"],\"x\":{\"__ndarray__\":\"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\",\"dtype\":\"float32\",\"shape\":[2361]},\"y\":{\"__ndarray__\":\"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\",\"dtype\":\"float32\",\"shape\":[2361]}},\"selected\":{\"id\":\"1153\",\"type\":\"Selection\"},\"selection_policy\":{\"id\":\"1152\",\"type\":\"UnionRenderers\"}},\"id\":\"1134\",\"type\":\"ColumnDataSource\"},{\"attributes\":{},\"id\":\"1149\",\"type\":\"BasicTickFormatter\"},{\"attributes\":{},\"id\":\"1107\",\"type\":\"LinearScale\"},{\"attributes\":{\"data_source\":{\"id\":\"1134\",\"type\":\"ColumnDataSource\"},\"glyph\":{\"id\":\"1135\",\"type\":\"Scatter\"},\"hover_glyph\":null,\"muted_glyph\":null,\"nonselection_glyph\":{\"id\":\"1136\",\"type\":\"Scatter\"},\"selection_glyph\":null,\"view\":{\"id\":\"1138\",\"type\":\"CDSView\"}},\"id\":\"1137\",\"type\":\"GlyphRenderer\"},{\"attributes\":{},\"id\":\"1122\",\"type\":\"SaveTool\"},{\"attributes\":{},\"id\":\"1105\",\"type\":\"LinearScale\"},{\"attributes\":{\"active_drag\":\"auto\",\"active_inspect\":\"auto\",\"active_multi\":null,\"active_scroll\":\"auto\",\"active_tap\":\"auto\",\"tools\":[{\"id\":\"1119\",\"type\":\"PanTool\"},{\"id\":\"1120\",\"type\":\"WheelZoomTool\"},{\"id\":\"1121\",\"type\":\"BoxZoomTool\"},{\"id\":\"1122\",\"type\":\"SaveTool\"},{\"id\":\"1123\",\"type\":\"ResetTool\"},{\"id\":\"1124\",\"type\":\"HelpTool\"}]},\"id\":\"1125\",\"type\":\"Toolbar\"},{\"attributes\":{\"callback\":null},\"id\":\"1103\",\"type\":\"DataRange1d\"},{\"attributes\":{\"source\":{\"id\":\"1134\",\"type\":\"ColumnDataSource\"}},\"id\":\"1138\",\"type\":\"CDSView\"},{\"attributes\":{\"overlay\":{\"id\":\"1127\",\"type\":\"BoxAnnotation\"}},\"id\":\"1121\",\"type\":\"BoxZoomTool\"},{\"attributes\":{\"dimension\":1,\"plot\":{\"id\":\"1099\",\"subtype\":\"Figure\",\"type\":\"Plot\"},\"ticker\":{\"id\":\"1115\",\"type\":\"BasicTicker\"}},\"id\":\"1118\",\"type\":\"Grid\"},{\"attributes\":{},\"id\":\"1151\",\"type\":\"BasicTickFormatter\"},{\"attributes\":{},\"id\":\"1120\",\"type\":\"WheelZoomTool\"},{\"attributes\":{\"callback\":null},\"id\":\"1101\",\"type\":\"DataRange1d\"},{\"attributes\":{},\"id\":\"1115\",\"type\":\"BasicTicker\"},{\"attributes\":{},\"id\":\"1152\",\"type\":\"UnionRenderers\"},{\"attributes\":{},\"id\":\"1119\",\"type\":\"PanTool\"},{\"attributes\":{},\"id\":\"1124\",\"type\":\"HelpTool\"},{\"attributes\":{\"formatter\":{\"id\":\"1151\",\"type\":\"BasicTickFormatter\"},\"plot\":{\"id\":\"1099\",\"subtype\":\"Figure\",\"type\":\"Plot\"},\"ticker\":{\"id\":\"1115\",\"type\":\"BasicTicker\"}},\"id\":\"1114\",\"type\":\"LinearAxis\"},{\"attributes\":{\"fill_color\":{\"field\":\"fill_color\"},\"line_color\":{\"field\":\"line_color\"},\"x\":{\"field\":\"x\"},\"y\":{\"field\":\"y\"}},\"id\":\"1135\",\"type\":\"Scatter\"},{\"attributes\":{\"plot\":null,\"text\":\"t-SNE Clustering of 4 LDA Topics\"},\"id\":\"1098\",\"type\":\"Title\"},{\"attributes\":{\"plot\":{\"id\":\"1099\",\"subtype\":\"Figure\",\"type\":\"Plot\"},\"ticker\":{\"id\":\"1110\",\"type\":\"BasicTicker\"}},\"id\":\"1113\",\"type\":\"Grid\"},{\"attributes\":{},\"id\":\"1153\",\"type\":\"Selection\"},{\"attributes\":{\"bottom_units\":\"screen\",\"fill_alpha\":{\"value\":0.5},\"fill_color\":{\"value\":\"lightgrey\"},\"left_units\":\"screen\",\"level\":\"overlay\",\"line_alpha\":{\"value\":1.0},\"line_color\":{\"value\":\"black\"},\"line_dash\":[4,4],\"line_width\":{\"value\":2},\"plot\":null,\"render_mode\":\"css\",\"right_units\":\"screen\",\"top_units\":\"screen\"},\"id\":\"1127\",\"type\":\"BoxAnnotation\"},{\"attributes\":{\"fill_alpha\":{\"value\":0.1},\"fill_color\":{\"value\":\"#1f77b4\"},\"line_alpha\":{\"value\":0.1},\"line_color\":{\"value\":\"#1f77b4\"},\"x\":{\"field\":\"x\"},\"y\":{\"field\":\"y\"}},\"id\":\"1136\",\"type\":\"Scatter\"}],\"root_ids\":[\"1099\"]},\"title\":\"Bokeh Application\",\"version\":\"1.0.4\"}};\n",
              "  var render_items = [{\"docid\":\"d40e311c-393c-4361-8bf1-965403746c71\",\"roots\":{\"1099\":\"691bc003-edee-4e0e-a83e-781d2100f437\"}}];\n",
              "  root.Bokeh.embed.embed_items_notebook(docs_json, render_items);\n",
              "\n",
              "  }\n",
              "  if (root.Bokeh !== undefined) {\n",
              "    embed_document(root);\n",
              "  } else {\n",
              "    var attempts = 0;\n",
              "    var timer = setInterval(function(root) {\n",
              "      if (root.Bokeh !== undefined) {\n",
              "        embed_document(root);\n",
              "        clearInterval(timer);\n",
              "      }\n",
              "      attempts++;\n",
              "      if (attempts > 100) {\n",
              "        console.log(\"Bokeh: ERROR: Unable to run BokehJS code because BokehJS library is missing\");\n",
              "        clearInterval(timer);\n",
              "      }\n",
              "    }, 10, root)\n",
              "  }\n",
              "})(window);"
            ],
            "application/vnd.bokehjs_exec.v0+json": ""
          },
          "metadata": {
            "tags": [],
            "application/vnd.bokehjs_exec.v0+json": {
              "id": "1099"
            }
          }
        }
      ]
    },
    {
      "cell_type": "markdown",
      "metadata": {
        "colab_type": "text",
        "id": "nL19T1JNnb0i"
      },
      "source": [
        "### pyLDAvis\n",
        "pyLDAvis is a nice off-the-shelve solution for visualising the found topics and keywords."
      ]
    },
    {
      "cell_type": "code",
      "metadata": {
        "ExecuteTime": {
          "end_time": "2019-11-26T08:02:57.449727Z",
          "start_time": "2019-11-26T08:00:30.214449Z"
        },
        "colab_type": "code",
        "id": "vqPaF-XBnb0j",
        "outputId": "57225e1d-dc4e-4b21-ab1c-7e8cf8924b3c",
        "colab": {
          "base_uri": "https://localhost:8080/",
          "height": 997
        }
      },
      "source": [
        "import pyLDAvis.gensim\n",
        "pyLDAvis.enable_notebook()\n",
        "# Warning: \"prepare\" can take up to 5 minutes!\n",
        "vis = pyLDAvis.gensim.prepare(lda_model, corpus, dictionary=lda_model.id2word, mds='mmds')\n",
        "vis"
      ],
      "execution_count": 30,
      "outputs": [
        {
          "output_type": "stream",
          "text": [
            "/usr/local/lib/python3.6/dist-packages/pyLDAvis/_prepare.py:257: FutureWarning: Sorting because non-concatenation axis is not aligned. A future version\n",
            "of pandas will change to not sort by default.\n",
            "\n",
            "To accept the future behavior, pass 'sort=False'.\n",
            "\n",
            "To retain the current behavior and silence the warning, pass 'sort=True'.\n",
            "\n",
            "  return pd.concat([default_term_info] + list(topic_dfs))\n"
          ],
          "name": "stderr"
        },
        {
          "output_type": "execute_result",
          "data": {
            "text/html": [
              "\n",
              "<link rel=\"stylesheet\" type=\"text/css\" href=\"https://cdn.rawgit.com/bmabey/pyLDAvis/files/ldavis.v1.0.0.css\">\n",
              "\n",
              "\n",
              "<div id=\"ldavis_el14941401863979473688837451264\"></div>\n",
              "<script type=\"text/javascript\">\n",
              "\n",
              "var ldavis_el14941401863979473688837451264_data = {\"mdsDat\": {\"x\": [-0.2216217925878123, -0.15806062115540281, 0.11415403436623892, 0.2655283793769762], \"y\": [-0.13946188074272228, 0.17092901834062713, -0.20393773464723458, 0.17247059704932977], \"topics\": [1, 2, 3, 4], \"cluster\": [1, 1, 1, 1], \"Freq\": [35.419151306152344, 27.05508804321289, 21.452144622802734, 16.073617935180664]}, \"tinfo\": {\"Category\": [\"Default\", \"Default\", \"Default\", \"Default\", \"Default\", \"Default\", \"Default\", \"Default\", \"Default\", \"Default\", \"Default\", \"Default\", \"Default\", \"Default\", \"Default\", \"Default\", \"Default\", \"Default\", \"Default\", \"Default\", \"Default\", \"Default\", \"Default\", \"Default\", \"Default\", \"Default\", \"Default\", \"Default\", \"Default\", \"Default\", \"Topic1\", \"Topic1\", \"Topic1\", \"Topic1\", \"Topic1\", \"Topic1\", \"Topic1\", \"Topic1\", \"Topic1\", \"Topic1\", \"Topic1\", \"Topic1\", \"Topic1\", \"Topic1\", \"Topic1\", \"Topic1\", \"Topic1\", \"Topic1\", \"Topic1\", \"Topic1\", \"Topic1\", \"Topic1\", \"Topic1\", \"Topic1\", \"Topic1\", \"Topic1\", \"Topic1\", \"Topic1\", \"Topic1\", \"Topic1\", \"Topic1\", \"Topic1\", \"Topic1\", \"Topic1\", \"Topic1\", \"Topic1\", \"Topic1\", \"Topic1\", \"Topic1\", \"Topic1\", \"Topic1\", \"Topic1\", \"Topic1\", \"Topic1\", \"Topic1\", \"Topic1\", \"Topic1\", \"Topic1\", \"Topic1\", \"Topic1\", \"Topic1\", \"Topic1\", \"Topic1\", \"Topic1\", \"Topic1\", \"Topic1\", \"Topic2\", \"Topic2\", \"Topic2\", \"Topic2\", \"Topic2\", \"Topic2\", \"Topic2\", \"Topic2\", \"Topic2\", \"Topic2\", \"Topic2\", \"Topic2\", \"Topic2\", \"Topic2\", \"Topic2\", \"Topic2\", \"Topic2\", \"Topic2\", \"Topic2\", \"Topic2\", \"Topic2\", \"Topic2\", \"Topic2\", \"Topic2\", \"Topic2\", \"Topic2\", \"Topic2\", \"Topic2\", \"Topic2\", \"Topic2\", \"Topic2\", \"Topic2\", \"Topic2\", \"Topic2\", \"Topic2\", \"Topic2\", \"Topic2\", \"Topic2\", \"Topic2\", \"Topic2\", \"Topic2\", \"Topic2\", \"Topic2\", \"Topic2\", \"Topic2\", \"Topic2\", \"Topic2\", \"Topic2\", \"Topic2\", \"Topic2\", \"Topic2\", \"Topic2\", \"Topic2\", \"Topic2\", \"Topic2\", \"Topic2\", \"Topic2\", \"Topic3\", \"Topic3\", \"Topic3\", \"Topic3\", \"Topic3\", \"Topic3\", \"Topic3\", \"Topic3\", \"Topic3\", \"Topic3\", \"Topic3\", \"Topic3\", \"Topic3\", \"Topic3\", \"Topic3\", \"Topic3\", \"Topic3\", \"Topic3\", \"Topic3\", \"Topic3\", \"Topic3\", \"Topic3\", \"Topic3\", \"Topic3\", \"Topic3\", \"Topic3\", \"Topic3\", \"Topic3\", \"Topic3\", \"Topic3\", \"Topic3\", \"Topic3\", \"Topic3\", \"Topic3\", \"Topic3\", \"Topic3\", \"Topic3\", \"Topic3\", \"Topic3\", \"Topic3\", \"Topic3\", \"Topic3\", \"Topic3\", \"Topic3\", \"Topic3\", \"Topic3\", \"Topic3\", \"Topic3\", \"Topic3\", \"Topic3\", \"Topic3\", \"Topic3\", \"Topic3\", \"Topic3\", \"Topic3\", \"Topic3\", \"Topic3\", \"Topic3\", \"Topic3\", \"Topic3\", \"Topic4\", \"Topic4\", \"Topic4\", \"Topic4\", \"Topic4\", \"Topic4\", \"Topic4\", \"Topic4\", \"Topic4\", \"Topic4\", \"Topic4\", \"Topic4\", \"Topic4\", \"Topic4\", \"Topic4\", \"Topic4\", \"Topic4\", \"Topic4\", \"Topic4\", \"Topic4\", \"Topic4\", \"Topic4\", \"Topic4\", \"Topic4\", \"Topic4\", \"Topic4\", \"Topic4\", \"Topic4\", \"Topic4\", \"Topic4\", \"Topic4\", \"Topic4\", \"Topic4\", \"Topic4\", \"Topic4\", \"Topic4\", \"Topic4\", \"Topic4\", \"Topic4\", \"Topic4\", \"Topic4\", \"Topic4\"], \"Freq\": [1064.0, 1580.0, 889.0, 962.0, 606.0, 702.0, 587.0, 897.0, 498.0, 483.0, 775.0, 415.0, 713.0, 535.0, 795.0, 298.0, 351.0, 402.0, 402.0, 477.0, 280.0, 957.0, 1900.0, 369.0, 282.0, 436.0, 232.0, 379.0, 319.0, 701.0, 1580.215087890625, 896.3070678710938, 774.528564453125, 712.837890625, 435.3854064941406, 389.02838134765625, 374.0674133300781, 369.46319580078125, 359.9715881347656, 330.7627868652344, 290.3677978515625, 248.9715118408203, 242.5642852783203, 229.53880310058594, 221.39828491210938, 217.53695678710938, 209.7605438232422, 202.7725067138672, 192.15972900390625, 185.71241760253906, 163.4995880126953, 151.60055541992188, 148.1685333251953, 144.1089324951172, 134.41481018066406, 129.52914428710938, 127.29286193847656, 123.74140167236328, 124.83038330078125, 120.94273376464844, 129.953857421875, 752.134033203125, 372.7842102050781, 488.12249755859375, 400.12591552734375, 225.8864288330078, 553.4022216796875, 343.0147399902344, 279.94561767578125, 297.10009765625, 379.2511901855469, 340.90350341796875, 975.1815185546875, 384.00653076171875, 301.98211669921875, 289.0500183105469, 325.3708190917969, 343.2030029296875, 343.0362854003906, 415.51275634765625, 503.78472900390625, 356.0230407714844, 423.9864196777344, 360.8512268066406, 333.6342468261719, 313.5733947753906, 961.735595703125, 535.1025390625, 401.90203857421875, 401.9145202636719, 369.1268615722656, 318.45916748046875, 306.22918701171875, 224.4395751953125, 218.56382751464844, 200.50001525878906, 175.34278869628906, 163.16297912597656, 161.834228515625, 161.4310302734375, 176.303955078125, 192.1719512939453, 145.78408813476562, 161.5418243408203, 136.66299438476562, 132.96636962890625, 130.9607391357422, 129.91746520996094, 137.92465209960938, 135.97549438476562, 123.78681945800781, 120.51982879638672, 123.63557434082031, 120.85736846923828, 118.2078628540039, 128.4156036376953, 130.08937072753906, 444.06304931640625, 355.5069580078125, 313.0058288574219, 157.88027954101562, 267.98748779296875, 833.1404418945312, 216.1585235595703, 778.6517944335938, 233.57077026367188, 170.15036010742188, 467.4756774902344, 365.69659423828125, 294.6282653808594, 287.99774169921875, 255.71153259277344, 272.93865966796875, 239.7822723388672, 361.18841552734375, 239.65646362304688, 309.1145324707031, 274.305419921875, 244.3778533935547, 233.51956176757812, 252.26234436035156, 231.09849548339844, 224.6714324951172, 701.6830444335938, 350.42926025390625, 249.98780822753906, 248.9076690673828, 192.9984893798828, 206.8716583251953, 185.7670135498047, 172.88113403320312, 158.69529724121094, 113.74038696289062, 99.8523178100586, 95.13436889648438, 109.5499038696289, 89.552490234375, 94.69445037841797, 83.88363647460938, 80.32861328125, 84.2005844116211, 82.14667510986328, 85.17598724365234, 77.52781677246094, 92.24948120117188, 79.24356079101562, 81.04007720947266, 67.39375305175781, 75.15294647216797, 68.45449829101562, 77.04242706298828, 71.44020080566406, 60.55498123168945, 67.8191146850586, 168.89674377441406, 97.06272888183594, 237.216796875, 163.0216827392578, 157.30972290039062, 374.1772766113281, 143.83778381347656, 362.21466064453125, 112.95782470703125, 173.01319885253906, 440.52001953125, 270.85528564453125, 250.07615661621094, 312.3751220703125, 192.35191345214844, 377.8453063964844, 222.42222595214844, 115.32077026367188, 232.12098693847656, 160.636962890625, 215.265625, 266.8399963378906, 191.76885986328125, 191.94444274902344, 199.0150146484375, 191.7631378173828, 200.32281494140625, 189.85494995117188, 174.0852508544922, 1064.1302490234375, 889.0200805664062, 605.6543579101562, 497.6270751953125, 482.3883361816406, 415.14874267578125, 297.4035339355469, 279.42254638671875, 232.18304443359375, 187.1177520751953, 179.15701293945312, 167.79360961914062, 157.94476318359375, 155.8685760498047, 149.35411071777344, 164.32313537597656, 156.27178955078125, 145.27732849121094, 137.01718139648438, 139.0099639892578, 130.6834259033203, 129.31143188476562, 123.60984802246094, 118.73433685302734, 118.82469177246094, 117.71963500976562, 115.30108642578125, 114.85008239746094, 112.98163604736328, 109.028564453125, 136.12376403808594, 545.76708984375, 267.18731689453125, 179.16744995117188, 170.90721130371094, 426.7577819824219, 170.34779357910156, 303.1197204589844, 143.9681396484375, 217.2572784423828, 190.1277313232422, 143.78941345214844], \"Term\": [\"team\", \"god\", \"game\", \"armenian\", \"hockey\", \"bike\", \"play\", \"israel\", \"player\", \"win\", \"christian\", \"nhl\", \"israeli\", \"kill\", \"believe\", \"season\", \"ride\", \"turk\", \"government\", \"greek\", \"playoff\", \"year\", \"people\", \"turkish\", \"goal\", \"church\", \"score\", \"war\", \"soldier\", \"question\", \"god\", \"israel\", \"christian\", \"israeli\", \"church\", \"christ\", \"faith\", \"bible\", \"evidence\", \"truth\", \"exist\", \"sin\", \"religion\", \"palestinian\", \"belief\", \"lord\", \"jesus\", \"christianity\", \"scripture\", \"argument\", \"existence\", \"catholic\", \"revelation\", \"prayer\", \"marriage\", \"atheist\", \"mary\", \"lebanon\", \"lebanese\", \"nature\", \"physical\", \"believe\", \"law\", \"reason\", \"claim\", \"accept\", \"question\", \"word\", \"love\", \"answer\", \"life\", \"true\", \"people\", \"jew\", \"hell\", \"book\", \"read\", \"mean\", \"fact\", \"way\", \"say\", \"point\", \"time\", \"thing\", \"find\", \"man\", \"armenian\", \"kill\", \"turk\", \"government\", \"turkish\", \"soldier\", \"turkey\", \"armenia\", \"village\", \"greece\", \"murder\", \"civilian\", \"population\", \"iran\", \"press\", \"wife\", \"massacre\", \"story\", \"apartment\", \"troop\", \"azerbaijani\", \"genocide\", \"destroy\", \"building\", \"weapon\", \"nazi\", \"burn\", \"army\", \"military\", \"escape\", \"town\", \"greek\", \"war\", \"attack\", \"russian\", \"woman\", \"say\", \"force\", \"people\", \"child\", \"report\", \"go\", \"tell\", \"come\", \"world\", \"leave\", \"live\", \"happen\", \"time\", \"arab\", \"year\", \"state\", \"see\", \"start\", \"way\", \"take\", \"work\", \"bike\", \"ride\", \"dod\", \"motorcycle\", \"helmet\", \"mail\", \"buy\", \"dog\", \"rider\", \"info\", \"fit\", \"fast\", \"type\", \"cop\", \"left\", \"insurance\", \"honda\", \"foot\", \"sale\", \"cost\", \"bmw\", \"notice\", \"seat\", \"size\", \"biker\", \"advice\", \"drink\", \"eat\", \"steal\", \"ama\", \"frank\", \"thank\", \"wave\", \"turn\", \"friend\", \"sell\", \"look\", \"car\", \"get\", \"pull\", \"big\", \"go\", \"new\", \"see\", \"thing\", \"little\", \"time\", \"need\", \"light\", \"work\", \"list\", \"take\", \"university\", \"post\", \"reply\", \"day\", \"find\", \"way\", \"say\", \"tell\", \"team\", \"game\", \"hockey\", \"player\", \"win\", \"nhl\", \"season\", \"playoff\", \"score\", \"fan\", \"league\", \"ice\", \"det\", \"tor\", \"detroit\", \"pen\", \"coach\", \"toronto\", \"pittsburgh\", \"pit\", \"stl\", \"gm\", \"chi\", \"leafs\", \"espn\", \"montreal\", \"buf\", \"bos\", \"que\", \"stanley_cup\", \"star\", \"play\", \"goal\", \"canada\", \"wing\", \"year\", \"final\", \"university\", \"division\", \"point\", \"time\", \"pick\"], \"Total\": [1064.0, 1580.0, 889.0, 962.0, 606.0, 702.0, 587.0, 897.0, 498.0, 483.0, 775.0, 415.0, 713.0, 535.0, 795.0, 298.0, 351.0, 402.0, 402.0, 477.0, 280.0, 957.0, 1900.0, 369.0, 282.0, 436.0, 232.0, 379.0, 319.0, 701.0, 1580.974853515625, 897.071533203125, 775.3253173828125, 713.6080932617188, 436.1432800292969, 389.7916259765625, 374.8135070800781, 370.2108459472656, 360.7431335449219, 331.53973388671875, 291.190673828125, 249.7214813232422, 243.34854125976562, 230.30711364746094, 222.15966796875, 218.30406188964844, 210.5143280029297, 203.5191650390625, 192.90505981445312, 186.4785919189453, 164.27227783203125, 152.35487365722656, 148.9164581298828, 144.86831665039062, 135.1669158935547, 130.2767791748047, 128.0419158935547, 124.50917053222656, 125.61302185058594, 121.72138214111328, 130.8306427001953, 795.6375732421875, 395.0066833496094, 550.3740844726562, 448.2352600097656, 241.4052276611328, 701.2676391601562, 408.9176330566406, 320.7174377441406, 349.63134765625, 477.3821105957031, 425.214599609375, 1900.6107177734375, 521.12060546875, 377.87835693359375, 365.6722412109375, 476.5121765136719, 539.9375, 544.0894775390625, 960.962890625, 1577.146240234375, 678.7968139648438, 1353.1478271484375, 795.193603515625, 678.965087890625, 488.3363952636719, 962.4441528320312, 535.8544311523438, 402.61053466796875, 402.63824462890625, 369.83477783203125, 319.18646240234375, 306.9399108886719, 225.14837646484375, 219.28421020507812, 201.217041015625, 176.0858154296875, 163.8826904296875, 162.56024169921875, 162.16151428222656, 177.107177734375, 193.05609130859375, 146.4989013671875, 162.39369201660156, 137.39288330078125, 133.68667602539062, 131.67042541503906, 130.62754821777344, 138.71038818359375, 136.77548217773438, 124.52355194091797, 121.23954010009766, 124.38038635253906, 121.58587646484375, 118.93359375, 129.21128845214844, 130.90113830566406, 477.2630615234375, 379.4338073730469, 380.5023193359375, 166.850830078125, 323.2892761230469, 1577.146240234375, 271.1151123046875, 1900.6107177734375, 318.9762878417969, 196.2677001953125, 1168.7794189453125, 804.619384765625, 626.715576171875, 601.3284912109375, 490.5483093261719, 631.4676513671875, 457.96002197265625, 1353.1478271484375, 465.7648620605469, 957.8636474609375, 712.0030517578125, 534.5264282226562, 484.0416259765625, 960.962890625, 605.1021118164062, 671.5277099609375, 702.415283203125, 351.1644287109375, 250.72096252441406, 249.6417999267578, 193.73428344726562, 207.68589782714844, 186.5646209716797, 173.63011169433594, 159.43028259277344, 114.57080078125, 100.63153076171875, 95.9005126953125, 110.435791015625, 90.29373931884766, 95.53719329833984, 84.64320373535156, 81.060302734375, 84.97272491455078, 82.90250396728516, 85.98211669921875, 78.26236724853516, 93.12975311279297, 80.00082397460938, 81.84416198730469, 68.12901306152344, 75.97735595703125, 69.21707916259766, 77.92335510253906, 72.2779312133789, 61.28791809082031, 68.65144348144531, 184.68385314941406, 101.18356323242188, 312.2314147949219, 201.99319458007812, 193.75997924804688, 619.6585693359375, 176.31118774414062, 653.8391723632812, 133.53744506835938, 253.61505126953125, 1168.7794189453125, 545.1292114257812, 534.5264282226562, 795.193603515625, 358.53533935546875, 1353.1478271484375, 540.2379760742188, 145.39064025878906, 671.5277099609375, 306.44537353515625, 605.1021118164062, 1012.4622802734375, 480.2523193359375, 488.0859375, 569.988525390625, 678.965087890625, 960.962890625, 1577.146240234375, 804.619384765625, 1064.91748046875, 889.8062744140625, 606.426513671875, 498.42926025390625, 483.2282409667969, 415.9175109863281, 298.17510986328125, 280.1893310546875, 232.9672088623047, 187.89173889160156, 179.96719360351562, 168.59686279296875, 158.71095275878906, 156.6407470703125, 150.12037658691406, 165.17059326171875, 157.0971221923828, 146.05430603027344, 137.7949676513672, 139.80050659179688, 131.4472198486328, 130.08644104003906, 124.37388610839844, 119.50111389160156, 119.59220886230469, 118.48970794677734, 116.06451416015625, 115.615234375, 113.76666259765625, 109.79705047607422, 137.1731414794922, 587.5370483398438, 282.9472351074219, 185.26742553710938, 179.8947296142578, 957.8636474609375, 215.9882049560547, 1012.4622802734375, 177.6627197265625, 678.7968139648438, 1353.1478271484375, 200.77130126953125], \"loglift\": [30.0, 29.0, 28.0, 27.0, 26.0, 25.0, 24.0, 23.0, 22.0, 21.0, 20.0, 19.0, 18.0, 17.0, 16.0, 15.0, 14.0, 13.0, 12.0, 11.0, 10.0, 9.0, 8.0, 7.0, 6.0, 5.0, 4.0, 3.0, 2.0, 1.0, 1.0374000072479248, 1.0370999574661255, 1.0369000434875488, 1.0368000268936157, 1.0362000465393066, 1.0360000133514404, 1.0358999967575073, 1.0358999967575073, 1.0357999801635742, 1.035599946975708, 1.035099983215332, 1.0348999500274658, 1.0347000360488892, 1.034600019454956, 1.034500002861023, 1.0343999862670898, 1.0342999696731567, 1.0341999530792236, 1.034000039100647, 1.0338000059127808, 1.0332000255584717, 1.0329999923706055, 1.0328999757766724, 1.0326999425888062, 1.0322999954223633, 1.0321999788284302, 1.032099962234497, 1.0317000150680542, 1.0317000150680542, 1.031499981880188, 1.0312000513076782, 0.9817000031471252, 0.9800000190734863, 0.917900025844574, 0.9243999719619751, 0.9714999794960022, 0.8011000156402588, 0.8622000217437744, 0.9020000100135803, 0.8751000165939331, 0.8077999949455261, 0.8169000148773193, 0.37059998512268066, 0.7325999736785889, 0.8137000203132629, 0.8027999997138977, 0.6564000248908997, 0.5848000049591064, 0.5766000151634216, 0.19949999451637268, -0.10329999774694443, 0.39259999990463257, -0.1225999966263771, 0.24779999256134033, 0.32739999890327454, 0.5949000120162964, 1.3065999746322632, 1.305899977684021, 1.3055000305175781, 1.3055000305175781, 1.305400013923645, 1.3049999475479126, 1.3049999475479126, 1.3041000366210938, 1.3040000200271606, 1.3036999702453613, 1.3030999898910522, 1.302899956703186, 1.3028000593185425, 1.3028000593185425, 1.3027000427246094, 1.3027000427246094, 1.30239999294281, 1.3020000457763672, 1.3020000457763672, 1.301900029182434, 1.301900029182434, 1.301800012588501, 1.3015999794006348, 1.3013999462127686, 1.3013999462127686, 1.301300048828125, 1.301300048828125, 1.301300048828125, 1.301200032234192, 1.3011000156402588, 1.3011000156402588, 1.235200047492981, 1.2422000169754028, 1.1119999885559082, 1.2519999742507935, 1.1196999549865723, 0.6690999865531921, 1.0808000564575195, 0.414900004863739, 0.9957000017166138, 1.1644999980926514, 0.39089998602867126, 0.5187000036239624, 0.5525000095367432, 0.5710999965667725, 0.6557999849319458, 0.4684999883174896, 0.6601999998092651, -0.013500000350177288, 0.642799973487854, 0.17630000412464142, 0.35350000858306885, 0.5246000289916992, 0.5784000158309937, -0.03020000085234642, 0.34470000863075256, 0.21240000426769257, 1.5383000373840332, 1.5371999740600586, 1.5363999605178833, 1.5363999605178833, 1.5355000495910645, 1.5354000329971313, 1.535099983215332, 1.534999966621399, 1.5347000360488892, 1.532099962234497, 1.531599998474121, 1.5312999486923218, 1.5312999486923218, 1.5311000347137451, 1.530500054359436, 1.5303000211715698, 1.5303000211715698, 1.5302000045776367, 1.5302000045776367, 1.5298999547958374, 1.5298999547958374, 1.5298000574111938, 1.5298000574111938, 1.5295000076293945, 1.528499960899353, 1.52839994430542, 1.5283000469207764, 1.527999997138977, 1.5276999473571777, 1.5273000001907349, 1.5270999670028687, 1.4500000476837158, 1.4977999925613403, 1.2646000385284424, 1.3250000476837158, 1.330899953842163, 1.0348999500274658, 1.335800051689148, 0.9487000107765198, 1.371999979019165, 1.1569000482559204, 0.5636000037193298, 0.839900016784668, 0.779699981212616, 0.6050000190734863, 0.9165999889373779, 0.2635999917984009, 0.6518999934196472, 1.3076000213623047, 0.47699999809265137, 0.8934999704360962, 0.5058000087738037, 0.20589999854564667, 0.6212999820709229, 0.6061000227928162, 0.4871000051498413, 0.2750000059604645, -0.028699999675154686, -0.5777999758720398, 0.008500000461935997, 1.827299952507019, 1.8271000385284424, 1.82669997215271, 1.8264000415802002, 1.826300024986267, 1.8260999917984009, 1.8253999948501587, 1.8252999782562256, 1.8245999813079834, 1.8238999843597412, 1.8235000371932983, 1.823199987411499, 1.823199987411499, 1.8229999542236328, 1.8229000568389893, 1.8228000402450562, 1.822700023651123, 1.822700023651123, 1.8222999572753906, 1.8222999572753906, 1.8221999406814575, 1.8220000267028809, 1.8217999935150146, 1.8215999603271484, 1.8215999603271484, 1.8214999437332153, 1.8214000463485718, 1.8214000463485718, 1.8210999965667725, 1.8209999799728394, 1.8202999830245972, 1.7541999816894531, 1.7706999778747559, 1.7944999933242798, 1.7767000198364258, 1.0195000171661377, 1.5906000137329102, 0.621999979019165, 1.6176999807357788, 0.6887999773025513, -0.13449999690055847, 1.4941999912261963], \"logprob\": [30.0, 29.0, 28.0, 27.0, 26.0, 25.0, 24.0, 23.0, 22.0, 21.0, 20.0, 19.0, 18.0, 17.0, 16.0, 15.0, 14.0, 13.0, 12.0, 11.0, 10.0, 9.0, 8.0, 7.0, 6.0, 5.0, 4.0, 3.0, 2.0, 1.0, -4.019499778747559, -4.58650016784668, -4.732600212097168, -4.8155999183654785, -5.308599948883057, -5.421199798583984, -5.460400104522705, -5.472799777984619, -5.498799800872803, -5.583399772644043, -5.713699817657471, -5.867499828338623, -5.893599987030029, -5.948800086975098, -5.984899997711182, -6.002500057220459, -6.038899898529053, -6.072700023651123, -6.126500129699707, -6.160600185394287, -6.288000106811523, -6.36359977722168, -6.386499881744385, -6.414299964904785, -6.48390007019043, -6.520899772644043, -6.538300037384033, -6.5665998458862305, -6.5578999519348145, -6.5894999504089355, -6.5177001953125, -4.761899948120117, -5.463799953460693, -5.194300174713135, -5.393099784851074, -5.964799880981445, -5.068699836730957, -5.547100067138672, -5.750199794769287, -5.690800189971924, -5.446599960327148, -5.553199768066406, -4.502200126647949, -5.434199810028076, -5.674499988555908, -5.718200206756592, -5.599899768829346, -5.546500205993652, -5.546999931335449, -5.355299949645996, -5.162700176239014, -5.509799957275391, -5.335100173950195, -5.496399879455566, -5.57480001449585, -5.6367998123168945, -4.246699810028076, -4.833000183105469, -5.119200229644775, -5.119200229644775, -5.2042999267578125, -5.3520002365112305, -5.39109992980957, -5.7017998695373535, -5.728400230407715, -5.814599990844727, -5.948699951171875, -6.020699977874756, -6.028900146484375, -6.031400203704834, -5.94320011138916, -5.857100009918213, -6.133299827575684, -6.030700206756592, -6.19789981842041, -6.225399971008301, -6.240600109100342, -6.248600006103516, -6.188700199127197, -6.203000068664551, -6.296899795532227, -6.323599815368652, -6.298099994659424, -6.320799827575684, -6.3429999351501465, -6.260200023651123, -6.247200012207031, -5.019499778747559, -5.2418999671936035, -5.369200229644775, -6.053599834442139, -5.524499893188477, -4.3902997970581055, -5.7393999099731445, -4.457900047302246, -5.6620001792907715, -5.978799819946289, -4.968100070953369, -5.213600158691406, -5.429699897766113, -5.452499866485596, -5.571400165557861, -5.506199836730957, -5.635700225830078, -5.226099967956543, -5.636199951171875, -5.381700038909912, -5.501200199127197, -5.616700172424316, -5.662199974060059, -5.585000038146973, -5.672599792480469, -5.700799942016602, -4.329899787902832, -5.024199962615967, -5.361999988555908, -5.366300106048584, -5.620699882507324, -5.551300048828125, -5.658899784088135, -5.730800151824951, -5.816400051116943, -6.149499893188477, -6.279699802398682, -6.328100204467773, -6.186999797821045, -6.388599872589111, -6.332699775695801, -6.453999996185303, -6.497300148010254, -6.450200080871582, -6.474899768829346, -6.438700199127197, -6.532800197601318, -6.35890007019043, -6.510900020599365, -6.488500118255615, -6.672800064086914, -6.563899993896484, -6.657199859619141, -6.539000034332275, -6.614500045776367, -6.779900074005127, -6.666600227355957, -5.7540998458862305, -6.308000087738037, -5.414400100708008, -5.7895002365112305, -5.825200080871582, -4.958700180053711, -5.914700031280518, -4.991199970245361, -6.156400203704834, -5.730000019073486, -4.795400142669678, -5.281799793243408, -5.361599922180176, -5.139200210571289, -5.624100208282471, -4.94890022277832, -5.478799819946289, -6.135700225830078, -5.436100006103516, -5.804299831390381, -5.511499881744385, -5.296800136566162, -5.627099990844727, -5.626200199127197, -5.590000152587891, -5.627099990844727, -5.583499908447266, -5.6371002197265625, -5.723899841308594, -3.624799966812134, -3.8046000003814697, -4.188399791717529, -4.384900093078613, -4.415999889373779, -4.566100120544434, -4.899700164794922, -4.961999893188477, -5.147200107574463, -5.36299991607666, -5.406499862670898, -5.4720001220703125, -5.53249979019165, -5.5457000732421875, -5.588399887084961, -5.4928998947143555, -5.5432000160217285, -5.616099834442139, -5.674699783325195, -5.660200119018555, -5.7220001220703125, -5.732500076293945, -5.777599811553955, -5.81790018081665, -5.8171000480651855, -5.826499938964844, -5.8471999168396, -5.851099967956543, -5.867499828338623, -5.90310001373291, -5.68120002746582, -4.292600154876709, -5.006800174713135, -5.406400203704834, -5.45359992980957, -4.53849983215332, -5.456900119781494, -4.8805999755859375, -5.625199794769287, -5.213699817657471, -5.347099781036377, -5.626399993896484]}, \"token.table\": {\"Topic\": [1, 2, 3, 3, 1, 2, 2, 1, 2, 1, 2, 2, 2, 1, 1, 2, 2, 1, 1, 2, 4, 1, 1, 2, 3, 4, 3, 3, 3, 1, 2, 4, 4, 2, 2, 3, 2, 4, 2, 3, 1, 4, 1, 2, 1, 1, 1, 1, 2, 1, 2, 4, 1, 2, 3, 4, 3, 3, 1, 2, 3, 4, 2, 4, 4, 2, 3, 4, 3, 3, 3, 3, 2, 4, 1, 1, 1, 1, 2, 3, 1, 4, 3, 1, 2, 4, 1, 2, 3, 3, 3, 1, 2, 4, 3, 2, 3, 4, 2, 1, 2, 3, 4, 4, 1, 2, 3, 4, 1, 4, 1, 2, 2, 1, 2, 1, 2, 3, 1, 3, 3, 4, 3, 4, 3, 3, 2, 1, 1, 1, 1, 2, 2, 1, 2, 3, 4, 4, 1, 2, 3, 4, 1, 1, 3, 1, 2, 3, 2, 3, 2, 3, 4, 1, 2, 3, 4, 1, 2, 3, 1, 2, 3, 4, 1, 1, 3, 3, 1, 2, 3, 1, 1, 2, 1, 2, 3, 4, 2, 4, 3, 2, 1, 2, 1, 2, 3, 4, 1, 2, 3, 4, 4, 3, 1, 4, 1, 2, 3, 1, 2, 3, 4, 4, 4, 1, 2, 4, 4, 4, 1, 2, 3, 4, 2, 1, 2, 3, 4, 1, 2, 2, 3, 4, 1, 3, 1, 2, 3, 4, 1, 3, 4, 1, 1, 2, 3, 4, 2, 4, 1, 3, 3, 2, 4, 3, 1, 2, 3, 4, 4, 1, 4, 3, 2, 3, 4, 2, 3, 4, 1, 3, 2, 4, 4, 1, 2, 3, 4, 1, 2, 3, 4, 3, 4, 2, 1, 2, 3, 4, 4, 1, 2, 3, 2, 3, 4, 1, 2, 3, 1, 2, 3, 4, 4, 4, 2, 2, 1, 3, 4, 1, 2, 2, 2, 2, 3, 3, 1, 2, 3, 4, 2, 1, 2, 2, 3, 1, 2, 3, 4, 2, 2, 4, 2, 4, 1, 2, 1, 2, 3, 4, 1, 2, 3, 1, 2, 4, 1, 2, 3, 4], \"Freq\": [0.9361851811408997, 0.06213618442416191, 0.9871362447738647, 0.9953022003173828, 0.8494661450386047, 0.14872808754444122, 0.9971404671669006, 0.4852233827114105, 0.5152814388275146, 0.9974335432052612, 0.9948994517326355, 0.9995385408401489, 0.9951813817024231, 0.997875452041626, 0.1760830283164978, 0.8225968480110168, 0.994908332824707, 0.9947800040245056, 0.9451539516448975, 0.02639392763376236, 0.027650780975818634, 0.99672931432724, 0.09068862348794937, 0.0828026533126831, 0.6821361780166626, 0.14589039981365204, 0.9994087815284729, 0.9834282994270325, 0.9966475963592529, 0.7903252243995667, 0.20783638954162598, 0.9946786165237427, 0.990828275680542, 0.9943302273750305, 0.9969417452812195, 0.9969735741615295, 0.03238561749458313, 0.9661709070205688, 0.18149727582931519, 0.816737711429596, 0.9976707696914673, 0.9969938397407532, 0.2664774954319, 0.7335968613624573, 0.9979690909385681, 0.9995803833007812, 0.9974490404129028, 0.9973786473274231, 0.9946138858795166, 0.8923885226249695, 0.10708662122488022, 0.9930163025856018, 0.28402039408683777, 0.4707079529762268, 0.11488465219736099, 0.13084085285663605, 0.996746838092804, 0.988577663898468, 0.3631651997566223, 0.25965434312820435, 0.3491298258304596, 0.028070740401744843, 0.9948786497116089, 0.9955204725265503, 0.9925367832183838, 0.03940049931406975, 0.14634472131729126, 0.810524582862854, 0.997124433517456, 0.9963709712028503, 0.9824165105819702, 0.9881504774093628, 0.9906255006790161, 0.9950481057167053, 0.9979400038719177, 0.9959110021591187, 0.9922550916671753, 0.6304110288619995, 0.275689959526062, 0.09373458474874496, 0.9978295564651489, 0.9952539801597595, 0.9906099438667297, 0.14815624058246613, 0.060188472270965576, 0.7870799899101257, 0.4919251501560211, 0.22534295916557312, 0.2827833294868469, 0.9937243461608887, 0.9885525107383728, 0.14385034143924713, 0.7967095375061035, 0.05532705411314964, 0.990510880947113, 0.1881251484155655, 0.8069579005241394, 0.9990938901901245, 0.9951959252357483, 0.07341254502534866, 0.1850607991218567, 0.5536529421806335, 0.18811964988708496, 0.9916483163833618, 0.12320545315742493, 0.39956212043762207, 0.3773167133331299, 0.1001044288277626, 0.05301341786980629, 0.9436388611793518, 0.9993833899497986, 0.9984148144721985, 0.9989213347434998, 0.06914425641298294, 0.9303045272827148, 0.21835967898368835, 0.524063229560852, 0.2554808259010315, 0.7991989850997925, 0.19847656786441803, 0.9962098598480225, 0.9992966651916504, 0.9869195818901062, 0.9964598417282104, 0.995017945766449, 0.9924010038375854, 0.9928373098373413, 0.9988055229187012, 0.9991478323936462, 0.9975568056106567, 0.7368735671043396, 0.26289498805999756, 0.9984054565429688, 0.9442878365516663, 0.02278442494571209, 0.03291083499789238, 0.9958066344261169, 0.9946257472038269, 0.15900574624538422, 0.5218650102615356, 0.2670481204986572, 0.05300191417336464, 0.9951197504997253, 0.9959105849266052, 0.9943771362304688, 0.7939133048057556, 0.11730644851922989, 0.08797983825206757, 0.1994626373052597, 0.7909725308418274, 0.15989799797534943, 0.5253791213035583, 0.31653276085853577, 0.21755178272724152, 0.09761938452720642, 0.5355120897293091, 0.14782364666461945, 0.3990703225135803, 0.43232619762420654, 0.1678629070520401, 0.14846885204315186, 0.1775171160697937, 0.6035581827163696, 0.06939305365085602, 0.9986071586608887, 0.873042643070221, 0.12472037971019745, 0.9966974258422852, 0.6429994106292725, 0.2662099301815033, 0.09010182321071625, 0.9913668632507324, 0.9918627142906189, 0.9965944886207581, 0.6352587342262268, 0.055561985820531845, 0.2833661437034607, 0.025928927585482597, 0.9921503067016602, 0.9958670735359192, 0.9974291324615479, 0.993833601474762, 0.9940735101699829, 0.9980242252349854, 0.40722793340682983, 0.10736009478569031, 0.41093000769615173, 0.0740414410829544, 0.23664113879203796, 0.11006564646959305, 0.4971298575401306, 0.15592633187770844, 0.9977940320968628, 0.9878690242767334, 0.998666524887085, 0.9929128289222717, 0.5129929780960083, 0.4098682701587677, 0.07734356075525284, 0.9936510324478149, 0.12451978772878647, 0.1593853235244751, 0.7172339558601379, 0.9942739605903625, 0.9942308068275452, 0.04425252974033356, 0.027232324704527855, 0.9293031096458435, 0.9991387724876404, 0.9957552552223206, 0.5244573950767517, 0.06334737688302994, 0.09133808314800262, 0.3196832835674286, 0.9965536594390869, 0.39770761132240295, 0.09370074421167374, 0.39978983998298645, 0.10827641934156418, 0.9940061569213867, 0.9937485456466675, 0.14977072179317474, 0.8462045788764954, 0.9932610988616943, 0.7885719537734985, 0.209620401263237, 0.6820392608642578, 0.03987306356430054, 0.2560270428657532, 0.02098582312464714, 0.8866696357727051, 0.06722700595855713, 0.04542364925146103, 0.9985677003860474, 0.21717487275600433, 0.25200480222702026, 0.3933733403682709, 0.13727091252803802, 0.8661639094352722, 0.13247212767601013, 0.9938458204269409, 0.9966840744018555, 0.9973011016845703, 0.9469536542892456, 0.04794701933860779, 0.9891136884689331, 0.3195645213127136, 0.5281691551208496, 0.12047075480222702, 0.031702831387519836, 0.9958482980728149, 0.9953082799911499, 0.996059000492096, 0.9874898195266724, 0.4564788341522217, 0.4677037298679352, 0.07483259588479996, 0.08257639408111572, 0.8102808594703674, 0.10322049260139465, 0.9971108436584473, 0.9896857142448425, 0.9962828755378723, 0.9927406907081604, 0.9914477467536926, 0.07024189084768295, 0.483429491519928, 0.29336321353912354, 0.15287941694259644, 0.421346515417099, 0.3848298192024231, 0.1671341210603714, 0.026685278862714767, 0.982319176197052, 0.9965977072715759, 0.9975757002830505, 0.17682966589927673, 0.38175374269485474, 0.35531193017959595, 0.08593590557575226, 0.9991384744644165, 0.32934826612472534, 0.4548734426498413, 0.21625131368637085, 0.05414658412337303, 0.915077269077301, 0.03248795121908188, 0.4539774954319, 0.15342175960540771, 0.3923572897911072, 0.31334343552589417, 0.26678532361984253, 0.2793486416339874, 0.1404133290052414, 0.9959094524383545, 0.992781400680542, 0.9931159019470215, 0.9948635697364807, 0.8019480109214783, 0.11993943899869919, 0.07760787010192871, 0.9983720183372498, 0.9984835386276245, 0.9969378113746643, 0.9977428317070007, 0.23700369894504547, 0.7590523958206177, 0.9960538744926453, 0.29334425926208496, 0.14420290291309357, 0.263713538646698, 0.2992704212665558, 0.9987038969993591, 0.060616634786129, 0.9382400512695312, 0.03953211382031441, 0.9586537480354309, 0.4328991174697876, 0.26223698258399963, 0.208124577999115, 0.09677793085575104, 0.9957955479621887, 0.9945296049118042, 0.997458279132843, 0.04447045177221298, 0.9505559206008911, 0.170126274228096, 0.828978955745697, 0.8387997150421143, 0.07336440682411194, 0.03912768512964249, 0.04890960454940796, 0.3201654851436615, 0.3350569009780884, 0.34548088908195496, 0.44401687383651733, 0.47893956303596497, 0.07649728655815125, 0.09500308334827423, 0.3225928843021393, 0.13676267862319946, 0.44578370451927185], \"Term\": [\"accept\", \"accept\", \"advice\", \"ama\", \"answer\", \"answer\", \"apartment\", \"arab\", \"arab\", \"argument\", \"armenia\", \"armenian\", \"army\", \"atheist\", \"attack\", \"attack\", \"azerbaijani\", \"belief\", \"believe\", \"believe\", \"believe\", \"bible\", \"big\", \"big\", \"big\", \"big\", \"bike\", \"biker\", \"bmw\", \"book\", \"book\", \"bos\", \"buf\", \"building\", \"burn\", \"buy\", \"canada\", \"canada\", \"car\", \"car\", \"catholic\", \"chi\", \"child\", \"child\", \"christ\", \"christian\", \"christianity\", \"church\", \"civilian\", \"claim\", \"claim\", \"coach\", \"come\", \"come\", \"come\", \"come\", \"cop\", \"cost\", \"day\", \"day\", \"day\", \"day\", \"destroy\", \"det\", \"detroit\", \"division\", \"division\", \"division\", \"dod\", \"dog\", \"drink\", \"eat\", \"escape\", \"espn\", \"evidence\", \"exist\", \"existence\", \"fact\", \"fact\", \"fact\", \"faith\", \"fan\", \"fast\", \"final\", \"final\", \"final\", \"find\", \"find\", \"find\", \"fit\", \"foot\", \"force\", \"force\", \"force\", \"frank\", \"friend\", \"friend\", \"game\", \"genocide\", \"get\", \"get\", \"get\", \"get\", \"gm\", \"go\", \"go\", \"go\", \"go\", \"goal\", \"goal\", \"god\", \"government\", \"greece\", \"greek\", \"greek\", \"happen\", \"happen\", \"happen\", \"hell\", \"hell\", \"helmet\", \"hockey\", \"honda\", \"ice\", \"info\", \"insurance\", \"iran\", \"israel\", \"israeli\", \"jesus\", \"jew\", \"jew\", \"kill\", \"law\", \"law\", \"law\", \"leafs\", \"league\", \"leave\", \"leave\", \"leave\", \"leave\", \"lebanese\", \"lebanon\", \"left\", \"life\", \"life\", \"life\", \"light\", \"light\", \"list\", \"list\", \"list\", \"little\", \"little\", \"little\", \"little\", \"live\", \"live\", \"live\", \"look\", \"look\", \"look\", \"look\", \"lord\", \"love\", \"love\", \"mail\", \"man\", \"man\", \"man\", \"marriage\", \"mary\", \"massacre\", \"mean\", \"mean\", \"mean\", \"mean\", \"military\", \"montreal\", \"motorcycle\", \"murder\", \"nature\", \"nazi\", \"need\", \"need\", \"need\", \"need\", \"new\", \"new\", \"new\", \"new\", \"nhl\", \"notice\", \"palestinian\", \"pen\", \"people\", \"people\", \"people\", \"physical\", \"pick\", \"pick\", \"pick\", \"pit\", \"pittsburgh\", \"play\", \"play\", \"play\", \"player\", \"playoff\", \"point\", \"point\", \"point\", \"point\", \"population\", \"post\", \"post\", \"post\", \"post\", \"prayer\", \"press\", \"pull\", \"pull\", \"que\", \"question\", \"question\", \"read\", \"read\", \"read\", \"read\", \"reason\", \"reason\", \"reason\", \"religion\", \"reply\", \"reply\", \"reply\", \"reply\", \"report\", \"report\", \"revelation\", \"ride\", \"rider\", \"russian\", \"russian\", \"sale\", \"say\", \"say\", \"say\", \"say\", \"score\", \"scripture\", \"season\", \"seat\", \"see\", \"see\", \"see\", \"sell\", \"sell\", \"sell\", \"sin\", \"size\", \"soldier\", \"stanley_cup\", \"star\", \"start\", \"start\", \"start\", \"start\", \"state\", \"state\", \"state\", \"state\", \"steal\", \"stl\", \"story\", \"take\", \"take\", \"take\", \"take\", \"team\", \"tell\", \"tell\", \"tell\", \"thank\", \"thank\", \"thank\", \"thing\", \"thing\", \"thing\", \"time\", \"time\", \"time\", \"time\", \"tor\", \"toronto\", \"town\", \"troop\", \"true\", \"true\", \"true\", \"truth\", \"turk\", \"turkey\", \"turkish\", \"turn\", \"turn\", \"type\", \"university\", \"university\", \"university\", \"university\", \"village\", \"war\", \"war\", \"wave\", \"wave\", \"way\", \"way\", \"way\", \"way\", \"weapon\", \"wife\", \"win\", \"wing\", \"wing\", \"woman\", \"woman\", \"word\", \"word\", \"word\", \"word\", \"work\", \"work\", \"work\", \"world\", \"world\", \"world\", \"year\", \"year\", \"year\", \"year\"]}, \"R\": 30, \"lambda.step\": 0.01, \"plot.opts\": {\"xlab\": \"PC1\", \"ylab\": \"PC2\"}, \"topic.order\": [3, 2, 1, 4]};\n",
              "\n",
              "function LDAvis_load_lib(url, callback){\n",
              "  var s = document.createElement('script');\n",
              "  s.src = url;\n",
              "  s.async = true;\n",
              "  s.onreadystatechange = s.onload = callback;\n",
              "  s.onerror = function(){console.warn(\"failed to load library \" + url);};\n",
              "  document.getElementsByTagName(\"head\")[0].appendChild(s);\n",
              "}\n",
              "\n",
              "if(typeof(LDAvis) !== \"undefined\"){\n",
              "   // already loaded: just create the visualization\n",
              "   !function(LDAvis){\n",
              "       new LDAvis(\"#\" + \"ldavis_el14941401863979473688837451264\", ldavis_el14941401863979473688837451264_data);\n",
              "   }(LDAvis);\n",
              "}else if(typeof define === \"function\" && define.amd){\n",
              "   // require.js is available: use it to load d3/LDAvis\n",
              "   require.config({paths: {d3: \"https://cdnjs.cloudflare.com/ajax/libs/d3/3.5.5/d3.min\"}});\n",
              "   require([\"d3\"], function(d3){\n",
              "      window.d3 = d3;\n",
              "      LDAvis_load_lib(\"https://cdn.rawgit.com/bmabey/pyLDAvis/files/ldavis.v1.0.0.js\", function(){\n",
              "        new LDAvis(\"#\" + \"ldavis_el14941401863979473688837451264\", ldavis_el14941401863979473688837451264_data);\n",
              "      });\n",
              "    });\n",
              "}else{\n",
              "    // require.js not available: dynamically load d3 & LDAvis\n",
              "    LDAvis_load_lib(\"https://cdnjs.cloudflare.com/ajax/libs/d3/3.5.5/d3.min.js\", function(){\n",
              "         LDAvis_load_lib(\"https://cdn.rawgit.com/bmabey/pyLDAvis/files/ldavis.v1.0.0.js\", function(){\n",
              "                 new LDAvis(\"#\" + \"ldavis_el14941401863979473688837451264\", ldavis_el14941401863979473688837451264_data);\n",
              "            })\n",
              "         });\n",
              "}\n",
              "</script>"
            ],
            "text/plain": [
              "PreparedData(topic_coordinates=              x         y  topics  cluster       Freq\n",
              "topic                                                \n",
              "2     -0.221622 -0.139462       1        1  35.419151\n",
              "1     -0.158061  0.170929       2        1  27.055088\n",
              "0      0.114154 -0.203938       3        1  21.452145\n",
              "3      0.265528  0.172471       4        1  16.073618, topic_info=     Category         Freq        Term        Total  loglift  logprob\n",
              "1063  Default  1064.000000        team  1064.000000  30.0000  30.0000\n",
              "113   Default  1580.000000         god  1580.000000  29.0000  29.0000\n",
              "594   Default   889.000000        game   889.000000  28.0000  28.0000\n",
              "479   Default   962.000000    armenian   962.000000  27.0000  27.0000\n",
              "1594  Default   606.000000      hockey   606.000000  26.0000  26.0000\n",
              "...       ...          ...         ...          ...      ...      ...\n",
              "78     Topic4   303.119720  university  1012.462280   0.6220  -4.8806\n",
              "501    Topic4   143.968140    division   177.662720   1.6177  -5.6252\n",
              "139    Topic4   217.257278       point   678.796814   0.6888  -5.2137\n",
              "74     Topic4   190.127731        time  1353.147827  -0.1345  -5.3471\n",
              "1337   Topic4   143.789413        pick   200.771301   1.4942  -5.6264\n",
              "\n",
              "[245 rows x 6 columns], token_table=      Topic      Freq    Term\n",
              "term                         \n",
              "80        1  0.936185  accept\n",
              "80        2  0.062136  accept\n",
              "1183      3  0.987136  advice\n",
              "1221      3  0.995302     ama\n",
              "433       1  0.849466  answer\n",
              "...     ...       ...     ...\n",
              "432       4  0.076497   world\n",
              "297       1  0.095003    year\n",
              "297       2  0.322593    year\n",
              "297       3  0.136763    year\n",
              "297       4  0.445784    year\n",
              "\n",
              "[342 rows x 3 columns], R=30, lambda_step=0.01, plot_opts={'xlab': 'PC1', 'ylab': 'PC2'}, topic_order=[3, 2, 1, 4])"
            ]
          },
          "metadata": {
            "tags": []
          },
          "execution_count": 30
        }
      ]
    },
    {
      "cell_type": "markdown",
      "metadata": {
        "colab_type": "text",
        "id": "QVtLbplLnb0o"
      },
      "source": [
        "# The LDA model as a classifier\n",
        "\n",
        "## Using simply the dominant topic as predicted class\n",
        "\n",
        "First we extend our original dataframe with our \"predictions\" (the dominant topic) and the ground truth."
      ]
    },
    {
      "cell_type": "code",
      "metadata": {
        "ExecuteTime": {
          "end_time": "2019-11-26T08:09:45.710534Z",
          "start_time": "2019-11-26T08:09:45.670677Z"
        },
        "colab_type": "code",
        "id": "xkx-4leGnb0q",
        "outputId": "75a571bc-1afc-4922-8f2b-cf30cf1df627",
        "colab": {
          "base_uri": "https://localhost:8080/",
          "height": 204
        }
      },
      "source": [
        "df[\"group_id\"] = df.target_names.map(topic_to_label_mapping)\n",
        "df[\"group_id_predicted\"] = texts_topics_df.topic_no\n",
        "df.head()"
      ],
      "execution_count": 31,
      "outputs": [
        {
          "output_type": "execute_result",
          "data": {
            "text/html": [
              "<div>\n",
              "<style scoped>\n",
              "    .dataframe tbody tr th:only-of-type {\n",
              "        vertical-align: middle;\n",
              "    }\n",
              "\n",
              "    .dataframe tbody tr th {\n",
              "        vertical-align: top;\n",
              "    }\n",
              "\n",
              "    .dataframe thead th {\n",
              "        text-align: right;\n",
              "    }\n",
              "</style>\n",
              "<table border=\"1\" class=\"dataframe\">\n",
              "  <thead>\n",
              "    <tr style=\"text-align: right;\">\n",
              "      <th></th>\n",
              "      <th>index</th>\n",
              "      <th>content</th>\n",
              "      <th>target_names</th>\n",
              "      <th>group_id</th>\n",
              "      <th>group_id_predicted</th>\n",
              "    </tr>\n",
              "  </thead>\n",
              "  <tbody>\n",
              "    <tr>\n",
              "      <th>0</th>\n",
              "      <td>10</td>\n",
              "      <td>From: irwin@cmptrc.lonestar.org (Irwin Arnstei...</td>\n",
              "      <td>rec.motorcycles</td>\n",
              "      <td>0</td>\n",
              "      <td>0</td>\n",
              "    </tr>\n",
              "    <tr>\n",
              "      <th>1</th>\n",
              "      <td>21</td>\n",
              "      <td>From: leunggm@odin.control.utoronto.ca (Gary L...</td>\n",
              "      <td>rec.sport.hockey</td>\n",
              "      <td>3</td>\n",
              "      <td>3</td>\n",
              "    </tr>\n",
              "    <tr>\n",
              "      <th>2</th>\n",
              "      <td>28</td>\n",
              "      <td>From: jonh@david.wheaton.edu (Jonathan Hayward...</td>\n",
              "      <td>soc.religion.christian</td>\n",
              "      <td>2</td>\n",
              "      <td>2</td>\n",
              "    </tr>\n",
              "    <tr>\n",
              "      <th>3</th>\n",
              "      <td>33</td>\n",
              "      <td>From: ayr1@cunixa.cc.columbia.edu (Amir Y Rose...</td>\n",
              "      <td>talk.politics.mideast</td>\n",
              "      <td>1</td>\n",
              "      <td>1</td>\n",
              "    </tr>\n",
              "    <tr>\n",
              "      <th>4</th>\n",
              "      <td>35</td>\n",
              "      <td>From: dchhabra@stpl.ists.ca (Deepak Chhabra)\\n...</td>\n",
              "      <td>rec.sport.hockey</td>\n",
              "      <td>3</td>\n",
              "      <td>0</td>\n",
              "    </tr>\n",
              "  </tbody>\n",
              "</table>\n",
              "</div>"
            ],
            "text/plain": [
              "   index  ... group_id_predicted\n",
              "0     10  ...                  0\n",
              "1     21  ...                  3\n",
              "2     28  ...                  2\n",
              "3     33  ...                  1\n",
              "4     35  ...                  0\n",
              "\n",
              "[5 rows x 5 columns]"
            ]
          },
          "metadata": {
            "tags": []
          },
          "execution_count": 31
        }
      ]
    },
    {
      "cell_type": "markdown",
      "metadata": {
        "colab_type": "text",
        "id": "t7LLwn2xbLxm"
      },
      "source": [
        "Let's see how well we are doing..."
      ]
    },
    {
      "cell_type": "code",
      "metadata": {
        "ExecuteTime": {
          "end_time": "2019-11-26T08:09:48.510804Z",
          "start_time": "2019-11-26T08:09:48.486262Z"
        },
        "colab_type": "code",
        "id": "JtoZf5tzbR9v",
        "outputId": "6939d504-9c83-4eb5-c9f6-c3287c74c820",
        "colab": {
          "base_uri": "https://localhost:8080/",
          "height": 204
        }
      },
      "source": [
        "from sklearn.metrics import classification_report, confusion_matrix\n",
        "print(classification_report(df.group_id, df.group_id_predicted))"
      ],
      "execution_count": 32,
      "outputs": [
        {
          "output_type": "stream",
          "text": [
            "              precision    recall  f1-score   support\n",
            "\n",
            "           0       0.84      1.00      0.91       598\n",
            "           1       0.93      0.49      0.65       564\n",
            "           2       0.67      0.90      0.77       599\n",
            "           3       0.99      0.89      0.94       600\n",
            "\n",
            "    accuracy                           0.83      2361\n",
            "   macro avg       0.86      0.82      0.81      2361\n",
            "weighted avg       0.85      0.83      0.82      2361\n",
            "\n"
          ],
          "name": "stdout"
        }
      ]
    },
    {
      "cell_type": "markdown",
      "metadata": {
        "colab_type": "text",
        "id": "dpliNUvS5z9L"
      },
      "source": [
        "## Using topic probabilities for training a linear classifier\n",
        "\n",
        "The topic probability distributions for documents provided by an LDA model can be useful feature vectors for document classification, e.g., for sentiment analysis. To illustrate this, we train an SVM classifier to predict the original topic of documents based on the LDA topic probabilities. First we add the whole topic distribution to our df."
      ]
    },
    {
      "cell_type": "code",
      "metadata": {
        "ExecuteTime": {
          "end_time": "2019-11-26T08:09:57.719127Z",
          "start_time": "2019-11-26T08:09:57.696695Z"
        },
        "colab_type": "code",
        "id": "QaxFK_fiTZca",
        "outputId": "9354ac51-774d-405c-b3de-d8b883f52b73",
        "colab": {
          "base_uri": "https://localhost:8080/",
          "height": 204
        }
      },
      "source": [
        "df = pd.concat([df, df_topic_probs], axis = 1)\n",
        "df.head()"
      ],
      "execution_count": 33,
      "outputs": [
        {
          "output_type": "execute_result",
          "data": {
            "text/html": [
              "<div>\n",
              "<style scoped>\n",
              "    .dataframe tbody tr th:only-of-type {\n",
              "        vertical-align: middle;\n",
              "    }\n",
              "\n",
              "    .dataframe tbody tr th {\n",
              "        vertical-align: top;\n",
              "    }\n",
              "\n",
              "    .dataframe thead th {\n",
              "        text-align: right;\n",
              "    }\n",
              "</style>\n",
              "<table border=\"1\" class=\"dataframe\">\n",
              "  <thead>\n",
              "    <tr style=\"text-align: right;\">\n",
              "      <th></th>\n",
              "      <th>index</th>\n",
              "      <th>content</th>\n",
              "      <th>target_names</th>\n",
              "      <th>group_id</th>\n",
              "      <th>group_id_predicted</th>\n",
              "      <th>topic_0_prob</th>\n",
              "      <th>topic_1_prob</th>\n",
              "      <th>topic_2_prob</th>\n",
              "      <th>topic_3_prob</th>\n",
              "    </tr>\n",
              "  </thead>\n",
              "  <tbody>\n",
              "    <tr>\n",
              "      <th>0</th>\n",
              "      <td>10</td>\n",
              "      <td>From: irwin@cmptrc.lonestar.org (Irwin Arnstei...</td>\n",
              "      <td>rec.motorcycles</td>\n",
              "      <td>0</td>\n",
              "      <td>0</td>\n",
              "      <td>0.951748</td>\n",
              "      <td>0.034028</td>\n",
              "      <td>0.010362</td>\n",
              "      <td>0.003863</td>\n",
              "    </tr>\n",
              "    <tr>\n",
              "      <th>1</th>\n",
              "      <td>21</td>\n",
              "      <td>From: leunggm@odin.control.utoronto.ca (Gary L...</td>\n",
              "      <td>rec.sport.hockey</td>\n",
              "      <td>3</td>\n",
              "      <td>3</td>\n",
              "      <td>0.067031</td>\n",
              "      <td>0.035139</td>\n",
              "      <td>0.062208</td>\n",
              "      <td>0.835621</td>\n",
              "    </tr>\n",
              "    <tr>\n",
              "      <th>2</th>\n",
              "      <td>28</td>\n",
              "      <td>From: jonh@david.wheaton.edu (Jonathan Hayward...</td>\n",
              "      <td>soc.religion.christian</td>\n",
              "      <td>2</td>\n",
              "      <td>2</td>\n",
              "      <td>0.234086</td>\n",
              "      <td>0.102011</td>\n",
              "      <td>0.662747</td>\n",
              "      <td>0.001156</td>\n",
              "    </tr>\n",
              "    <tr>\n",
              "      <th>3</th>\n",
              "      <td>33</td>\n",
              "      <td>From: ayr1@cunixa.cc.columbia.edu (Amir Y Rose...</td>\n",
              "      <td>talk.politics.mideast</td>\n",
              "      <td>1</td>\n",
              "      <td>1</td>\n",
              "      <td>0.034639</td>\n",
              "      <td>0.690504</td>\n",
              "      <td>0.273944</td>\n",
              "      <td>0.000913</td>\n",
              "    </tr>\n",
              "    <tr>\n",
              "      <th>4</th>\n",
              "      <td>35</td>\n",
              "      <td>From: dchhabra@stpl.ists.ca (Deepak Chhabra)\\n...</td>\n",
              "      <td>rec.sport.hockey</td>\n",
              "      <td>3</td>\n",
              "      <td>0</td>\n",
              "      <td>0.583812</td>\n",
              "      <td>0.046683</td>\n",
              "      <td>0.007587</td>\n",
              "      <td>0.361917</td>\n",
              "    </tr>\n",
              "  </tbody>\n",
              "</table>\n",
              "</div>"
            ],
            "text/plain": [
              "   index  ... topic_3_prob\n",
              "0     10  ...     0.003863\n",
              "1     21  ...     0.835621\n",
              "2     28  ...     0.001156\n",
              "3     33  ...     0.000913\n",
              "4     35  ...     0.361917\n",
              "\n",
              "[5 rows x 9 columns]"
            ]
          },
          "metadata": {
            "tags": []
          },
          "execution_count": 33
        }
      ]
    },
    {
      "cell_type": "markdown",
      "metadata": {
        "colab_type": "text",
        "id": "5eFCK6mgiKhR"
      },
      "source": [
        "We do a train-test split:\n"
      ]
    },
    {
      "cell_type": "code",
      "metadata": {
        "ExecuteTime": {
          "end_time": "2019-11-26T08:09:57.726819Z",
          "start_time": "2019-11-26T08:09:57.721114Z"
        },
        "colab_type": "code",
        "id": "kE0vdwX7ivj2",
        "outputId": "dc530641-a270-4ce0-df07-ac76784ebf82",
        "colab": {
          "base_uri": "https://localhost:8080/",
          "height": 51
        }
      },
      "source": [
        "from sklearn.model_selection import train_test_split\n",
        "df_train, df_valid = train_test_split(df, test_size=0.1)\n",
        "print(\"df_train len:\", len(df_train))\n",
        "print(\"df_valid len:\", len(df_valid))"
      ],
      "execution_count": 34,
      "outputs": [
        {
          "output_type": "stream",
          "text": [
            "df_train len: 2124\n",
            "df_valid len: 237\n"
          ],
          "name": "stdout"
        }
      ]
    },
    {
      "cell_type": "markdown",
      "metadata": {
        "colab_type": "text",
        "id": "zEd5WNREgK7p"
      },
      "source": [
        "And train an SVM classifier on the data"
      ]
    },
    {
      "cell_type": "code",
      "metadata": {
        "ExecuteTime": {
          "end_time": "2019-11-26T08:09:57.764038Z",
          "start_time": "2019-11-26T08:09:57.728363Z"
        },
        "colab_type": "code",
        "id": "AUGW8GcGhaAY",
        "outputId": "5bba2a3b-1ea0-446d-e881-b7a4aac58201",
        "colab": {
          "base_uri": "https://localhost:8080/",
          "height": 85
        }
      },
      "source": [
        "from sklearn.svm import SVC\n",
        "\n",
        "svc = SVC(kernel=\"linear\")\n",
        "\n",
        "svc.fit(df_train[[\"topic_0_prob\", \"topic_1_prob\", \"topic_2_prob\", \"topic_3_prob\"]], df_train.group_id)"
      ],
      "execution_count": 35,
      "outputs": [
        {
          "output_type": "execute_result",
          "data": {
            "text/plain": [
              "SVC(C=1.0, cache_size=200, class_weight=None, coef0=0.0,\n",
              "    decision_function_shape='ovr', degree=3, gamma='auto_deprecated',\n",
              "    kernel='linear', max_iter=-1, probability=False, random_state=None,\n",
              "    shrinking=True, tol=0.001, verbose=False)"
            ]
          },
          "metadata": {
            "tags": []
          },
          "execution_count": 35
        }
      ]
    },
    {
      "cell_type": "code",
      "metadata": {
        "ExecuteTime": {
          "end_time": "2019-11-26T08:09:57.778497Z",
          "start_time": "2019-11-26T08:09:57.766519Z"
        },
        "colab_type": "code",
        "id": "ZXyfTPqSi7f-",
        "outputId": "c754a66a-9026-4a04-dac5-d10ef55478eb",
        "colab": {
          "base_uri": "https://localhost:8080/",
          "height": 204
        }
      },
      "source": [
        "valid_predictions = svc.predict(df_valid[[\"topic_0_prob\", \"topic_1_prob\", \"topic_2_prob\", \"topic_3_prob\"]])\n",
        "\n",
        "print(classification_report(df_valid.group_id, valid_predictions))"
      ],
      "execution_count": 36,
      "outputs": [
        {
          "output_type": "stream",
          "text": [
            "              precision    recall  f1-score   support\n",
            "\n",
            "           0       0.89      0.98      0.94        59\n",
            "           1       0.78      0.78      0.78        51\n",
            "           2       0.84      0.80      0.82        61\n",
            "           3       0.97      0.92      0.95        66\n",
            "\n",
            "    accuracy                           0.88       237\n",
            "   macro avg       0.87      0.87      0.87       237\n",
            "weighted avg       0.88      0.88      0.88       237\n",
            "\n"
          ],
          "name": "stdout"
        }
      ]
    },
    {
      "cell_type": "markdown",
      "metadata": {
        "colab_type": "text",
        "id": "wiAwR2xAwxtK"
      },
      "source": [
        "Looking at the results we can see that we gained 6% accuracy by switching from using simply the dominant topic to an SVM classifier trained explicitly on the original topic/newsgroup labels."
      ]
    }
  ]
}