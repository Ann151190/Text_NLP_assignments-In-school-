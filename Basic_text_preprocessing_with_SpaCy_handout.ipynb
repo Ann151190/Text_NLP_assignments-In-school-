{
  "nbformat": 4,
  "nbformat_minor": 0,
  "metadata": {
    "kernelspec": {
      "display_name": "Python 3",
      "language": "python",
      "name": "python3"
    },
    "language_info": {
      "codemirror_mode": {
        "name": "ipython",
        "version": 3
      },
      "file_extension": ".py",
      "mimetype": "text/x-python",
      "name": "python",
      "nbconvert_exporter": "python",
      "pygments_lexer": "ipython3",
      "version": "3.6.8"
    },
    "toc": {
      "base_numbering": 1,
      "nav_menu": {},
      "number_sections": true,
      "sideBar": true,
      "skip_h1_title": false,
      "title_cell": "Table of Contents",
      "title_sidebar": "Contents",
      "toc_cell": false,
      "toc_position": {},
      "toc_section_display": true,
      "toc_window_display": false
    },
    "varInspector": {
      "cols": {
        "lenName": 16,
        "lenType": 16,
        "lenVar": 40
      },
      "kernels_config": {
        "python": {
          "delete_cmd_postfix": "",
          "delete_cmd_prefix": "del ",
          "library": "var_list.py",
          "varRefreshCmd": "print(var_dic_list())"
        },
        "r": {
          "delete_cmd_postfix": ") ",
          "delete_cmd_prefix": "rm(",
          "library": "var_list.r",
          "varRefreshCmd": "cat(var_dic_list()) "
        }
      },
      "types_to_exclude": [
        "module",
        "function",
        "builtin_function_or_method",
        "instance",
        "_Feature"
      ],
      "window_display": false
    },
    "colab": {
      "name": " Basic_text_preprocessing_with_SpaCy_handout.ipynb",
      "provenance": [],
      "collapsed_sections": []
    }
  },
  "cells": [
    {
      "cell_type": "markdown",
      "metadata": {
        "id": "gW_6RkthfnDN",
        "colab_type": "text"
      },
      "source": [
        "# Using the SpaCy pipeline\n",
        "\n",
        "This task is aiming to demonstrate the tokenization capabilites of [SpaCy](https://spacy.io/), as well as to serve as an introduction to the pipeline's capabilities combined with [rule based matching](https://spacy.io/usage/rule-based-matching).\n",
        "\n",
        "Our goal will be to process the demonstration text, as well as to correct for some peculiarities, like special pronunciation marks, wide-spread abbreviations and foreign language insertions into our text.\n",
        "\n",
        "It is mandatory, to stick to SpaCy based pipeline operations so as to make our analysis reproducible by running the pipeline on other texts presumably coming from the same corpus."
      ]
    },
    {
      "cell_type": "markdown",
      "metadata": {
        "id": "yxisBsasfnDQ",
        "colab_type": "text"
      },
      "source": [
        "## Our demonstration text\n",
        "\n",
        "Original from [Deutsche Sprache](https://de.wikipedia.org/wiki/Deutsche_Sprache) Wikipedia entry - with some modifications."
      ]
    },
    {
      "cell_type": "code",
      "metadata": {
        "ExecuteTime": {
          "end_time": "2019-11-08T11:44:03.801971Z",
          "start_time": "2019-11-08T11:44:03.798661Z"
        },
        "id": "Yv7SxOVUfnDR",
        "colab_type": "code",
        "colab": {}
      },
      "source": [
        "text= '''Die deutsche Sprache bzw. Deutsch ([dɔʏ̯t͡ʃ]; abgekürzt dt. oder dtsch.) ist eine westgermanische Sprache.\n",
        "\n",
        "And this is an English sentence inbetween.\n",
        "\n",
        "Ihr Sprachraum umfasst Deutschland, Österreich, die Deutschschweiz, Liechtenstein, Luxemburg, Ostbelgien, Südtirol, das Elsass und Lothringen sowie Nordschleswig. Außerdem ist sie eine Minderheitensprache in einigen europäischen und außereuropäischen Ländern, z. B. in Rumänien und Südafrika, sowie Nationalsprache im afrikanischen Namibia.'''"
      ],
      "execution_count": 0,
      "outputs": []
    },
    {
      "cell_type": "markdown",
      "metadata": {
        "id": "1S55hRFFfnDU",
        "colab_type": "text"
      },
      "source": [
        "## Basic usage\n",
        "\n",
        "After installing SpaCy, let us demonstrate it's basic usage by analysing our text."
      ]
    },
    {
      "cell_type": "code",
      "metadata": {
        "ExecuteTime": {
          "end_time": "2019-11-08T11:44:04.978496Z",
          "start_time": "2019-11-08T11:44:03.810849Z"
        },
        "id": "SblgYroFfnDW",
        "colab_type": "code",
        "colab": {}
      },
      "source": [
        "%%capture\n",
        "!pip install tabulate\n",
        "!pip install spacy"
      ],
      "execution_count": 0,
      "outputs": []
    },
    {
      "cell_type": "code",
      "metadata": {
        "id": "HegmaQwifnDZ",
        "colab_type": "code",
        "colab": {
          "base_uri": "https://localhost:8080/",
          "height": 156
        },
        "outputId": "af437b91-986e-4e55-a451-eb3b452a6c98"
      },
      "source": [
        "# Ok, we installed SpaCy, but do we have a model for German?\n",
        "# Something has to be done here to get it!\n",
        "\n",
        "!python -m spacy download de"
      ],
      "execution_count": 3,
      "outputs": [
        {
          "output_type": "stream",
          "text": [
            "Requirement already satisfied: de_core_news_sm==2.1.0 from https://github.com/explosion/spacy-models/releases/download/de_core_news_sm-2.1.0/de_core_news_sm-2.1.0.tar.gz#egg=de_core_news_sm==2.1.0 in /usr/local/lib/python3.6/dist-packages (2.1.0)\n",
            "\u001b[38;5;2m✔ Download and installation successful\u001b[0m\n",
            "You can now load the model via spacy.load('de_core_news_sm')\n",
            "\u001b[38;5;2m✔ Linking successful\u001b[0m\n",
            "/usr/local/lib/python3.6/dist-packages/de_core_news_sm -->\n",
            "/usr/local/lib/python3.6/dist-packages/spacy/data/de\n",
            "You can now load the model via spacy.load('de')\n"
          ],
          "name": "stdout"
        }
      ]
    },
    {
      "cell_type": "code",
      "metadata": {
        "ExecuteTime": {
          "end_time": "2019-11-08T11:44:06.365430Z",
          "start_time": "2019-11-08T11:44:04.981233Z"
        },
        "id": "jD4LKsqUfnDc",
        "colab_type": "code",
        "colab": {}
      },
      "source": [
        "# Please do the appropriate imports for SpaCy and it's rule based Matcher class!\n",
        "\n",
        "import spacy\n",
        "from spacy.matcher import Matcher\n",
        "from spacy.symbols import ORTH, POS, NOUN\n",
        "# Please don't forget to instantiate the language model that we will use later on for analysis\n",
        "\n",
        "nlp = spacy.load(\"de\")"
      ],
      "execution_count": 0,
      "outputs": []
    },
    {
      "cell_type": "code",
      "metadata": {
        "ExecuteTime": {
          "end_time": "2019-11-08T11:44:06.385990Z",
          "start_time": "2019-11-08T11:44:06.366784Z"
        },
        "id": "jZ2ezOJjfnDf",
        "colab_type": "code",
        "colab": {}
      },
      "source": [
        "# And please use the model to analyse the text from above!\n",
        "\n",
        "doc=nlp(text)"
      ],
      "execution_count": 0,
      "outputs": []
    },
    {
      "cell_type": "markdown",
      "metadata": {
        "id": "UjhRtU5mfnDh",
        "colab_type": "text"
      },
      "source": [
        "### Helper functions for nice printout\n",
        "\n",
        "We just define some helper functions for nice printout. Nothing to do here, except to observe the ways one can iterate over a corpus or sentence, as well as the nice output of [Tabulate](https://bitbucket.org/astanin/python-tabulate/src/master/). "
      ]
    },
    {
      "cell_type": "code",
      "metadata": {
        "ExecuteTime": {
          "end_time": "2019-11-08T11:44:06.395057Z",
          "start_time": "2019-11-08T11:44:06.387362Z"
        },
        "id": "xL2QaopzfnDi",
        "colab_type": "code",
        "colab": {}
      },
      "source": [
        "from tabulate import tabulate\n",
        "\n",
        "def print_sentences(doc):\n",
        "    for sentence in doc.sents:\n",
        "        print(sentence,\"\\n\")\n",
        "\n",
        "def print_tokens_for_sentence(doc,sentence_num, stopwords=False):\n",
        "    attribs=[]\n",
        "    for token in list(doc.sents)[sentence_num]:\n",
        "        if token.has_extension(\"is_lemma_stop\"):\n",
        "            if stopwords and token._.is_lemma_stop:\n",
        "                pass\n",
        "            else:\n",
        "                attribs.append([token.text, token.lemma_, token.pos_])\n",
        "        else:\n",
        "            attribs.append([token.text, token.lemma_, token.pos_])\n",
        "    print(tabulate(attribs))\n"
      ],
      "execution_count": 0,
      "outputs": []
    },
    {
      "cell_type": "code",
      "metadata": {
        "ExecuteTime": {
          "end_time": "2019-11-08T11:44:06.401099Z",
          "start_time": "2019-11-08T11:44:06.397107Z"
        },
        "id": "Wx5kB3lbfnDl",
        "colab_type": "code",
        "outputId": "ab939dd2-5593-4c97-c205-40330fb45948",
        "colab": {
          "base_uri": "https://localhost:8080/",
          "height": 255
        }
      },
      "source": [
        "print_sentences(doc)"
      ],
      "execution_count": 7,
      "outputs": [
        {
          "output_type": "stream",
          "text": [
            "Die deutsche Sprache bzw. Deutsch ([dɔʏ̯t͡ʃ]; abgekürzt dt. oder dtsch.) ist eine westgermanische Sprache.\n",
            "\n",
            " \n",
            "\n",
            "And this is an \n",
            "\n",
            "English sentence inbetween.\n",
            "\n",
            " \n",
            "\n",
            "Ihr Sprachraum umfasst Deutschland, Österreich, die Deutschschweiz, Liechtenstein, Luxemburg, Ostbelgien, Südtirol, das Elsass und Lothringen sowie Nordschleswig. \n",
            "\n",
            "Außerdem ist sie eine Minderheitensprache in einigen europäischen und außereuropäischen Ländern, z. B. in Rumänien und Südafrika, sowie Nationalsprache im afrikanischen Namibia. \n",
            "\n"
          ],
          "name": "stdout"
        }
      ]
    },
    {
      "cell_type": "code",
      "metadata": {
        "ExecuteTime": {
          "end_time": "2019-11-08T11:44:06.410817Z",
          "start_time": "2019-11-08T11:44:06.404499Z"
        },
        "id": "8XEspy5ifnDp",
        "colab_type": "code",
        "outputId": "c0082eae-6da8-44d8-a36a-b2a31ee0babe",
        "colab": {
          "base_uri": "https://localhost:8080/",
          "height": 476
        }
      },
      "source": [
        "print_tokens_for_sentence(doc,-1)"
      ],
      "execution_count": 8,
      "outputs": [
        {
          "output_type": "stream",
          "text": [
            "-------------------  -------------------  -----\n",
            "Außerdem             Außerdem             ADV\n",
            "ist                  sein                 AUX\n",
            "sie                  ich                  PRON\n",
            "eine                 einen                DET\n",
            "Minderheitensprache  Minderheitensprache  NOUN\n",
            "in                   in                   ADP\n",
            "einigen              einig                DET\n",
            "europäischen         europäisch           ADJ\n",
            "und                  und                  CONJ\n",
            "außereuropäischen    außereuropäisch      ADJ\n",
            "Ländern              Land                 NOUN\n",
            ",                    ,                    PUNCT\n",
            "z.                   z.                   ADP\n",
            "B.                   B.                   NOUN\n",
            "in                   in                   ADP\n",
            "Rumänien             Rumänien             PROPN\n",
            "und                  und                  CONJ\n",
            "Südafrika            Südafrika            PROPN\n",
            ",                    ,                    PUNCT\n",
            "sowie                sowie                CONJ\n",
            "Nationalsprache      Nationalsprache      NOUN\n",
            "im                   im                   ADP\n",
            "afrikanischen        afrikanisch          ADJ\n",
            "Namibia              Namibia              PROPN\n",
            ".                    .                    PUNCT\n",
            "-------------------  -------------------  -----\n"
          ],
          "name": "stdout"
        }
      ]
    },
    {
      "cell_type": "markdown",
      "metadata": {
        "id": "_DASDWRzfnDs",
        "colab_type": "text"
      },
      "source": [
        "## Matching \"zum Beispiel\"\n",
        "\n",
        "We are a bit frustrated, that the standard analysis pipeline does not know, that in German, \"z. B.\" is the abbreviation of \"zum Beispiel\" (like eg. is for \"for example\"), thus we would like to correct this.\n",
        "\n",
        "Our approach is to extend the pipeline and do a matching, whereby we replace the `lemma` form of \"z. B.\" to the appropriate long form.\n",
        "\n",
        "**IMPORTANT** design principle by SpaCy is, that one **always keeps the possibility to restore the original text**, so we are **NOT to modify `token.text`**. In the analysed form, we can do whatever we want.\n",
        "\n",
        "It is typical to add layers to the pipeline which modify the analysis."
      ]
    },
    {
      "cell_type": "markdown",
      "metadata": {
        "id": "JMvEbcwcfnDv",
        "colab_type": "text"
      },
      "source": [
        "For our purposes, we will use rule based matching to achieve our goals.\n",
        "\n",
        "A detailed description on rule based matching in SpaCy can be found [here](https://spacy.io/usage/rule-based-matching), or [here](https://medium.com/@ashiqgiga07/rule-based-matching-with-spacy-295b76ca2b68)"
      ]
    },
    {
      "cell_type": "markdown",
      "metadata": {
        "id": "dNbOYmjdfnDw",
        "colab_type": "text"
      },
      "source": [
        "### Build the matcher\n",
        "\n",
        "With the help of rule based matching we create a matcher that reacts to the presence of \"z. B.\" exactly, then we use this matcher to define a pipeline step, that after matching, replaces the lemmas of the tokens \"z.\" and \"B.\" to  their full written equivalent.  "
      ]
    },
    {
      "cell_type": "code",
      "metadata": {
        "ExecuteTime": {
          "end_time": "2019-11-08T11:44:06.417129Z",
          "start_time": "2019-11-08T11:44:06.412535Z"
        },
        "id": "GVEdF8sLfnDx",
        "colab_type": "code",
        "colab": {}
      },
      "source": [
        "zb_matcher = Matcher(nlp.vocab) # Please instantiate a matcher with the appropriate parameters - think about all the words of the corpus...\n",
        "pattern = [{\"TEXT\": \"z.\"}, {\"TEXT\": \"B.\"}]\n",
        "zb_matcher.add(\"z.B.\", None, pattern)# Please add an appropriate pattern to the matcher to match \"z. B.\"\n",
        "\n",
        "def zb_replacer(doc):\n",
        "    matched_spans = []\n",
        "    # Please use the matcher to get matches!\n",
        "    matches = zb_matcher(doc)\n",
        "    # Plsease iterate over the matches!\n",
        "    for match_id, start, end in matches:\n",
        "        span = doc[start:end] # get the span of text based on the matches coordinates!\n",
        "        matched_spans.append(span)\n",
        "        print(\"ZB MATCH!!!\")\n",
        "\n",
        "    # Please iterate over matched spans\n",
        "    for match_id in matched_spans:  \n",
        "        match_id[0].lemma_ = \"zum\"\n",
        "        match_id[1].lemma_ = \"Beispiel\"\n",
        "        return doc\n",
        "        # And replace their lemmas to the appropriate ones!\n",
        "        # Please observe, that you don't have the ID of the desired lemmas, just the their string form."
      ],
      "execution_count": 0,
      "outputs": []
    },
    {
      "cell_type": "markdown",
      "metadata": {
        "id": "gUCYWXz-fnD0",
        "colab_type": "text"
      },
      "source": [
        "### Register it to the pipeline\n",
        "\n",
        "After creating this processing step, we register it to be part of the pipeline and then run our analysis again."
      ]
    },
    {
      "cell_type": "code",
      "metadata": {
        "ExecuteTime": {
          "end_time": "2019-11-08T11:44:06.421259Z",
          "start_time": "2019-11-08T11:44:06.418628Z"
        },
        "id": "GY6OF469fnD1",
        "colab_type": "code",
        "colab": {}
      },
      "source": [
        "# Plase register the new zb_replacer to the pipeline!\n",
        "# Think about, where to place it!\n",
        "\n",
        "nlp.add_pipe(zb_replacer, first = True)"
      ],
      "execution_count": 0,
      "outputs": []
    },
    {
      "cell_type": "markdown",
      "metadata": {
        "id": "wYWx5TlYfnD4",
        "colab_type": "text"
      },
      "source": [
        "### Re-do the analysis and observe results"
      ]
    },
    {
      "cell_type": "code",
      "metadata": {
        "ExecuteTime": {
          "end_time": "2019-11-08T11:44:06.442000Z",
          "start_time": "2019-11-08T11:44:06.422574Z"
        },
        "id": "1c9Ws_rWfnD8",
        "colab_type": "code",
        "outputId": "1941a027-0dc7-4076-e1cd-7f1f72d93a9e",
        "colab": {
          "base_uri": "https://localhost:8080/",
          "height": 34
        }
      },
      "source": [
        "doc=nlp(text)"
      ],
      "execution_count": 11,
      "outputs": [
        {
          "output_type": "stream",
          "text": [
            "ZB MATCH!!!\n"
          ],
          "name": "stdout"
        }
      ]
    },
    {
      "cell_type": "code",
      "metadata": {
        "ExecuteTime": {
          "end_time": "2019-11-08T11:44:06.448772Z",
          "start_time": "2019-11-08T11:44:06.443720Z"
        },
        "id": "qTd6pLI8fnD_",
        "colab_type": "code",
        "outputId": "0b5191d1-6cc8-47a3-dc95-0a6ef0a2ebeb",
        "colab": {
          "base_uri": "https://localhost:8080/",
          "height": 476
        }
      },
      "source": [
        "print_tokens_for_sentence(doc,-1)"
      ],
      "execution_count": 12,
      "outputs": [
        {
          "output_type": "stream",
          "text": [
            "-------------------  -------------------  -----\n",
            "Außerdem             Außerdem             ADV\n",
            "ist                  sein                 AUX\n",
            "sie                  ich                  PRON\n",
            "eine                 einen                DET\n",
            "Minderheitensprache  Minderheitensprache  NOUN\n",
            "in                   in                   ADP\n",
            "einigen              einig                DET\n",
            "europäischen         europäisch           ADJ\n",
            "und                  und                  CONJ\n",
            "außereuropäischen    außereuropäisch      ADJ\n",
            "Ländern              Land                 NOUN\n",
            ",                    ,                    PUNCT\n",
            "z.                   zum                  ADP\n",
            "B.                   Beispiel             NOUN\n",
            "in                   in                   ADP\n",
            "Rumänien             Rumänien             PROPN\n",
            "und                  und                  CONJ\n",
            "Südafrika            Südafrika            PROPN\n",
            ",                    ,                    PUNCT\n",
            "sowie                sowie                CONJ\n",
            "Nationalsprache      Nationalsprache      NOUN\n",
            "im                   im                   ADP\n",
            "afrikanischen        afrikanisch          ADJ\n",
            "Namibia              Namibia              PROPN\n",
            ".                    .                    PUNCT\n",
            "-------------------  -------------------  -----\n"
          ],
          "name": "stdout"
        }
      ]
    },
    {
      "cell_type": "markdown",
      "metadata": {
        "id": "EFlvVbKwfnED",
        "colab_type": "text"
      },
      "source": [
        "## What are those ugly pronunciation signs doing there?\n",
        "\n",
        "OK, so far so good. Let's observe, what is the problem with the first sentence!"
      ]
    },
    {
      "cell_type": "code",
      "metadata": {
        "ExecuteTime": {
          "end_time": "2019-11-08T11:44:06.473528Z",
          "start_time": "2019-11-08T11:44:06.450123Z"
        },
        "id": "kkDrFu5EfnEE",
        "colab_type": "code",
        "outputId": "6358c88c-e7e2-440c-c0fd-622f0065c043",
        "colab": {
          "base_uri": "https://localhost:8080/",
          "height": 34
        }
      },
      "source": [
        "doc=nlp(text)"
      ],
      "execution_count": 13,
      "outputs": [
        {
          "output_type": "stream",
          "text": [
            "ZB MATCH!!!\n"
          ],
          "name": "stdout"
        }
      ]
    },
    {
      "cell_type": "code",
      "metadata": {
        "ExecuteTime": {
          "end_time": "2019-11-08T11:44:06.484081Z",
          "start_time": "2019-11-08T11:44:06.476136Z"
        },
        "id": "5g8ygkWffnEL",
        "colab_type": "code",
        "outputId": "5977d3b8-94d6-4d73-fe3f-4e351169a988",
        "colab": {
          "base_uri": "https://localhost:8080/",
          "height": 442
        }
      },
      "source": [
        "print_tokens_for_sentence(doc,0)\n"
      ],
      "execution_count": 14,
      "outputs": [
        {
          "output_type": "stream",
          "text": [
            "---------------  ---------------  -----\n",
            "Die              der              DET\n",
            "deutsche         deutsch          ADJ\n",
            "Sprache          Sprache          NOUN\n",
            "bzw.             beziehungsweise  CONJ\n",
            "Deutsch          Deutsch          NOUN\n",
            "(                (                PUNCT\n",
            "[                [                PROPN\n",
            "dɔʏ̯t͡ʃ            dɔʏ̯t͡ʃ            PROPN\n",
            "]                ]                NOUN\n",
            ";                ;                PUNCT\n",
            "abgekürzt        abkürzen         VERB\n",
            "dt               dt               PRON\n",
            ".                .                PUNCT\n",
            "oder             oder             CONJ\n",
            "dtsch            dtsch            ADJ\n",
            ".                .                PUNCT\n",
            ")                )                PUNCT\n",
            "ist              sein             AUX\n",
            "eine             einen            DET\n",
            "westgermanische  westgermanische  ADJ\n",
            "Sprache          Sprache          NOUN\n",
            ".                .                PUNCT\n",
            "                                  SPACE\n",
            "---------------  ---------------  -----\n"
          ],
          "name": "stdout"
        }
      ]
    },
    {
      "cell_type": "markdown",
      "metadata": {
        "id": "R5jhxlKEfnEO",
        "colab_type": "text"
      },
      "source": [
        "As we can see, poor pipeline can not really cope with the pronunciation markings of the phonetic alphabet, and thus thinks, that the signs are representing a foreign proper noun. \n",
        "\n",
        "We would like to remedy this, and since we do expect further texts from the corpus to contain these inserted phonetics, we would like to match, merge and replace."
      ]
    },
    {
      "cell_type": "markdown",
      "metadata": {
        "id": "rmOZHSRFfnEP",
        "colab_type": "text"
      },
      "source": [
        "## Building up matcher for PRONUNCIATION\n",
        "\n",
        "To be more specific, we again first build up a matcher, that aims at the \"square brackets\" markings around the pronunciation. The task is to match everything between square brackets, or to be more specific: **everything that starts with an opening square bracket, and finishes with \";\"**.\n",
        "\n",
        "This matcher can then be used to:\n",
        "\n",
        "1. Merge the resulting matching `span` into one token\n",
        "2. Replace the token's lemma to \"PRONUNCIATION\"\n",
        "\n",
        "For this to be achievable, we have to first register \"PRONUNCIATION\" as part of the vocabulary, moreover mark it as [\"stopword\"](https://en.wikipedia.org/wiki/Stop_words). (More on SpaCy's stopword handling [here](https://medium.com/@makcedward/nlp-pipeline-stop-words-part-5-d6770df8a936)) See below."
      ]
    },
    {
      "cell_type": "code",
      "metadata": {
        "ExecuteTime": {
          "end_time": "2019-11-08T11:44:06.497568Z",
          "start_time": "2019-11-08T11:44:06.486489Z"
        },
        "id": "6C6tmX_tfnEQ",
        "colab_type": "code",
        "colab": {}
      },
      "source": [
        "# Please instantiate and build the matcher as before with the appropriate pattern!\n",
        "# Make it so, that the pattern will match ALL future pronunciations, not just the present one!\n",
        "matcher = Matcher(nlp.vocab) \n",
        "pattern = [{\"TEXT\": \"[\"},{\"TEXT\": \"dɔʏ̯t͡ʃ\"},{\"TEXT\": \"]\"}, {\"TEXT\": \";\"}]\n",
        "matcher.add(\"[dɔʏ̯t͡ʃ];\", None, pattern)\n",
        "\n",
        "\n",
        "# We set the properties for the new word \"PRONUNCIATION\"\n",
        "lex = nlp.vocab['PRONUNCIATION']\n",
        "lex.is_oov = False\n",
        "lex.is_stop = True\n",
        "\n",
        "def pronunciation_replacer(doc):\n",
        "    \n",
        "    # Using the template above, please build a pronunciation replacer, that\n",
        "    # 1. gets the matches\n",
        "    # 2. merges them into one\n",
        "    # 3. Replaces their lemma string and lemma ID\n",
        "    # 4. sets it's POS to \"NOUN\"\n",
        "    matched_pro = []\n",
        "    # Please use the matcher to get matches!\n",
        "    matches = matcher(doc)\n",
        "    # Plsease iterate over the matches!\n",
        "    for match_id, start, end in matches:\n",
        "        span = doc[start:end]\n",
        "        span.merge() # merge the tags to one!\n",
        "        matched_pro.append(span)\n",
        "        print(\"MATCH!!!\")\n",
        "\n",
        "    # Please iterate over matched spans\n",
        "    for match_id in matched_pro:  \n",
        "        lemma_id = doc.vocab.strings[match_id.text]\n",
        "        match_id[0].lemma_ = \"PRONUNCIATION\"\n",
        "        match_id[0].pos_ = \"NOUN\"\n",
        "    return doc\n",
        "\n",
        "\n",
        "nlp.add_pipe(pronunciation_replacer, after=\"zb_replacer\") "
      ],
      "execution_count": 0,
      "outputs": []
    },
    {
      "cell_type": "markdown",
      "metadata": {
        "id": "F4t3lYwIfnET",
        "colab_type": "text"
      },
      "source": [
        "### Observing result"
      ]
    },
    {
      "cell_type": "code",
      "metadata": {
        "ExecuteTime": {
          "end_time": "2019-11-08T11:44:06.623259Z",
          "start_time": "2019-11-08T11:44:06.500096Z"
        },
        "id": "BtjRuLjsfnET",
        "colab_type": "code",
        "outputId": "9d31b1f9-e0fc-44d1-adb6-3c8237dd689d",
        "colab": {
          "base_uri": "https://localhost:8080/",
          "height": 425
        }
      },
      "source": [
        "doc=nlp(text)\n",
        "print_tokens_for_sentence(doc,0)"
      ],
      "execution_count": 16,
      "outputs": [
        {
          "output_type": "stream",
          "text": [
            "ZB MATCH!!!\n",
            "MATCH!!!\n",
            "---------------  ---------------  -----\n",
            "Die              der              DET\n",
            "deutsche         deutsch          ADJ\n",
            "Sprache          Sprache          NOUN\n",
            "bzw.             beziehungsweise  CONJ\n",
            "Deutsch          Deutsch          NOUN\n",
            "(                (                PUNCT\n",
            "[dɔʏ̯t͡ʃ];         PRONUNCIATION    NOUN\n",
            "abgekürzt        abkürzen         VERB\n",
            "dt               dt               PRON\n",
            ".                .                PUNCT\n",
            "oder             oder             CONJ\n",
            "dtsch            dtsch            ADJ\n",
            ".                .                PUNCT\n",
            ")                )                PUNCT\n",
            "ist              sein             AUX\n",
            "eine             einen            DET\n",
            "westgermanische  westgermanische  ADJ\n",
            "Sprache          Sprache          NOUN\n",
            ".                .                PUNCT\n",
            "                                  SPACE\n",
            "---------------  ---------------  -----\n"
          ],
          "name": "stdout"
        }
      ]
    },
    {
      "cell_type": "markdown",
      "metadata": {
        "id": "gW5SQpr2fnEY",
        "colab_type": "text"
      },
      "source": [
        "In the future, we decide, we would not want to include the pronunciation tokens in our view. So we have to mark them as wtopwords."
      ]
    },
    {
      "cell_type": "markdown",
      "metadata": {
        "id": "IM4Ae6Z-fnEb",
        "colab_type": "text"
      },
      "source": [
        "### Registering PRONUNCIATION as a stopword\n",
        "\n",
        "Stopwords are typically those words, which do not contribute to the meaning of the sentence, are just there for syntactic reasons. There is a vague running list of these for languages. We will use and extend the German one in SpaCy.\n"
      ]
    },
    {
      "cell_type": "code",
      "metadata": {
        "ExecuteTime": {
          "end_time": "2019-11-08T11:44:06.627929Z",
          "start_time": "2019-11-08T11:44:06.625286Z"
        },
        "id": "ybaALau0fnEd",
        "colab_type": "code",
        "colab": {}
      },
      "source": [
        "# import stop words from GERMAN language data\n",
        "from spacy.lang.de.stop_words import STOP_WORDS\n",
        "# Add PRONUNCIATION to stopwords\n",
        "STOP_WORDS.add(\"PRONUNCIATION\")"
      ],
      "execution_count": 0,
      "outputs": []
    },
    {
      "cell_type": "markdown",
      "metadata": {
        "id": "Vpskm5APfnEi",
        "colab_type": "text"
      },
      "source": [
        "But since we will only be able to manipulate the lemmas of the pronunciation markings, we would have to let SpaCy know, that - in contrast to the default behavior, where stopwords are filtered on `text` level, we would like to have a new property for words, that is based on `lemma` level stopword filtering.\n",
        "\n",
        "For these we will use extensions!\n",
        "\n",
        "For more info please see [here](https://spacy.io/api/token#set_extension)!"
      ]
    },
    {
      "cell_type": "code",
      "metadata": {
        "ExecuteTime": {
          "end_time": "2019-11-08T11:44:06.635721Z",
          "start_time": "2019-11-08T11:44:06.629472Z"
        },
        "id": "gEp3a80efnEj",
        "colab_type": "code",
        "colab": {}
      },
      "source": [
        "from spacy.tokens import Token\n",
        "\n",
        "# Please define a function (or lambda expression!) that checks if a Token, or its lower case for, \n",
        "# OR it's lemma string is contained it he stopword list above.\n",
        "stop_words_getter = lambda token: token.is_stop or token.lower_ in STOP_WORDS or token.lemma_ in STOP_WORDS\n",
        "\n",
        "# Set the above defined function as a extension for Token under the name \"is_lemma_stop\" as a getter!\n",
        "Token.set_extension('is_lemma_stop', getter=stop_words_getter)"
      ],
      "execution_count": 0,
      "outputs": []
    },
    {
      "cell_type": "code",
      "metadata": {
        "ExecuteTime": {
          "end_time": "2019-11-08T11:44:06.672287Z",
          "start_time": "2019-11-08T11:44:06.637068Z"
        },
        "id": "OtBhhS4xfnEn",
        "colab_type": "code",
        "outputId": "ab58c59c-e697-40b9-b3da-5ce077ff2993",
        "colab": {
          "base_uri": "https://localhost:8080/",
          "height": 51
        }
      },
      "source": [
        "doc=nlp(text)"
      ],
      "execution_count": 19,
      "outputs": [
        {
          "output_type": "stream",
          "text": [
            "ZB MATCH!!!\n",
            "MATCH!!!\n"
          ],
          "name": "stdout"
        }
      ]
    },
    {
      "cell_type": "code",
      "metadata": {
        "ExecuteTime": {
          "end_time": "2019-11-08T11:44:06.677941Z",
          "start_time": "2019-11-08T11:44:06.673660Z"
        },
        "id": "BGOA9fRHfnEq",
        "colab_type": "code",
        "outputId": "aa164d56-985d-4ae5-be6f-744d9b091215",
        "colab": {
          "base_uri": "https://localhost:8080/",
          "height": 306
        }
      },
      "source": [
        "print_tokens_for_sentence(doc,0, stopwords=True)\n",
        "\n",
        "assert len(list(doc.sents)[0]) == 20"
      ],
      "execution_count": 20,
      "outputs": [
        {
          "output_type": "stream",
          "text": [
            "---------------  ---------------  -----\n",
            "deutsche         deutsch          ADJ\n",
            "Sprache          Sprache          NOUN\n",
            "bzw.             beziehungsweise  CONJ\n",
            "Deutsch          Deutsch          NOUN\n",
            "(                (                PUNCT\n",
            "abgekürzt        abkürzen         VERB\n",
            "dt               dt               PRON\n",
            ".                .                PUNCT\n",
            "dtsch            dtsch            ADJ\n",
            ".                .                PUNCT\n",
            ")                )                PUNCT\n",
            "westgermanische  westgermanische  ADJ\n",
            "Sprache          Sprache          NOUN\n",
            ".                .                PUNCT\n",
            "                                  SPACE\n",
            "---------------  ---------------  -----\n"
          ],
          "name": "stdout"
        }
      ]
    },
    {
      "cell_type": "markdown",
      "metadata": {
        "id": "2wJIrNzgfnEv",
        "colab_type": "text"
      },
      "source": [
        "## Language detection\n",
        "\n",
        "We could also observe, that there is some English text inbetween our nice German sentences. We would like to detect foreign sentences and by later processing, ignore / skip them.\n",
        "\n",
        "For this to be achievable, we need some language detection capabilities.\n",
        "\n",
        "Luckily enough, we can make it part of our pipeline via [this extension](#https://spacy.io/universe/project/spacy-langdetect)."
      ]
    },
    {
      "cell_type": "markdown",
      "metadata": {
        "id": "1AS_ai3mfnEw",
        "colab_type": "text"
      },
      "source": [
        "### Standard installation"
      ]
    },
    {
      "cell_type": "code",
      "metadata": {
        "ExecuteTime": {
          "end_time": "2019-11-08T11:44:07.709209Z",
          "start_time": "2019-11-08T11:44:06.679245Z"
        },
        "id": "YMiT0ysefnEx",
        "colab_type": "code",
        "colab": {}
      },
      "source": [
        "%%capture\n",
        "!pip install spacy-langdetect"
      ],
      "execution_count": 0,
      "outputs": []
    },
    {
      "cell_type": "code",
      "metadata": {
        "ExecuteTime": {
          "end_time": "2019-11-08T11:44:07.732209Z",
          "start_time": "2019-11-08T11:44:07.714434Z"
        },
        "id": "VH89YnIHfnEz",
        "colab_type": "code",
        "colab": {}
      },
      "source": [
        "#Please import the language detector!\n",
        "from spacy_langdetect import LanguageDetector"
      ],
      "execution_count": 0,
      "outputs": []
    },
    {
      "cell_type": "markdown",
      "metadata": {
        "id": "exvOrZBWfnE1",
        "colab_type": "text"
      },
      "source": [
        "### Adding language detection to our pipeline"
      ]
    },
    {
      "cell_type": "code",
      "metadata": {
        "ExecuteTime": {
          "end_time": "2019-11-08T11:44:07.736304Z",
          "start_time": "2019-11-08T11:44:07.733828Z"
        },
        "id": "KvaODkoIfnFa",
        "colab_type": "code",
        "colab": {}
      },
      "source": [
        "# Please register it to the pipeline as the final step of processing!\n",
        "nlp.add_pipe(LanguageDetector(), last = True) "
      ],
      "execution_count": 0,
      "outputs": []
    },
    {
      "cell_type": "markdown",
      "metadata": {
        "id": "LabFa7u4fnFc",
        "colab_type": "text"
      },
      "source": [
        "### Observing results"
      ]
    },
    {
      "cell_type": "code",
      "metadata": {
        "ExecuteTime": {
          "end_time": "2019-11-08T11:44:07.776361Z",
          "start_time": "2019-11-08T11:44:07.737797Z"
        },
        "id": "qOJJfnGNfnFd",
        "colab_type": "code",
        "outputId": "e6b6bf02-f635-4617-8c30-93bca3255f49",
        "colab": {
          "base_uri": "https://localhost:8080/",
          "height": 51
        }
      },
      "source": [
        "doc = nlp(text)"
      ],
      "execution_count": 24,
      "outputs": [
        {
          "output_type": "stream",
          "text": [
            "ZB MATCH!!!\n",
            "MATCH!!!\n"
          ],
          "name": "stdout"
        }
      ]
    },
    {
      "cell_type": "code",
      "metadata": {
        "ExecuteTime": {
          "end_time": "2019-11-08T11:44:08.097242Z",
          "start_time": "2019-11-08T11:44:07.780914Z"
        },
        "id": "_Trf9A7QfnFg",
        "colab_type": "code",
        "outputId": "0db4144d-639e-48d0-a3b8-b19e9d993ab2",
        "colab": {
          "base_uri": "https://localhost:8080/",
          "height": 170
        }
      },
      "source": [
        "attribs = []\n",
        "for sentence in doc.sents:\n",
        "    attribs.append([list(sentence)[:5],\"...\", sentence._.language])\n",
        "print(tabulate(attribs))\n",
        "\n",
        "# Please observe how one accesses anextension!!"
      ],
      "execution_count": 25,
      "outputs": [
        {
          "output_type": "stream",
          "text": [
            "-----------------------------------------------  ---  -----------------------------------------------\n",
            "[Die, deutsche, Sprache, bzw., Deutsch]          ...  {'language': 'de', 'score': 0.9999969868093777}\n",
            "[And, this, is, an]                              ...  {'language': 'en', 'score': 0.9999974943159319}\n",
            "[English, sentence, inbetween, .,                ...  {'language': 'en', 'score': 0.7142846100859669}\n",
            "\n",
            "]\n",
            "[Ihr, Sprachraum, umfasst, Deutschland, ,]       ...  {'language': 'de', 'score': 0.999997090026703}\n",
            "[Außerdem, ist, sie, eine, Minderheitensprache]  ...  {'language': 'de', 'score': 0.9999978812017776}\n",
            "-----------------------------------------------  ---  -----------------------------------------------\n"
          ],
          "name": "stdout"
        }
      ]
    },
    {
      "cell_type": "markdown",
      "metadata": {
        "id": "f_AAWkeNfnFj",
        "colab_type": "text"
      },
      "source": [
        "# Creating final generator for cleaned text\n",
        "\n",
        "Typically for a later stage of NLP, we would like to have a generator like function, which allows us to iteratively access the corpus, albeit in it's cleaned and encoded form. Integer encoding (as well as one hot encoding) are quite typical representations of text.\n",
        "\n",
        "In this spirit, we would like to implement a generator, that gives back an **array of lemmas OR lemma IDs for each sentence in the corpus, filtering out non-German sentences and punctuation / space marks**. "
      ]
    },
    {
      "cell_type": "code",
      "metadata": {
        "ExecuteTime": {
          "end_time": "2019-11-08T11:44:08.105282Z",
          "start_time": "2019-11-08T11:44:08.101443Z"
        },
        "id": "nxpu463MfnFk",
        "colab_type": "code",
        "colab": {}
      },
      "source": [
        "# Please implement a generator function that yields the text of the corpus as lists of sentences\n",
        "# Based on the parameters either as a list of strings or a list of IDs\n",
        "# It should filter out non-German sentences\n",
        "# as well as topwords based on lemmas\n",
        "# and punctuation and \"space like\" characters!\n",
        "\n",
        "def sentence_generator(doc, ids=False):\n",
        "  for sentence in doc.sents:\n",
        "    out_sentence=[]\n",
        "    if sentence._.language['language'] == 'de':\n",
        "      for token in sentence:\n",
        "        if not token._.is_lemma_stop and token.pos_ not in {\"PUNCT\",\"SPACE\"}:\n",
        "          if ids:\n",
        "            out_sentence.append(token.lemma)\n",
        "          else:\n",
        "            out_sentence.append(token.lemma_)\n",
        "      yield out_sentence\n"
      ],
      "execution_count": 0,
      "outputs": []
    },
    {
      "cell_type": "code",
      "metadata": {
        "ExecuteTime": {
          "end_time": "2019-11-08T11:44:08.144266Z",
          "start_time": "2019-11-08T11:44:08.106651Z"
        },
        "id": "cUg3q6N4fnFm",
        "colab_type": "code",
        "outputId": "d314c8f9-7254-4153-9f8f-0ed332a41c1f",
        "colab": {
          "base_uri": "https://localhost:8080/",
          "height": 241
        }
      },
      "source": [
        "for i in sentence_generator(doc):\n",
        "    print(i,\"\\n\")\n",
        "    \n",
        "for i in sentence_generator(doc, ids=True):\n",
        "    print(i,\"\\n\")"
      ],
      "execution_count": 66,
      "outputs": [
        {
          "output_type": "stream",
          "text": [
            "['deutsch', 'Sprache', 'beziehungsweise', 'Deutsch', 'abkürzen', 'dt', 'dtsch', 'westgermanische', 'Sprache'] \n",
            "\n",
            "['Sprachraum', 'umfasst', 'Deutschland', 'Österreich', 'Deutschschweiz', 'Liechtenstein', 'Luxemburg', 'Ostbelgien', 'Südtirol', 'Elsass', 'Lothringen', 'Nordschleswig'] \n",
            "\n",
            "['Minderheitensprache', 'einig', 'europäisch', 'außereuropäisch', 'Land', 'Beispiel', 'Rumänien', 'Südafrika', 'Nationalsprache', 'afrikanisch', 'Namibia'] \n",
            "\n",
            "[5968319817064592459, 8431935777423264011, 16143637279988465102, 13347145995516113707, 12068858602874567954, 5135506797272647618, 2552743035069842888, 7654685629011980891, 8431935777423264011] \n",
            "\n",
            "[11854469037278879099, 7289263729939212449, 3491614202785599281, 16047064563126251420, 3469156011154928224, 10833980334450146958, 15216956676957942053, 14493420987399493547, 14425170055224073740, 14854674721094831692, 5682654018506929560, 10694615845175474381] \n",
            "\n",
            "[13853446524293058697, 2130075938147343825, 512110525822973470, 15751849195492229329, 731233208058718707, 176351906757609250, 16018282812866072734, 14398131728093720111, 13884865873598079458, 9226656959411645728, 2911802427415368037] \n",
            "\n"
          ],
          "name": "stdout"
        }
      ]
    }
  ]
}